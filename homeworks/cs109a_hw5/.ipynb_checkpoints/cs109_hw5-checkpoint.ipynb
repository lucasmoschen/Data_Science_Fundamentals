{
 "cells": [
  {
   "cell_type": "markdown",
   "metadata": {},
   "source": [
    "# <img style=\"float: left; padding-right: 10px; width: 45px\" src=\"style/iacs.png\"> S-109A Introduction to Data Science: \n",
    "\n",
    "## Homework 5: Logistic Regression, High Dimensionality and PCA, LDA/QDA\n",
    "\n",
    "\n",
    "<hr style=\"height:2pt\">"
   ]
  },
  {
   "cell_type": "markdown",
   "metadata": {},
   "source": [
    "### INSTRUCTIONS\n",
    "\n",
    "- To submit your assignment follow the instructions given in canvas.\n",
    "- Restart the kernel and run the whole notebook again before you submit. \n",
    "- If you submit individually and you have worked with someone, please include the name of your [one] partner below. \n",
    "\n",
    "Names of people you have worked with goes here: "
   ]
  },
  {
   "cell_type": "markdown",
   "metadata": {},
   "source": [
    "## Student: Lucas Machado Moschen\n",
    "\n",
    "<hr style=\"height:2pt\">"
   ]
  },
  {
   "cell_type": "code",
   "execution_count": 1,
   "metadata": {
    "jupyter": {
     "outputs_hidden": true
    }
   },
   "outputs": [],
   "source": [
    "import numpy as np\n",
    "import pandas as pd\n",
    "\n",
    "import statsmodels.api as sm\n",
    "from statsmodels.api import OLS\n",
    "\n",
    "from sklearn.decomposition import PCA\n",
    "from sklearn.linear_model import LogisticRegression\n",
    "from sklearn.linear_model import LogisticRegressionCV\n",
    "from sklearn.discriminant_analysis import LinearDiscriminantAnalysis\n",
    "from sklearn.discriminant_analysis import QuadraticDiscriminantAnalysis\n",
    "from sklearn.preprocessing import PolynomialFeatures\n",
    "from sklearn.neighbors import KNeighborsClassifier\n",
    "from sklearn.model_selection import cross_val_score\n",
    "from sklearn.metrics import accuracy_score\n",
    "from sklearn.model_selection import KFold\n",
    "from sklearn.linear_model import RidgeCV\n",
    "\n",
    "import math\n",
    "from scipy.special import gamma\n",
    "\n",
    "import matplotlib\n",
    "import matplotlib.pyplot as plt\n",
    "%matplotlib inline\n",
    "\n",
    "import seaborn as sns\n",
    "sns.set()\n",
    "\n",
    "import warnings \n",
    "warnings.filterwarnings(\"ignore\", category=DeprecationWarning) "
   ]
  },
  {
   "cell_type": "markdown",
   "metadata": {},
   "source": [
    "## Cancer Classification from Gene Expressions\n",
    "\n",
    "In this problem, we will build a classification model to distinguish between two related classes of cancer, acute lymphoblastic leukemia (ALL) and acute myeloid leukemia (AML), using gene expression measurements. The data set is provided in the file `dataset_hw5_1.csv`. Each row in this file corresponds to a tumor tissue sample from a patient with one of the two forms of Leukemia. The first column contains the cancer type, with 0 indicating the ALL class and 1 indicating the AML class. Columns 2-7130 contain expression levels of 7129 genes recorded from each tissue sample. \n",
    "\n",
    "In the following questions, we will use linear and logistic regression to build a classification models for this data set. We will also use Principal Components Analysis (PCA) to visualize the data and to reduce its dimensions. \n",
    "\n"
   ]
  },
  {
   "cell_type": "markdown",
   "metadata": {},
   "source": [
    "## Question 1: Data Exploration\n",
    "\n",
    "1. First step is to  split  the observations into an approximate 50-50 train-test split.  Below is some code to do this for you (we want to make sure everyone has the same splits).\n",
    "\n",
    "2. Take a peek at your training set: you should notice the severe differences in the measurements from one gene to the next (some are negative, some hover around zero, and some are well into the thousands).  To account for these differences in scale and variability, normalize each predictor to vary between 0 and 1.\n",
    "\n",
    "3. Notice that the results training set contains more predictors than observations. Do you foresee a problem in fitting a classification model to such a data set?\n",
    "\n",
    "4. Lets explore a few of the genes and see how well they discriminate between cancer classes. Create a single figure with four subplots arranged in a 2x2 grid. Consider the following four genes: `D29963_at`, `M23161_at`, `hum_alu_at`, and `AFFX-PheX-5_at`. For each gene overlay two histograms of the gene expression values on one of the subplots, one histogram for each cancer type. Does it appear that any of these genes discriminate between the two classes well? How are you able to tell?\n",
    "\n",
    "5. Since our data has dimensions that are not easily visualizable, we want to reduce the dimensionality of the data to make it easier to visualize. Using PCA, find the top two principal components for the gene expression data. Generate a scatter plot using these principal components, highlighting the two cancer types in different colors. How well do the top two principal components discriminate between the two classes? How much of the variance within the data do these two principal components explain?"
   ]
  },
  {
   "cell_type": "markdown",
   "metadata": {},
   "source": [
    "#### Answers:\n",
    "**1.1:** First step is to split the observations into an approximate 50-50 train-test split. Below is some code to do this for you (we want to make sure everyone has the same splits)."
   ]
  },
  {
   "cell_type": "code",
   "execution_count": 2,
   "metadata": {
    "jupyter": {
     "outputs_hidden": true
    }
   },
   "outputs": [],
   "source": [
    "np.random.seed(9002)\n",
    "df = pd.read_csv('data/dataset_hw5_1.csv')\n",
    "msk = np.random.rand(len(df)) < 0.5\n",
    "data_train = df[msk]\n",
    "data_test = df[~msk]"
   ]
  },
  {
   "cell_type": "markdown",
   "metadata": {},
   "source": [
    "**1.2:** Take a peek at your training set: you should notice the severe differences in the measurements from one gene to the next (some are negative, some hover around zero, and some are well into the thousands).  To account for these differences in scale and variability, normalize each predictor to vary between 0 and 1.\n"
   ]
  },
  {
   "cell_type": "code",
   "execution_count": 3,
   "metadata": {
    "jupyter": {
     "outputs_hidden": true
    }
   },
   "outputs": [
    {
     "data": {
      "text/html": [
       "<div>\n",
       "<style scoped>\n",
       "    .dataframe tbody tr th:only-of-type {\n",
       "        vertical-align: middle;\n",
       "    }\n",
       "\n",
       "    .dataframe tbody tr th {\n",
       "        vertical-align: top;\n",
       "    }\n",
       "\n",
       "    .dataframe thead th {\n",
       "        text-align: right;\n",
       "    }\n",
       "</style>\n",
       "<table border=\"1\" class=\"dataframe\">\n",
       "  <thead>\n",
       "    <tr style=\"text-align: right;\">\n",
       "      <th></th>\n",
       "      <th>Cancer_type</th>\n",
       "      <th>AFFX-BioB-5_at</th>\n",
       "      <th>AFFX-BioB-M_at</th>\n",
       "      <th>AFFX-BioB-3_at</th>\n",
       "      <th>AFFX-BioC-5_at</th>\n",
       "      <th>AFFX-BioC-3_at</th>\n",
       "      <th>AFFX-BioDn-5_at</th>\n",
       "      <th>AFFX-BioDn-3_at</th>\n",
       "      <th>AFFX-CreX-5_at</th>\n",
       "      <th>AFFX-CreX-3_at</th>\n",
       "    </tr>\n",
       "  </thead>\n",
       "  <tbody>\n",
       "    <tr>\n",
       "      <th>count</th>\n",
       "      <td>40.00000</td>\n",
       "      <td>40.000000</td>\n",
       "      <td>40.000000</td>\n",
       "      <td>40.000000</td>\n",
       "      <td>40.000000</td>\n",
       "      <td>40.000000</td>\n",
       "      <td>40.000000</td>\n",
       "      <td>40.000000</td>\n",
       "      <td>40.00000</td>\n",
       "      <td>40.000000</td>\n",
       "    </tr>\n",
       "    <tr>\n",
       "      <th>mean</th>\n",
       "      <td>0.37500</td>\n",
       "      <td>-116.125000</td>\n",
       "      <td>-163.350000</td>\n",
       "      <td>-9.125000</td>\n",
       "      <td>209.075000</td>\n",
       "      <td>-250.325000</td>\n",
       "      <td>-379.925000</td>\n",
       "      <td>-118.775000</td>\n",
       "      <td>-195.42500</td>\n",
       "      <td>82.850000</td>\n",
       "    </tr>\n",
       "    <tr>\n",
       "      <th>std</th>\n",
       "      <td>0.49029</td>\n",
       "      <td>102.783364</td>\n",
       "      <td>95.437871</td>\n",
       "      <td>101.998539</td>\n",
       "      <td>111.000205</td>\n",
       "      <td>107.218776</td>\n",
       "      <td>123.026449</td>\n",
       "      <td>304.307494</td>\n",
       "      <td>100.91654</td>\n",
       "      <td>99.683743</td>\n",
       "    </tr>\n",
       "    <tr>\n",
       "      <th>min</th>\n",
       "      <td>0.00000</td>\n",
       "      <td>-476.000000</td>\n",
       "      <td>-531.000000</td>\n",
       "      <td>-168.000000</td>\n",
       "      <td>-24.000000</td>\n",
       "      <td>-496.000000</td>\n",
       "      <td>-696.000000</td>\n",
       "      <td>-1038.000000</td>\n",
       "      <td>-452.00000</td>\n",
       "      <td>-148.000000</td>\n",
       "    </tr>\n",
       "    <tr>\n",
       "      <th>25%</th>\n",
       "      <td>0.00000</td>\n",
       "      <td>-140.750000</td>\n",
       "      <td>-208.500000</td>\n",
       "      <td>-81.250000</td>\n",
       "      <td>124.250000</td>\n",
       "      <td>-316.500000</td>\n",
       "      <td>-461.750000</td>\n",
       "      <td>-269.250000</td>\n",
       "      <td>-238.50000</td>\n",
       "      <td>-0.250000</td>\n",
       "    </tr>\n",
       "    <tr>\n",
       "      <th>50%</th>\n",
       "      <td>0.00000</td>\n",
       "      <td>-109.000000</td>\n",
       "      <td>-150.000000</td>\n",
       "      <td>-29.000000</td>\n",
       "      <td>228.000000</td>\n",
       "      <td>-225.000000</td>\n",
       "      <td>-384.500000</td>\n",
       "      <td>-77.000000</td>\n",
       "      <td>-172.00000</td>\n",
       "      <td>99.000000</td>\n",
       "    </tr>\n",
       "    <tr>\n",
       "      <th>75%</th>\n",
       "      <td>1.00000</td>\n",
       "      <td>-64.750000</td>\n",
       "      <td>-99.500000</td>\n",
       "      <td>47.000000</td>\n",
       "      <td>303.750000</td>\n",
       "      <td>-178.750000</td>\n",
       "      <td>-286.250000</td>\n",
       "      <td>20.500000</td>\n",
       "      <td>-125.75000</td>\n",
       "      <td>164.500000</td>\n",
       "    </tr>\n",
       "    <tr>\n",
       "      <th>max</th>\n",
       "      <td>1.00000</td>\n",
       "      <td>86.000000</td>\n",
       "      <td>-20.000000</td>\n",
       "      <td>262.000000</td>\n",
       "      <td>431.000000</td>\n",
       "      <td>-32.000000</td>\n",
       "      <td>-122.000000</td>\n",
       "      <td>367.000000</td>\n",
       "      <td>-11.00000</td>\n",
       "      <td>283.000000</td>\n",
       "    </tr>\n",
       "  </tbody>\n",
       "</table>\n",
       "</div>"
      ],
      "text/plain": [
       "       Cancer_type  AFFX-BioB-5_at  AFFX-BioB-M_at  AFFX-BioB-3_at  \\\n",
       "count     40.00000       40.000000       40.000000       40.000000   \n",
       "mean       0.37500     -116.125000     -163.350000       -9.125000   \n",
       "std        0.49029      102.783364       95.437871      101.998539   \n",
       "min        0.00000     -476.000000     -531.000000     -168.000000   \n",
       "25%        0.00000     -140.750000     -208.500000      -81.250000   \n",
       "50%        0.00000     -109.000000     -150.000000      -29.000000   \n",
       "75%        1.00000      -64.750000      -99.500000       47.000000   \n",
       "max        1.00000       86.000000      -20.000000      262.000000   \n",
       "\n",
       "       AFFX-BioC-5_at  AFFX-BioC-3_at  AFFX-BioDn-5_at  AFFX-BioDn-3_at  \\\n",
       "count       40.000000       40.000000        40.000000        40.000000   \n",
       "mean       209.075000     -250.325000      -379.925000      -118.775000   \n",
       "std        111.000205      107.218776       123.026449       304.307494   \n",
       "min        -24.000000     -496.000000      -696.000000     -1038.000000   \n",
       "25%        124.250000     -316.500000      -461.750000      -269.250000   \n",
       "50%        228.000000     -225.000000      -384.500000       -77.000000   \n",
       "75%        303.750000     -178.750000      -286.250000        20.500000   \n",
       "max        431.000000      -32.000000      -122.000000       367.000000   \n",
       "\n",
       "       AFFX-CreX-5_at  AFFX-CreX-3_at  \n",
       "count        40.00000       40.000000  \n",
       "mean       -195.42500       82.850000  \n",
       "std         100.91654       99.683743  \n",
       "min        -452.00000     -148.000000  \n",
       "25%        -238.50000       -0.250000  \n",
       "50%        -172.00000       99.000000  \n",
       "75%        -125.75000      164.500000  \n",
       "max         -11.00000      283.000000  "
      ]
     },
     "metadata": {},
     "output_type": "display_data"
    }
   ],
   "source": [
    "# Displaying the first ten \n",
    "display(data_train[data_train.columns[0:10]].describe())"
   ]
  },
  {
   "cell_type": "code",
   "execution_count": 4,
   "metadata": {},
   "outputs": [],
   "source": [
    "data_min = data_train.min(axis = 0)\n",
    "data_max = data_train.max(axis = 0)\n",
    "\n",
    "data_train_normalized = data_train.apply(lambda x: (x - data_min)/(data_max - data_min), axis = 1)\n",
    "data_test_normalized = data_test.apply(lambda x: (x - data_min)/(data_max - data_min), axis = 1)"
   ]
  },
  {
   "cell_type": "markdown",
   "metadata": {},
   "source": [
    "**1.3:** Notice that the results training set contains more predictors than observations. Do you foresee a problem in fitting a classification model to such a data set?\n"
   ]
  },
  {
   "cell_type": "markdown",
   "metadata": {},
   "source": [
    "Your answer here\n",
    "\n",
    "Yes! We have a problem with high dimensionality. So, we can have problems with multicollinearity (so many variables that it's possible that two of them are strong correlated) and overfitting (we have p predictors and n < p dots, it's possible, though, a curve pass over all points). "
   ]
  },
  {
   "cell_type": "markdown",
   "metadata": {},
   "source": [
    "**1.4:** Lets explore a few of the genes and see how well they discriminate between cancer classes. Create a single figure with four subplots arranged in a 2x2 grid. Consider the following four genes: `D29963_at`, `M23161_at`, `hum_alu_at`, and `AFFX-PheX-5_at`. For each gene overlay two histograms of the gene expression values on one of the subplots, one histogram for each cancer type. Does it appear that any of these genes discriminate between the two classes well? How are you able to tell?"
   ]
  },
  {
   "cell_type": "code",
   "execution_count": 5,
   "metadata": {
    "jupyter": {
     "outputs_hidden": true
    }
   },
   "outputs": [
    {
     "data": {
      "image/png": "[encoded data removed]",
      "text/plain": [
       "<Figure size 864x864 with 4 Axes>"
      ]
     },
     "metadata": {
      "needs_background": "light"
     },
     "output_type": "display_data"
    }
   ],
   "source": [
    "# your code here\n",
    "fig, ax = plt.subplots(2,2, figsize = (12, 12))\n",
    "genes_considered = ['D29963_at', 'M23161_at', 'hum_alu_at', 'AFFX-PheX-5_at']\n",
    "\n",
    "for index, gene in enumerate(genes_considered):\n",
    "\n",
    "    i = int(index/2)\n",
    "    j = index % 2\n",
    "    sns.distplot(data_train_normalized[data_train_normalized.Cancer_type == 1][gene], ax = ax[i][j], \n",
    "                 color = 'darkred', label = 'Type 1', kde = False, bins = 5)\n",
    "    sns.distplot(data_train_normalized[data_train_normalized.Cancer_type == 0][gene], ax = ax[i][j], \n",
    "                 color = 'darkblue', label = 'Type 0', kde = False)\n",
    "    ax[i][j].legend()\n",
    "    ax[i][j].set_title(gene + ' comparison')\n",
    "\n",
    "fig.suptitle('Genes histograms', fontsize = 15)\n",
    "plt.show()"
   ]
  },
  {
   "cell_type": "markdown",
   "metadata": {},
   "source": [
    "Your answer here\n",
    "\n",
    "It seems the gene in `ax[0][0]` indicates that lower values tends to be type 0 and bigger values tends to be type 1. if the gene in `ax[0][1]`is higher, the type is 0 in general. The other seem more confuse."
   ]
  },
  {
   "cell_type": "markdown",
   "metadata": {},
   "source": [
    "**1.5:** Since our data has dimensions that are not easily visualizable, we want to reduce the dimensionality of the data to make it easier to visualize. Using PCA, find the top two principal components for the gene expression data. Generate a scatter plot using these principal components, highlighting the two cancer types in different colors. How well do the top two principal components discriminate between the two classes? How much of the variance within the data do these two principal components explain?"
   ]
  },
  {
   "cell_type": "code",
   "execution_count": 6,
   "metadata": {
    "jupyter": {
     "outputs_hidden": true
    },
    "tags": []
   },
   "outputs": [
    {
     "data": {
      "image/png": "[encoded data removed]",
      "text/plain": [
       "<Figure size 432x288 with 1 Axes>"
      ]
     },
     "metadata": {
      "needs_background": "light"
     },
     "output_type": "display_data"
    }
   ],
   "source": [
    "# your code here\n",
    "pca_data = PCA(n_components=2).fit(data_train_normalized)\n",
    "\n",
    "data_2d = pca_data.transform(data_train_normalized)\n",
    "\n",
    "\n",
    "# and we loop over the different groups\n",
    "for cancer_type in [0,1]:\n",
    "    data_2d_ct = data_2d[data_train_normalized.Cancer_type == cancer_type]\n",
    "    plt.scatter(data_2d_ct[:,0], data_2d_ct[:,1], c = ['r','b'][cancer_type], label = 'Tipo ' + str(cancer_type))\n",
    "\n",
    "# all plots need labels\n",
    "plt.title('Projection in R^2')\n",
    "plt.xlabel(\"PCA Dimension 1\")\n",
    "plt.ylabel(\"PCA Dimention 2\")\n",
    "plt.legend();"
   ]
  },
  {
   "cell_type": "code",
   "execution_count": 7,
   "metadata": {
    "tags": []
   },
   "outputs": [
    {
     "name": "stdout",
     "output_type": "stream",
     "text": [
      "The proportional variance explained is 0.273\n"
     ]
    }
   ],
   "source": [
    "print('The proportional variance explained is {:.3f}'.format(sum(pca_data.explained_variance_ratio_)))"
   ]
  },
  {
   "cell_type": "markdown",
   "metadata": {},
   "source": [
    "Your answer here\n",
    "\n",
    "There is difference because the blue ones tend to be in the bottom corner. However the red ones are spread. But it seems a good separation.\n"
   ]
  },
  {
   "cell_type": "markdown",
   "metadata": {},
   "source": [
    "## Question 2: Linear Regression vs. Logistic Regression\n",
    "\n",
    "In class we discussed how to use both linear regression and logistic regression for classification. For this question, you will work with a single gene predictor, `D29963_at`, to explore these two methods.\n",
    "\n",
    "1. Fit a simple linear regression model to the training set using the single gene predictor `D29963_at`. We could interpret the scores predicted by the regression model interpreted for a patient as an estimate of the probability that the patient has `Cancer_type`=1. Is there a problem with this interpretation?\n",
    "\n",
    "2. The fitted linear regression model can be converted to a classification model (i.e. a model that predicts one of two binary labels 0 or 1) by classifying patients with predicted score greater than 0.5 into `Cancer_type`=1, and the others into the `Cancer_type`=0. Evaluate the classification accuracy (1 - misclassification rate) of the obtained classification model on both the training and test sets.\n",
    "\n",
    "3. Next, fit a simple logistic regression model to the training set. How do the training and test classification accuracies of this model compare with the linear regression model? Remember, you need to set the regularization parameter for sklearn's logistic regression function to be a very large value in order to not regularize (use 'C=100000').\n",
    "\n",
    "4. Plot the quantitative output from the linear regression model and the probabilistic output from the logistic regression model (on the training set points) as a function of the gene predictor. Also, display the true binary response for the training set points in the same plot. Based on these plots, does one of the models appear better suited for binary classification than the other? Explain."
   ]
  },
  {
   "cell_type": "markdown",
   "metadata": {},
   "source": [
    "#### Answers: \n",
    "\n",
    "**2.1:** Fit a simple linear regression model to the training set using the single gene predictor `D29963_at`. We could interpret the scores predicted by the regression model interpreted for a patient as an estimate of the probability that the patient has `Cancer_type`=1. Is there a problem with this interpretation?\n"
   ]
  },
  {
   "cell_type": "code",
   "execution_count": 8,
   "metadata": {
    "jupyter": {
     "outputs_hidden": true
    }
   },
   "outputs": [
    {
     "data": {
      "text/html": [
       "<table class=\"simpletable\">\n",
       "<caption>OLS Regression Results</caption>\n",
       "<tr>\n",
       "  <th>Dep. Variable:</th>       <td>Cancer_type</td>   <th>  R-squared:         </th> <td>   0.329</td>\n",
       "</tr>\n",
       "<tr>\n",
       "  <th>Model:</th>                   <td>OLS</td>       <th>  Adj. R-squared:    </th> <td>   0.311</td>\n",
       "</tr>\n",
       "<tr>\n",
       "  <th>Method:</th>             <td>Least Squares</td>  <th>  F-statistic:       </th> <td>   18.61</td>\n",
       "</tr>\n",
       "<tr>\n",
       "  <th>Date:</th>             <td>Fri, 14 Aug 2020</td> <th>  Prob (F-statistic):</th> <td>0.000110</td>\n",
       "</tr>\n",
       "<tr>\n",
       "  <th>Time:</th>                 <td>01:03:12</td>     <th>  Log-Likelihood:    </th> <td> -19.769</td>\n",
       "</tr>\n",
       "<tr>\n",
       "  <th>No. Observations:</th>      <td>    40</td>      <th>  AIC:               </th> <td>   43.54</td>\n",
       "</tr>\n",
       "<tr>\n",
       "  <th>Df Residuals:</th>          <td>    38</td>      <th>  BIC:               </th> <td>   46.92</td>\n",
       "</tr>\n",
       "<tr>\n",
       "  <th>Df Model:</th>              <td>     1</td>      <th>                     </th>     <td> </td>   \n",
       "</tr>\n",
       "<tr>\n",
       "  <th>Covariance Type:</th>      <td>nonrobust</td>    <th>                     </th>     <td> </td>   \n",
       "</tr>\n",
       "</table>\n",
       "<table class=\"simpletable\">\n",
       "<tr>\n",
       "      <td></td>         <th>coef</th>     <th>std err</th>      <th>t</th>      <th>P>|t|</th>  <th>[0.025</th>    <th>0.975]</th>  \n",
       "</tr>\n",
       "<tr>\n",
       "  <th>const</th>     <td>   -0.2978</td> <td>    0.169</td> <td>   -1.765</td> <td> 0.086</td> <td>   -0.639</td> <td>    0.044</td>\n",
       "</tr>\n",
       "<tr>\n",
       "  <th>D29963_at</th> <td>    0.0006</td> <td>    0.000</td> <td>    4.314</td> <td> 0.000</td> <td>    0.000</td> <td>    0.001</td>\n",
       "</tr>\n",
       "</table>\n",
       "<table class=\"simpletable\">\n",
       "<tr>\n",
       "  <th>Omnibus:</th>       <td> 5.833</td> <th>  Durbin-Watson:     </th> <td>   0.838</td>\n",
       "</tr>\n",
       "<tr>\n",
       "  <th>Prob(Omnibus):</th> <td> 0.054</td> <th>  Jarque-Bera (JB):  </th> <td>   5.011</td>\n",
       "</tr>\n",
       "<tr>\n",
       "  <th>Skew:</th>          <td> 0.775</td> <th>  Prob(JB):          </th> <td>  0.0816</td>\n",
       "</tr>\n",
       "<tr>\n",
       "  <th>Kurtosis:</th>      <td> 2.222</td> <th>  Cond. No.          </th> <td>3.18e+03</td>\n",
       "</tr>\n",
       "</table><br/><br/>Warnings:<br/>[1] Standard Errors assume that the covariance matrix of the errors is correctly specified.<br/>[2] The condition number is large, 3.18e+03. This might indicate that there are<br/>strong multicollinearity or other numerical problems."
      ],
      "text/plain": [
       "<class 'statsmodels.iolib.summary.Summary'>\n",
       "\"\"\"\n",
       "                            OLS Regression Results                            \n",
       "==============================================================================\n",
       "Dep. Variable:            Cancer_type   R-squared:                       0.329\n",
       "Model:                            OLS   Adj. R-squared:                  0.311\n",
       "Method:                 Least Squares   F-statistic:                     18.61\n",
       "Date:                Fri, 14 Aug 2020   Prob (F-statistic):           0.000110\n",
       "Time:                        01:03:12   Log-Likelihood:                -19.769\n",
       "No. Observations:                  40   AIC:                             43.54\n",
       "Df Residuals:                      38   BIC:                             46.92\n",
       "Df Model:                           1                                         \n",
       "Covariance Type:            nonrobust                                         \n",
       "==============================================================================\n",
       "                 coef    std err          t      P>|t|      [0.025      0.975]\n",
       "------------------------------------------------------------------------------\n",
       "const         -0.2978      0.169     -1.765      0.086      -0.639       0.044\n",
       "D29963_at      0.0006      0.000      4.314      0.000       0.000       0.001\n",
       "==============================================================================\n",
       "Omnibus:                        5.833   Durbin-Watson:                   0.838\n",
       "Prob(Omnibus):                  0.054   Jarque-Bera (JB):                5.011\n",
       "Skew:                           0.775   Prob(JB):                       0.0816\n",
       "Kurtosis:                       2.222   Cond. No.                     3.18e+03\n",
       "==============================================================================\n",
       "\n",
       "Warnings:\n",
       "[1] Standard Errors assume that the covariance matrix of the errors is correctly specified.\n",
       "[2] The condition number is large, 3.18e+03. This might indicate that there are\n",
       "strong multicollinearity or other numerical problems.\n",
       "\"\"\""
      ]
     },
     "execution_count": 8,
     "metadata": {},
     "output_type": "execute_result"
    }
   ],
   "source": [
    "# your code here\n",
    "x_train = sm.add_constant(data_train[['D29963_at']])\n",
    "x_test = sm.add_constant(data_test[['D29963_at']])\n",
    "y_train = data_train['Cancer_type']\n",
    "y_test = data_test['Cancer_type']\n",
    "\n",
    "linear_model =  OLS(y_train, x_train).fit()\n",
    "linear_model.summary()"
   ]
  },
  {
   "cell_type": "markdown",
   "metadata": {},
   "source": [
    "Your answer here\n",
    "\n",
    "Yes, we can a value greater then $1$ to a probability using this. We can end by creating another category depending the way we score also. "
   ]
  },
  {
   "cell_type": "markdown",
   "metadata": {},
   "source": [
    "**2.2:** The fitted linear regression model can be converted to a classification model (i.e. a model that predicts one of two binary labels 0 or 1) by classifying patients with predicted score greater than 0.5 into `Cancer_type`=1, and the others into the `Cancer_type`=0. Evaluate the classification accuracy (1 - misclassification rate) of the obtained classification model on both the training and test sets.\n"
   ]
  },
  {
   "cell_type": "code",
   "execution_count": 9,
   "metadata": {
    "jupyter": {
     "outputs_hidden": true
    },
    "tags": []
   },
   "outputs": [
    {
     "name": "stdout",
     "output_type": "stream",
     "text": [
      "Linear Regression\n",
      "-----------------\n",
      "The classification accurary on the train data: 0.8000\n",
      "The classification accurary on the test data: 0.7576\n"
     ]
    }
   ],
   "source": [
    "# your code here\n",
    "y_train_pred = np.round(linear_model.predict(x_train))\n",
    "y_test_pred = np.round(linear_model.predict(x_test))\n",
    "\n",
    "print('Linear Regression')\n",
    "print('-----------------')\n",
    "print('The classification accurary on the train data: {:.4f}'.format(accuracy_score(y_train, y_train_pred)))\n",
    "print('The classification accurary on the test data: {:.4f}'.format(accuracy_score(y_test, y_test_pred)))"
   ]
  },
  {
   "cell_type": "markdown",
   "metadata": {},
   "source": [
    "**2.3:** Next, fit a simple logistic regression model to the training set. How do the training and test classification accuracies of this model compare with the linear regression model? Remember, you need to set the regularization parameter for sklearn's logistic regression function to be a very large value in order to not regularize (use 'C=100000')."
   ]
  },
  {
   "cell_type": "code",
   "execution_count": 10,
   "metadata": {
    "jupyter": {
     "outputs_hidden": true
    },
    "tags": []
   },
   "outputs": [
    {
     "name": "stdout",
     "output_type": "stream",
     "text": [
      "Logistic Regression: C = 100000\n",
      "-------------------------------\n",
      "The classification accurary on the train data: 0.8000\n",
      "The classification accurary on the test data: 0.7576\n",
      "\n"
     ]
    }
   ],
   "source": [
    "# your code here\n",
    "logistic_model = LogisticRegression(C = 100000, solver = 'lbfgs').fit(x_train, y_train)\n",
    "\n",
    "y_train_pred = logistic_model.predict(x_train)\n",
    "y_test_pred = logistic_model.predict(x_test)\n",
    "\n",
    "print('Logistic Regression: C = 100000')\n",
    "print('-------------------------------')\n",
    "print('The classification accurary on the train data: {:.4f}'.format(accuracy_score(y_train, y_train_pred)))\n",
    "print('The classification accurary on the test data: {:.4f}'.format(accuracy_score(y_test, y_test_pred)))\n",
    "print('')"
   ]
  },
  {
   "cell_type": "markdown",
   "metadata": {},
   "source": [
    "Your answer here\n",
    "\n",
    "It was the same, counter intuitively. "
   ]
  },
  {
   "cell_type": "markdown",
   "metadata": {},
   "source": [
    "**2.4:** Plot the quantitative output from the linear regression model and the probabilistic output from the logistic regression model (on the training set points) as a function of the gene predictor. Also, display the true binary response for the training set points in the same plot. Based on these plots, does one of the models appear better suited for binary classification than the other? Explain."
   ]
  },
  {
   "cell_type": "code",
   "execution_count": 11,
   "metadata": {
    "jupyter": {
     "outputs_hidden": true
    }
   },
   "outputs": [
    {
     "data": {
      "image/png": "[encoded data removed]",
      "text/plain": [
       "<Figure size 1296x360 with 2 Axes>"
      ]
     },
     "metadata": {
      "needs_background": "light"
     },
     "output_type": "display_data"
    }
   ],
   "source": [
    "# your code here\n",
    "\n",
    "axe_x = x_train.sort_values(by = 'D29963_at')\n",
    "axe_y = y_train.iloc[x_train['D29963_at'].argsort()]\n",
    "\n",
    "prediction_linear = linear_model.predict(axe_x)\n",
    "prediction_proba = logistic_model.predict_proba(axe_x)\n",
    "prediction_thresholded = logistic_model.predict(axe_x)\n",
    "\n",
    "f,ax = plt.subplots(1,2, figsize=(18,5))\n",
    "\n",
    "ax[0].plot(axe_x['D29963_at'], prediction_linear, label= 'Quantitative Output')\n",
    "ax[0].plot(axe_x['D29963_at'], np.round(prediction_linear), label= 'Predicted Type')\n",
    "ax[0].scatter(axe_x['D29963_at'], axe_y, label= 'Real data', color = 'green')\n",
    "ax[0].legend()\n",
    "ax[0].set_title('Linear Regression')\n",
    "ax[0].set_xlabel('D29963_at')\n",
    "\n",
    "# Plot Logistic Predictions\n",
    "ax[1].plot(axe_x['D29963_at'], prediction_proba[:,0], label= 'Type 0')\n",
    "ax[1].plot(axe_x['D29963_at'], prediction_proba[:,1], label= 'Type 1')\n",
    "ax[1].plot(axe_x['D29963_at'], prediction_thresholded, label= 'Predicted Class')\n",
    "ax[1].scatter(axe_x['D29963_at'], axe_y, label= 'Real data', color = 'purple')\n",
    "ax[1].legend()\n",
    "ax[1].set_title('Logistic Regression')\n",
    "ax[1].set_xlabel('D29963_at')\n",
    "plt.show()"
   ]
  },
  {
   "cell_type": "markdown",
   "metadata": {},
   "source": [
    "Your answer here\n",
    "\n",
    "With these plots, one can say the logistic regression is better! FIrst of all the linear regression keeps growing after passing 1. And downwards 0. The transition seems more smooth on logist regression, because we are dealing with probabilities. However the results are really similar. "
   ]
  },
  {
   "cell_type": "markdown",
   "metadata": {},
   "source": [
    "## Question 3: Multiple Logistic Regression\n",
    "\n",
    "1. Next, fit a multiple logistic regression model with all the gene predictors from the data set.  How does the classification accuracy of this model compare with the models fitted in question 2 with a single gene (on both the training and test sets)?  \n",
    "\n",
    "2. Use the `visualize_prob` function provided below to visualize the probabilties predicted by the fitted multiple logistic regression model on both the training and test data sets. The function creates a visualization that places the data points on a vertical line based on the predicted probabilities, with the different cancer classes shown in different colors, and with the 0.5 threshold highlighted using a dotted horizontal line. Is there a difference in the spread of probabilities in the training and test plots? Are there data points for which the predicted probability is close to 0.5? If so, what can you say about these points?"
   ]
  },
  {
   "cell_type": "code",
   "execution_count": 12,
   "metadata": {
    "jupyter": {
     "outputs_hidden": true
    }
   },
   "outputs": [],
   "source": [
    "#--------  visualize_prob\n",
    "# A function to visualize the probabilities predicted by a Logistic Regression model\n",
    "# Input: \n",
    "#      model (Logistic regression model)\n",
    "#      x (n x d array of predictors in training data)\n",
    "#      y (n x 1 array of response variable vals in training data: 0 or 1)\n",
    "#      ax (an axis object to generate the plot)\n",
    "\n",
    "def visualize_prob(model, x, y, ax):\n",
    "    # Use the model to predict probabilities for\n",
    "    y_pred = model.predict_proba(x)\n",
    "    \n",
    "    # Separate the predictions on the label 1 and label 0 points\n",
    "    ypos = y_pred[y==1]\n",
    "    yneg = y_pred[y==0]\n",
    "    \n",
    "    # Count the number of label 1 and label 0 points\n",
    "    npos = ypos.shape[0]\n",
    "    nneg = yneg.shape[0]\n",
    "    \n",
    "    # Plot the probabilities on a vertical line at x = 0, \n",
    "    # with the positive points in blue and negative points in red\n",
    "    pos_handle = ax.plot(np.zeros((npos,1)), ypos[:,1], 'bo', label = 'Cancer Type 1')\n",
    "    neg_handle = ax.plot(np.zeros((nneg,1)), yneg[:,1], 'ro', label = 'Cancer Type 0')\n",
    "\n",
    "    # Line to mark prob 0.5\n",
    "    ax.axhline(y = 0.5, color = 'k', linestyle = '--')\n",
    "    \n",
    "    # Add y-label and legend, do not display x-axis, set y-axis limit\n",
    "    ax.set_ylabel('Probability of AML class')\n",
    "    ax.legend(loc = 'best')\n",
    "    ax.get_xaxis().set_visible(False)\n",
    "    ax.set_ylim([0,1])"
   ]
  },
  {
   "cell_type": "markdown",
   "metadata": {},
   "source": [
    "#### Answers \n",
    "**3.1:** Next, fit a multiple logistic regression model with all the gene predictors from the data set.  How does the classification accuracy of this model compare with the models fitted in question 2 with a single gene (on both the training and test sets)?  "
   ]
  },
  {
   "cell_type": "code",
   "execution_count": 13,
   "metadata": {
    "jupyter": {
     "outputs_hidden": true
    },
    "tags": []
   },
   "outputs": [
    {
     "name": "stdout",
     "output_type": "stream",
     "text": [
      "Logistic Regression: All variables\n",
      "--------------------------\n",
      "The classification accurary on the train data: 1.0000\n",
      "The classification accurary on the test data: 0.9091\n"
     ]
    }
   ],
   "source": [
    "# your code here\n",
    "\n",
    "x_train = data_train.drop(columns='Cancer_type')\n",
    "x_test = data_test.drop(columns = 'Cancer_type')\n",
    "y_train = data_train['Cancer_type']\n",
    "y_test = data_test['Cancer_type']\n",
    "\n",
    "complete_logistic_model = LogisticRegression(C = 100000, solver = 'lbfgs').fit(x_train, y_train)\n",
    "y_train_pred = complete_logistic_model.predict(x_train)\n",
    "y_test_pred = complete_logistic_model.predict(x_test)\n",
    "\n",
    "print('Logistic Regression: All variables')\n",
    "print('--------------------------')\n",
    "print('The classification accurary on the train data: {:.4f}'.format(accuracy_score(y_train, y_train_pred)))\n",
    "print('The classification accurary on the test data: {:.4f}'.format(accuracy_score(y_test, y_test_pred)))"
   ]
  },
  {
   "cell_type": "markdown",
   "metadata": {},
   "source": [
    "Your answer here\n",
    "\n",
    "The accurary is really better. In the train set, we see a overfititing, however in test set, it's pretty good too!"
   ]
  },
  {
   "cell_type": "markdown",
   "metadata": {},
   "source": [
    "**3.2:** Use the `visualize_prob` function provided below to visualize the probabilties predicted by the fitted multiple logistic regression model on both the training and test data sets. The function creates a visualization that places the data points on a vertical line based on the predicted probabilities, with the different cancer classes shown in different colors, and with the 0.5 threshold highlighted using a dotted horizontal line. Is there a difference in the spread of probabilities in the training and test plots? Are there data points for which the predicted probability is close to 0.5? If so, what can you say about these points?"
   ]
  },
  {
   "cell_type": "code",
   "execution_count": 14,
   "metadata": {
    "jupyter": {
     "outputs_hidden": true
    },
    "tags": []
   },
   "outputs": [
    {
     "data": {
      "image/png": "[encoded data removed]",
      "text/plain": [
       "<Figure size 1080x360 with 2 Axes>"
      ]
     },
     "metadata": {
      "needs_background": "light"
     },
     "output_type": "display_data"
    }
   ],
   "source": [
    "# your code here\n",
    "\n",
    "fig, ax = plt.subplots(1,2, figsize = (15, 5))\n",
    "visualize_prob(complete_logistic_model, x_train, y_train, ax[0])\n",
    "visualize_prob(complete_logistic_model, x_test, y_test, ax[1])\n",
    "\n",
    "ax[0].set_title('Train set')\n",
    "ax[1].set_title('Test set')\n",
    "\n",
    "plt.show()"
   ]
  },
  {
   "cell_type": "markdown",
   "metadata": {},
   "source": [
    "\n",
    "Your answer here\n",
    "\n",
    "Yes, the points on test set are spreader then the train sets. There are sime points closer to 0.5, but not so close. These points can be wrong classified because of the promity to 0.5. We have to be more careful and it'd be good to assign a confidence interval to understand its behaviour. "
   ]
  },
  {
   "cell_type": "markdown",
   "metadata": {},
   "source": [
    "## Question 4: Analyzing Significance of Coefficients\n",
    "\n",
    "How many of the coefficients estimated by the multiple logistic regression in the previous problem are significantly different from zero at a *significance level of 95%*? \n",
    "\n",
    "Hint: To answer this question, use *bootstrapping* with 1000 boostrap samples/iterations.  "
   ]
  },
  {
   "cell_type": "markdown",
   "metadata": {},
   "source": [
    "#### Answer:"
   ]
  },
  {
   "cell_type": "code",
   "execution_count": 15,
   "metadata": {
    "jupyter": {
     "outputs_hidden": true
    },
    "tags": []
   },
   "outputs": [
    {
     "name": "stdout",
     "output_type": "stream",
     "text": [
      "The proportion of significant coefficients at level 0.05 is: 0.2347\n"
     ]
    }
   ],
   "source": [
    "# your code here\n",
    "number_iterations = 1000\n",
    "alpha = 0.05\n",
    "\n",
    "coef = np.empty(shape = (number_iterations, len(x_train.columns)))\n",
    "\n",
    "for i in range(number_iterations):\n",
    "\n",
    "    bootstrap_sample_x = x_train.sample(frac = 1, replace=True)\n",
    "    bootstrap_sample_y = y_train.loc[bootstrap_sample_x.index]\n",
    "\n",
    "    model = LogisticRegression(C = 100000, solver = 'lbfgs').fit(bootstrap_sample_x, bootstrap_sample_y)\n",
    "\n",
    "    coef[i,:] = model.coef_[0]\n",
    "\n",
    "coef_df = pd.DataFrame(coef, columns = x_train.columns)\n",
    "\n",
    "bounds = coef_df.quantile(q = [alpha/2, 1 - alpha/2], axis = 0).transpose()\n",
    "bounds.columns = ['left', 'right']\n",
    "bounds['zero'] = bounds.apply(lambda x: 1*(x.left > 0 or x.right < 0), axis = 1)\n",
    "\n",
    "significant = bounds[bounds.zero == 1]\n",
    "print('The proportion of significant coefficients at level {} is: {:.4f}'.format(alpha, \n",
    "                                                                                 len(significant)/len(bounds)))"
   ]
  },
  {
   "cell_type": "markdown",
   "metadata": {},
   "source": [
    "## Question 5: High Dimensionality\n",
    "\n",
    "One of the issues you may run into when dealing with high dimensional data is that your 2D and 3D intuition may fail breakdown. For example, distance metrics in high dimensions can have properties that may feel counterintuitive.\n",
    "\n",
    "Consider the following: You have a hypersphere with a radius of $1$, inside of a hypercube centered at $0$, with edges of length $2$.\n",
    "\n",
    "1. As a function of $d$, the number of dimensions, how much of the hypercube's volume is contained within the hypersphere?\n",
    "2. What happens as $d$ gets very large?\n",
    "3. Using the functions provided below, create a plot of how the volume ratio changes as a function of $d$.\n",
    "4. What does this tell you about where the majority of the volume of the hypercube resides in higher dimensions? \n",
    "\n",
    "*HINTS:* \n",
    "- The volume of a hypercube with edges of length $2$ is $V_c(d) = 2^d$.\n",
    "- The volume of a hyperphere with a radius of $1$ is $V_s(d) = \\frac{\\pi^{\\frac{d}{2}}} {\\Gamma(\\frac{d}{2}+1)}$, where $\\Gamma$ is Euler's Gamma Function.\n",
    "- $\\Gamma$ is increasing for all $d \\geq 1$."
   ]
  },
  {
   "cell_type": "code",
   "execution_count": 16,
   "metadata": {
    "jupyter": {
     "outputs_hidden": true
    }
   },
   "outputs": [],
   "source": [
    "def V_c(d):\n",
    "    \"\"\"\n",
    "    Calculate the volumn of a hypercube of dimension d.\n",
    "    \"\"\"\n",
    "    return 2**d\n",
    "\n",
    "def V_s(d):\n",
    "    \"\"\"\n",
    "    Calculate the volume of a hypersphere of dimension d.\n",
    "    \"\"\"\n",
    "    return math.pi**(d/2)/gamma((d/2)+1)  "
   ]
  },
  {
   "cell_type": "markdown",
   "metadata": {},
   "source": [
    "#### Answers:"
   ]
  },
  {
   "cell_type": "markdown",
   "metadata": {},
   "source": [
    "Your answer here\n",
    "\n",
    "1. How much of the hypercube's volume is contained within the hypersphere?\n",
    "\n",
    "It's $\\frac{\\pi^\\frac{d}{2}}{\\Gamma(\\frac{d}{2} + 1)}\\cdot 2^{-d} = \\frac{(\\sqrt{\\pi/4})^d}{\\frac{d}{2}\\Gamma(\\frac{d}{2})}$\n",
    "\n",
    "If $d$ is even: \n",
    "\n",
    "$\\frac{\\pi^\\frac{d}{2}}{\\Gamma(\\frac{d}{2} + 1)}\\cdot 2^{-d} = \\frac{(\\sqrt{\\pi/4})^d}{\\left(\\frac{d}{2}\\right)!}$\n",
    "\n",
    "If $d$ is odd: \n",
    "\n",
    "$\\frac{\\pi^\\frac{d}{2}}{\\Gamma(\\frac{d}{2} + 1)}\\cdot 2^{-d} = \\frac{(\\sqrt{\\pi/4})^d}{\\frac{d}{2}(\\frac{d}{2} - 1)\\cdot\\dots\\cdot\\frac{1}{2}\\Gamma(\\frac{1}{2})} = \\frac{(\\sqrt{\\pi/4})^d}{\\frac{d}{2}(\\frac{d}{2} - 1)\\cdot\\dots\\cdot\\frac{1}{2}\\sqrt{\\pi}}$\n",
    "\n",
    "2. What happens as $d$ gets very large?\n",
    "\n",
    "The numerator goes to $0$ because, $\\pi/4 < 1 \\implies \\sqrt{\\pi/4} < 1 \\implies (\\pi/4)^{d/2} \\to 0$. The denominator is similar to a factorial in both cases (in the even case actually it is), so its limit is infinite. In this case, the volume of the hypercube contained within the hypersphere decreases and tends to 0.\n",
    "\n",
    "4. What does this tell you about where the majority of the volume of the hypercube resides in higher dimensions?\n",
    "\n",
    "The majority of the volume is outsize the sphere, in the corners of the hypercube. "
   ]
  },
  {
   "cell_type": "code",
   "execution_count": 17,
   "metadata": {
    "jupyter": {
     "outputs_hidden": true
    }
   },
   "outputs": [
    {
     "data": {
      "image/png": "[encoded data removed]",
      "text/plain": [
       "<Figure size 432x288 with 1 Axes>"
      ]
     },
     "metadata": {
      "needs_background": "light"
     },
     "output_type": "display_data"
    }
   ],
   "source": [
    "# your code here\n",
    "# 3. Using the functions provided below, create a plot of how the volume ratio changes as a function of d. \n",
    "\n",
    "d = np.array(range(50))\n",
    "volume = V_s(d)/V_c(d)\n",
    "\n",
    "fig, ax = plt.subplots()\n",
    "ax.plot(d, volume, color = 'darkred')\n",
    "ax.set_xscale('log')\n",
    "ax.set_xlabel('d (log-scale)')\n",
    "ax.set_ylabel('proportion')\n",
    "ax.set_title('Proportion of hypercube volume inside hypersphere')\n",
    "plt.show()"
   ]
  },
  {
   "cell_type": "markdown",
   "metadata": {},
   "source": [
    "## Question 6: PCA and Dimensionality Reduction\n",
    "\n",
    "As we saw above, high dimensional problems can have counterintuitive behavior, thus we often want to try to reduce the dimensionality of our problems. A reasonable approach to reduce the dimensionality of the data is to use PCA and fit a logistic regression model on the smallest set of principal components that explain at least 90% of the variance in the predictors.\n",
    "\n",
    "1. Using the gene data from Problem 1, how many principal components do we need to capture at least 90% of the variance? How much of the variance do they actually capture? Fit a Logistic Regression model using these principal components. How do the classification accuracy values on both the training and tests sets compare with the models fit in question 3.1?  \n",
    "\n",
    "2. Use the code provided in question 3 to visualize the probabilities predicted by the fitted model on both the training and test sets. How does the spread of probabilities in these plots compare to those for the model in question 3.2? If the lower dimensional representation yields comparable predictive power, what advantage does the lower dimensional representation provide?"
   ]
  },
  {
   "cell_type": "markdown",
   "metadata": {},
   "source": [
    "#### Answers:\n",
    "\n",
    "**6.1:** Using the gene data from Problem 1, how many principal components do we need to capture at least 90% of the variance? How much of the variance do they actually capture? Fit a Logistic Regression model using these principal components. How do the classification accuracy values on both the training and tests sets compare with the models fit in question 3.1?  "
   ]
  },
  {
   "cell_type": "code",
   "execution_count": 18,
   "metadata": {
    "jupyter": {
     "outputs_hidden": true
    },
    "tags": []
   },
   "outputs": [
    {
     "name": "stdout",
     "output_type": "stream",
     "text": [
      "The number of componentes we need are : 29\n",
      "They capture 295.99660614666135 variance\n",
      "\n",
      "Logistic Regression: PCA\n",
      "--------------------------\n",
      "The classification accurary on the train data: 1.0000\n",
      "The classification accurary on the test data: 0.9697\n"
     ]
    }
   ],
   "source": [
    "# your code here\n",
    "\n",
    "pca = PCA(n_components=0.9)\n",
    "pca_data = pca.fit(data_train_normalized.drop(columns='Cancer_type'))\n",
    "\n",
    "print('The number of componentes we need are : {}'.format(len(pca_data.explained_variance_ratio_)))\n",
    "print('They capture {} variance'.format(sum(pca_data.explained_variance_)))\n",
    "print()\n",
    "\n",
    "x_train = pca_data.transform(data_train_normalized.drop(columns='Cancer_type'))\n",
    "x_test = pca_data.transform(data_test_normalized.drop(columns='Cancer_type'))\n",
    "y_train = data_train_normalized['Cancer_type']\n",
    "y_test = data_test_normalized['Cancer_type']\n",
    "\n",
    "model_pca = LogisticRegression(C = 100000, solver = 'lbfgs').fit(x_train, y_train)\n",
    "\n",
    "y_train_pred = model_pca.predict(x_train)\n",
    "y_test_pred = model_pca.predict(x_test)\n",
    "\n",
    "print('Logistic Regression: PCA')\n",
    "print('--------------------------')\n",
    "print('The classification accurary on the train data: {:.4f}'.format(accuracy_score(y_train, y_train_pred)))\n",
    "print('The classification accurary on the test data: {:.4f}'.format(accuracy_score(y_test, y_test_pred)))"
   ]
  },
  {
   "cell_type": "markdown",
   "metadata": {},
   "source": [
    "Your answer here\n",
    "\n",
    "In spite of having only 29 variables, the prediction had the same results and thats awesome!"
   ]
  },
  {
   "cell_type": "markdown",
   "metadata": {},
   "source": [
    "**6.2:** Use the code provided in question 3 to visualize the probabilities predicted by the fitted model on both the training and test sets. How does the spread of probabilities in these plots compare to those for the model in question 3.2? If the lower dimensional representation yields comparable predictive power, what advantage does the lower dimensional representation provide?"
   ]
  },
  {
   "cell_type": "code",
   "execution_count": 22,
   "metadata": {
    "jupyter": {
     "outputs_hidden": true
    }
   },
   "outputs": [
    {
     "data": {
      "image/png": "[encoded data removed]",
      "text/plain": [
       "<Figure size 1080x360 with 2 Axes>"
      ]
     },
     "metadata": {
      "needs_background": "light"
     },
     "output_type": "display_data"
    }
   ],
   "source": [
    "# your code here\n",
    "fig, ax = plt.subplots(1,2, figsize = (15, 5))\n",
    "visualize_prob(model_pca, x_train, y_train, ax[0])\n",
    "visualize_prob(model_pca, x_test, y_test, ax[1])\n",
    "\n",
    "ax[0].set_title('Train set')\n",
    "ax[1].set_title('Test set')\n",
    "\n",
    "plt.show()"
   ]
  },
  {
   "cell_type": "markdown",
   "metadata": {},
   "source": [
    "Your answer here\n",
    "\n",
    "Actually, the spread of the points in both sets are similar (seems a liitle higher here). We have advantage of memory efficience, cause we are dealing with only 29 of more than 7 thousand variables. The likelihood of overfittinng is smaller too. We can reduce the chances of multicollineary (maybe)."
   ]
  },
  {
   "cell_type": "markdown",
   "metadata": {},
   "source": [
    "\n",
    "## Multiclass Thyroid Classification\n",
    "\n",
    "In this problem, you will build a model for diagnosing disorders in a patient's thyroid gland. Given the results of medical tests on a patient, the task is to classify the patient either as:\n",
    "- *normal* (class 1)\n",
    "- having *hyperthyroidism* (class 2)\n",
    "- or having *hypothyroidism* (class 3). \n",
    "\n",
    "The data set is provided in the file `dataset_hw5_2.csv`. Columns 1-2 contain biomarkers for a patient (predictors):\n",
    "- Biomarker 1: (Logarithm of) level of basal thyroid-stimulating hormone (TSH) as measured by radioimmuno assay\n",
    "- Biomarker 2: (Logarithm of) maximal absolute difference of TSH value after injection of 200 micro grams of thyrotropin-releasing hormone as compared to the basal value.\n",
    "\n",
    "The last column contains the diagnosis for the patient from a medical expert. This data set was obtained from the UCI Machine Learning Repository.\n",
    "\n",
    "Notice that unlike previous exercises, the task at hand is a 3-class classification problem. We will explore the use of different methods for multiclass classification.\n",
    "\n",
    "First task: split the data using the code provided below."
   ]
  },
  {
   "cell_type": "markdown",
   "metadata": {},
   "source": [
    "## Question 7: Fit Classification Models\n",
    "\n",
    "1. Generate a 2D scatter plot of the training set, denoting each class with a different color. Does it appear that the data points can be separated well by a linear classifier?\n",
    "\n",
    "2. Briefly explain the difference between multinomial logistic regression and one-vs-rest (OvR) logistic regression methods for fitting a multiclass classifier (in 2-3 sentences).\n",
    "\n",
    "3. Fit linear classification models on the thyroid data set using both the methods.  You should use $L_2$ regularization in both cases, tuning the regularization parameter using cross-validation.  Is there a difference in the overall classification accuracy of the two methods on the test set?\n",
    "\n",
    "4. Also, compare the training and test accuracies of these models with the following classification methods:\n",
    "    - Multiclass Logistic Regression with quadratic terms \n",
    "    - Linear Discriminant Analysis\n",
    "    - Quadratic Discriminant Analysis\n",
    "    - k-Nearest Neighbors\n",
    " <br>\n",
    "*Note:* you may use either the OvR or multinomial variant for the multiclass logistic regression (with $L_2$ regularization). Do not forget to use cross-validation to choose the regularization parameter, and also the number of neighbors in k-NN. \n",
    "\n",
    "5. Does the inclusion of the polynomial terms in logistic regression yield better test accuracy compared to the model with only linear terms? \n",
    "\n",
    "\n",
    "*Hint:* You may use the `KNeighborsClassifier` class to fit a k-NN classification model."
   ]
  },
  {
   "cell_type": "markdown",
   "metadata": {},
   "source": [
    "#### Answers:\n",
    "\n",
    "**7.0:** First task: split the data using the code provided below. "
   ]
  },
  {
   "cell_type": "code",
   "execution_count": 23,
   "metadata": {
    "jupyter": {
     "outputs_hidden": true
    }
   },
   "outputs": [],
   "source": [
    "np.random.seed(9001)\n",
    "df = pd.read_csv('data/dataset_hw5_2.csv')\n",
    "msk = np.random.rand(len(df)) < 0.5\n",
    "data_train = df[msk]\n",
    "data_test = df[~msk]"
   ]
  },
  {
   "cell_type": "markdown",
   "metadata": {},
   "source": [
    "**7.1:** Generate a 2D scatter plot of the training set, denoting each class with a different color. Does it appear that the data points can be separated well by a linear classifier?\n"
   ]
  },
  {
   "cell_type": "code",
   "execution_count": 24,
   "metadata": {
    "jupyter": {
     "outputs_hidden": true
    }
   },
   "outputs": [
    {
     "data": {
      "image/png": "[encoded data removed]",
      "text/plain": [
       "<Figure size 720x432 with 1 Axes>"
      ]
     },
     "metadata": {
      "needs_background": "light"
     },
     "output_type": "display_data"
    }
   ],
   "source": [
    "fig, ax = plt.subplots(figsize = (10,6))\n",
    "sns.scatterplot(x = 'Biomarker 1', y = 'Biomarker 2', hue = 'Diagnosis',\n",
    "                legend = 'full', data = data_train)\n",
    "ax.set_title('Scatter Plot Biomarker by diagnosis')\n",
    "plt.show()"
   ]
  },
  {
   "cell_type": "markdown",
   "metadata": {},
   "source": [
    "Your answer here\n",
    "\n",
    "Apparently yes. We could separate the group 1 from group 2 with 6 points beem bad allocated. That sounds good. In order to separate groups 2 and 3, it's really simple. At last, we could also separate groups 1 and 3 with only 2 error. \n",
    "\n",
    "I conclude yes, it may be possible."
   ]
  },
  {
   "cell_type": "markdown",
   "metadata": {},
   "source": [
    "**7.2:** Briefly explain the difference between multinomial logistic regression and one-vs-rest (OvR) logistic regression methods for fitting a multiclass classifier (in 2-3 sentences).\n"
   ]
  },
  {
   "cell_type": "markdown",
   "metadata": {},
   "source": [
    "Your answer here\n",
    "\n",
    "Suppose we have $k$ classes, in the OvR logistic regression, we model $k$ logistic regressions where the probability of each category is predicted treating the rest classes as one, and the classification is done that way for all the classes. In the multinomial, we choose one of the classes as the baseline and compare the other K-1 classes to it. After we build a sequence of k models, comparatively."
   ]
  },
  {
   "cell_type": "markdown",
   "metadata": {},
   "source": [
    "**7.3:** Fit linear classification models on the thyroid data set using both the methods.  You should use $L_2$ regularization in both cases, tuning the regularization parameter using cross-validation.  Is there a difference in the overall classification accuracy of the two methods on the test set?"
   ]
  },
  {
   "cell_type": "code",
   "execution_count": 25,
   "metadata": {},
   "outputs": [],
   "source": [
    "scorer = lambda est, X, y: accuracy_score(y, np.round(est.predict(X))) "
   ]
  },
  {
   "cell_type": "code",
   "execution_count": 28,
   "metadata": {
    "jupyter": {
     "outputs_hidden": true
    }
   },
   "outputs": [
    {
     "name": "stdout",
     "output_type": "stream",
     "text": [
      "Classification on thyroid data set: Logistic Regression OvR\n",
      "----------------------------------\n",
      "The classification accurary on the train data: 0.8333\n",
      "The classification accurary on the test data: 0.8407\n",
      "\n",
      "Classification on thyroid data set: Logistic Regression Multinomial\n",
      "----------------------------------\n",
      "The classification accurary on the train data: 0.8922\n",
      "The classification accurary on the test data: 0.8850\n",
      "\n",
      "Classification on thyroid data set: Ridge Regression\n",
      "----------------------------------\n",
      "The classification accurary on the train data: 0.7353\n",
      "The classification accurary on the test data: 0.6637\n"
     ]
    }
   ],
   "source": [
    "# your code here\n",
    "\n",
    "x_train = data_train.drop(columns = 'Diagnosis')\n",
    "x_test = data_test.drop(columns = 'Diagnosis')\n",
    "y_train = data_train.Diagnosis\n",
    "y_test = data_test.Diagnosis\n",
    "\n",
    "logistic_model_ovr = LogisticRegressionCV(Cs = 10, cv = 10,\n",
    "                                      solver = 'lbfgs', multi_class = 'ovr').fit(x_train, y_train)\n",
    "\n",
    "y_train_pred = logistic_model_ovr.predict(x_train)\n",
    "y_test_pred = logistic_model_ovr.predict(x_test)\n",
    "\n",
    "print('Classification on thyroid data set: Logistic Regression OvR')\n",
    "print('----------------------------------')\n",
    "print('The classification accurary on the train data: {:.4f}'.format(accuracy_score(y_train, y_train_pred)))\n",
    "print('The classification accurary on the test data: {:.4f}'.format(accuracy_score(y_test, y_test_pred)))\n",
    "\n",
    "logistic_model_multi = LogisticRegressionCV(Cs = 10, cv = 10,\n",
    "                                      solver = 'lbfgs', multi_class = 'multinomial').fit(x_train, y_train)\n",
    "\n",
    "y_train_pred = logistic_model_multi.predict(x_train)\n",
    "y_test_pred = logistic_model_multi.predict(x_test)\n",
    "\n",
    "print()\n",
    "print('Classification on thyroid data set: Logistic Regression Multinomial')\n",
    "print('----------------------------------')\n",
    "print('The classification accurary on the train data: {:.4f}'.format(accuracy_score(y_train, y_train_pred)))\n",
    "print('The classification accurary on the test data: {:.4f}'.format(accuracy_score(y_test, y_test_pred)))\n",
    "\n",
    "alphas = [10**i for i in range(-4,5)]\n",
    "linear_model = RidgeCV(alphas = alphas, scoring = scorer, cv = 10).fit(x_train, y_train)\n",
    "\n",
    "y_train_pred = np.round(linear_model.predict(x_train))\n",
    "y_test_pred = np.round(linear_model.predict(x_test))\n",
    "\n",
    "print()\n",
    "print('Classification on thyroid data set: Ridge Regression')\n",
    "print('----------------------------------')\n",
    "print('The classification accurary on the train data: {:.4f}'.format(accuracy_score(y_train, y_train_pred)))\n",
    "print('The classification accurary on the test data: {:.4f}'.format(accuracy_score(y_test, y_test_pred)))\n"
   ]
  },
  {
   "cell_type": "markdown",
   "metadata": {},
   "source": [
    "Your answer here\n",
    "\n",
    "Yes, there is difference. The multinomial seems betters on the test and train set"
   ]
  },
  {
   "cell_type": "markdown",
   "metadata": {},
   "source": [
    "**7.4:** Also, compare the training and test accuracies of these models with the following classification methods:\n",
    "    - Multiclass Logistic Regression with quadratic terms \n",
    "    - Linear Discriminant Analysis\n",
    "    - Quadratic Discriminant Analysis\n",
    "    - k-Nearest Neighbors\n",
    "\n",
    "*Note:* you may use either the OvR or multinomial variant for the multiclass logistic regression (with $L_2$ regularization). Do not forget to use cross-validation to choose the regularization parameter, and also the number of neighbors in k-NN. \n"
   ]
  },
  {
   "cell_type": "code",
   "execution_count": 29,
   "metadata": {},
   "outputs": [],
   "source": [
    "x_train_quadratic = PolynomialFeatures(degree = 2, include_bias = False).fit(x_train).transform(x_train)\n",
    "x_test_quadratic = PolynomialFeatures(degree = 2, include_bias = False).fit(x_train).transform(x_test)"
   ]
  },
  {
   "cell_type": "code",
   "execution_count": 30,
   "metadata": {
    "jupyter": {
     "outputs_hidden": true
    },
    "scrolled": true
   },
   "outputs": [
    {
     "name": "stdout",
     "output_type": "stream",
     "text": [
      "Classification on thyroid data set: Logistic Regression\n",
      "----------------------------------\n",
      "The classification accurary on the train data: 0.8824\n",
      "The classification accurary on the test data: 0.8761\n",
      "\n",
      "Classification on thyroid data set: Linear Discriminant Analysis\n",
      "----------------------------------\n",
      "The classification accurary on the train data: 0.8431\n",
      "The classification accurary on the test data: 0.8407\n",
      "\n",
      "Classification on thyroid data set: Quadratic Discriminant Analysis\n",
      "----------------------------------\n",
      "The classification accurary on the train data: 0.8725\n",
      "The classification accurary on the test data: 0.8496\n",
      "\n",
      "Classification on thyroid data set: KNN Classifier\n",
      "----------------------------------\n",
      "The classification accurary on the train data: 0.9314\n",
      "The classification accurary on the test data: 0.8673\n"
     ]
    }
   ],
   "source": [
    "# your code here\n",
    "\n",
    "###########################################################################\n",
    "################################# MLG #####################################\n",
    "###########################################################################\n",
    "\n",
    "logistic_model_quadratic = LogisticRegressionCV(Cs = 10, cv = 10,\n",
    "                                      multi_class = 'ovr').fit(x_train_quadratic, y_train)\n",
    "\n",
    "y_train_pred = logistic_model_quadratic.predict(x_train_quadratic)\n",
    "y_test_pred = logistic_model_quadratic.predict(x_test_quadratic)\n",
    "\n",
    "print('Classification on thyroid data set: Logistic Regression')\n",
    "print('----------------------------------')\n",
    "print('The classification accurary on the train data: {:.4f}'.format(accuracy_score(y_train, y_train_pred)))\n",
    "print('The classification accurary on the test data: {:.4f}'.format(accuracy_score(y_test, y_test_pred)))\n",
    "\n",
    "\n",
    "###########################################################################\n",
    "################################# LDA #####################################\n",
    "###########################################################################\n",
    "\n",
    "chosen_shrinkage_lda = (None, 0)\n",
    "for i in range(1,11):\n",
    "    scores = cross_val_score(estimator = LinearDiscriminantAnalysis(shrinkage = i/10, solver = 'lsqr'), \n",
    "                             X = x_train, y = y_train, scoring = scorer, cv = 10)\n",
    "    if np.mean(scores) > chosen_shrinkage_lda[1]:\n",
    "        chosen_shrinkage_lda = (i/10, np.mean(scores))\n",
    "\n",
    "linear_discriminat = LinearDiscriminantAnalysis(shrinkage = chosen_shrinkage_lda[0], \n",
    "                                                solver = 'lsqr').fit(x_train, y_train)\n",
    "\n",
    "y_train_pred = linear_discriminat.predict(x_train)\n",
    "y_test_pred = linear_discriminat.predict(x_test)\n",
    "\n",
    "print()\n",
    "print('Classification on thyroid data set: Linear Discriminant Analysis')\n",
    "print('----------------------------------')\n",
    "print('The classification accurary on the train data: {:.4f}'.format(accuracy_score(y_train, y_train_pred)))\n",
    "print('The classification accurary on the test data: {:.4f}'.format(accuracy_score(y_test, y_test_pred)))\n",
    "\n",
    "###########################################################################\n",
    "################################# QDA #####################################\n",
    "###########################################################################\n",
    "\n",
    "quadratic_discriminant = QuadraticDiscriminantAnalysis().fit(x_train, y_train)\n",
    "\n",
    "y_train_pred = quadratic_discriminant.predict(x_train)\n",
    "y_test_pred = quadratic_discriminant.predict(x_test)\n",
    "\n",
    "print()\n",
    "print('Classification on thyroid data set: Quadratic Discriminant Analysis')\n",
    "print('----------------------------------')\n",
    "print('The classification accurary on the train data: {:.4f}'.format(accuracy_score(y_train, y_train_pred)))\n",
    "print('The classification accurary on the test data: {:.4f}'.format(accuracy_score(y_test, y_test_pred)))\n",
    "\n",
    "###########################################################################\n",
    "################################# KNN #####################################\n",
    "###########################################################################\n",
    "\n",
    "chosen_shrinkage_knn = (None, 0)\n",
    "for i in range(1,41):\n",
    "    scores = cross_val_score(estimator = KNeighborsClassifier(n_neighbors = i), \n",
    "                             X = x_train, y = y_train, scoring = scorer, cv = 10)\n",
    "    if np.mean(scores) > chosen_shrinkage_knn[1]:\n",
    "        chosen_shrinkage_knn = (i, np.mean(scores))\n",
    "\n",
    "knn_model = KNeighborsClassifier(n_neighbors = chosen_shrinkage_knn[0]).fit(x_train, y_train)\n",
    "\n",
    "y_train_pred = knn_model.predict(x_train)\n",
    "y_test_pred = knn_model.predict(x_test)\n",
    "\n",
    "print()\n",
    "print('Classification on thyroid data set: KNN Classifier')\n",
    "print('----------------------------------')\n",
    "print('The classification accurary on the train data: {:.4f}'.format(accuracy_score(y_train, y_train_pred)))\n",
    "print('The classification accurary on the test data: {:.4f}'.format(accuracy_score(y_test, y_test_pred)))"
   ]
  },
  {
   "cell_type": "markdown",
   "metadata": {},
   "source": [
    "**7.5:** Does the inclusion of the polynomial terms in logistic regression yield better test accuracy compared to the model with only linear terms? "
   ]
  },
  {
   "cell_type": "markdown",
   "metadata": {},
   "source": [
    "Your answer here\n",
    "\n",
    "Yes, a small improvement in both data sets (train and test) were observed when compared to OvR. But it's worst when compared to multinomial."
   ]
  },
  {
   "cell_type": "markdown",
   "metadata": {},
   "source": [
    "## Question 8: Visualize Decision Boundaries\n",
    "\n",
    "The following code will allow you to visualize the decision boundaries of a given classification model."
   ]
  },
  {
   "cell_type": "code",
   "execution_count": 31,
   "metadata": {
    "jupyter": {
     "outputs_hidden": true
    }
   },
   "outputs": [],
   "source": [
    "#--------  plot_decision_boundary\n",
    "# A function that visualizes the data and the decision boundaries\n",
    "# Input: \n",
    "#      x (predictors)\n",
    "#      y (labels)\n",
    "#      model (the classifier you want to visualize)\n",
    "#      title (title for plot)\n",
    "#      ax (a set of axes to plot on)\n",
    "#      poly_degree (highest degree of polynomial terms included in the model; None by default)\n",
    "\n",
    "def plot_decision_boundary(x, y, model, title, ax, poly_degree=None):\n",
    "    # Create mesh\n",
    "    # Interval of points for biomarker 1\n",
    "    min0 = x[:,0].min()\n",
    "    max0 = x[:,0].max()\n",
    "    interval0 = np.arange(min0, max0, (max0-min0)/300)\n",
    "    n0 = np.size(interval0)\n",
    "    \n",
    "    # Interval of points for biomarker 2\n",
    "    min1 = x[:,1].min()\n",
    "    max1 = x[:,1].max()\n",
    "    interval1 = np.arange(min1, max1, (max1-min1)/300)\n",
    "    n1 = np.size(interval1)\n",
    "\n",
    "    # Create mesh grid of points\n",
    "    x1, x2 = np.meshgrid(interval0, interval1)\n",
    "    x1 = x1.reshape(-1,1)\n",
    "    x2 = x2.reshape(-1,1)\n",
    "    xx = np.concatenate((x1, x2), axis=1)\n",
    "\n",
    "    # Predict on mesh of points\n",
    "    # Check if polynomial terms need to be included\n",
    "    if(poly_degree!=None):\n",
    "        # Use PolynomialFeatures to generate polynomial terms\n",
    "        poly = PolynomialFeatures(poly_degree,include_bias = False)\n",
    "        xx_ = poly.fit_transform(xx)\n",
    "        yy = model.predict(xx_) \n",
    "        \n",
    "    else:   \n",
    "        yy = model.predict(xx)\n",
    "        \n",
    "    yy = yy.reshape((n0, n1))\n",
    "\n",
    "    # Plot decision surface\n",
    "    x1 = x1.reshape(n0, n1)\n",
    "    x2 = x2.reshape(n0, n1)\n",
    "    ax.contourf(x1, x2, yy, cmap=plt.cm.coolwarm, alpha=0.8)\n",
    "    \n",
    "    # Plot scatter plot of data\n",
    "    yy = y.reshape(-1,)\n",
    "    ax.scatter(x[yy==1,0], x[yy==1,1], c='blue', label='Normal', cmap=plt.cm.coolwarm)\n",
    "    ax.scatter(x[yy==2,0], x[yy==2,1], c='cyan', label='Hyper', cmap=plt.cm.coolwarm)\n",
    "    ax.scatter(x[yy==3,0], x[yy==3,1], c='red', label='Hypo', cmap=plt.cm.coolwarm)\n",
    "    \n",
    "    # Label axis, title\n",
    "    ax.set_title(title)\n",
    "    ax.set_xlabel('Biomarker 1')\n",
    "    ax.set_ylabel('Biomarker 2')"
   ]
  },
  {
   "cell_type": "markdown",
   "metadata": {},
   "source": [
    "**Note:** The provided code uses `sklearn`'s `PolynomialFeatures` to generate higher-order polynomial terms, with degree `poly_degree`. \n",
    "Also, if you have loaded the data sets into `pandas` data frames, you may use the `as_matrix` function to obtain a `numpy` array from the data frame objects.\n",
    "\n",
    "1. Use the above code to visualize the decision boundaries for each of the model fitted in the previous question.\n",
    "2. Comment on the difference in the decision boundaries (if any) for the OvR and multinomial logistic regression models. Is there a difference between the decision boundaries for the linear logistic regression models and LDA. What about the decision boundaries for the quadratic logistic regression and QDA? Give an explanation for your answer.\n",
    "3. QDA is a generalization of the LDA model. What's the primary difference that makes QDA more general? How does that manifest in the plots you generated?"
   ]
  },
  {
   "cell_type": "markdown",
   "metadata": {},
   "source": [
    "#### Answers:\n",
    "\n",
    "**8.1:** Use the above code to visualize the decision boundaries for each of the model fitted in the previous question."
   ]
  },
  {
   "cell_type": "code",
   "execution_count": 32,
   "metadata": {
    "jupyter": {
     "outputs_hidden": true
    }
   },
   "outputs": [
    {
     "data": {
      "image/png": "[encoded data removed]",
      "text/plain": [
       "<Figure size 1440x1008 with 6 Axes>"
      ]
     },
     "metadata": {
      "needs_background": "light"
     },
     "output_type": "display_data"
    }
   ],
   "source": [
    "# your code here\n",
    "fig, ax = plt.subplots(2,3,figsize = (20, 14))\n",
    "\n",
    "x_train_matrix = x_train.values\n",
    "y_train_matrix = y_train.values\n",
    "\n",
    "plot_decision_boundary(x = x_train_matrix, y = y_train_matrix, model = logistic_model_ovr, \n",
    "                       title = 'Simple OvR Logistic Model', ax = ax[0][0])\n",
    "plot_decision_boundary(x = x_train_matrix, y = y_train_matrix, model = logistic_model_multi, \n",
    "                       title = 'Simple Multinomial Logistic Model', ax = ax[0][1])\n",
    "plot_decision_boundary(x = x_train_matrix, y = y_train_matrix, model = logistic_model_quadratic, \n",
    "                       title = 'Quadratic Logistic Model', ax = ax[0][2], poly_degree = 2)\n",
    "plot_decision_boundary(x = x_train_matrix, y = y_train_matrix, model = linear_discriminat, \n",
    "                       title = 'Linear Discriminant Analysis', ax = ax[1][0], poly_degree = None)\n",
    "plot_decision_boundary(x = x_train_matrix, y = y_train_matrix, model = quadratic_discriminant, \n",
    "                       title = 'Quadratic Discriminant Analysis', ax = ax[1][1], poly_degree = None)\n",
    "plot_decision_boundary(x = x_train_matrix, y = y_train_matrix, model = knn_model, \n",
    "                       title = 'KNN', ax = ax[1][2], poly_degree = None)\n",
    "fig.suptitle('Classificators and Decision Boundaries')\n",
    "\n",
    "plt.show()"
   ]
  },
  {
   "cell_type": "markdown",
   "metadata": {},
   "source": [
    "**8.2:** Comment on the difference in the decision boundaries (if any) for the OvR and multinomial logistic regression models. Is there a difference between the decision boundaries for the linear logistic regression models and LDA. What about the decision boundaries for the quadratic logistic regression and QDA? Give an explanation for your answer."
   ]
  },
  {
   "cell_type": "markdown",
   "metadata": {},
   "source": [
    "Your answer here\n",
    "\n",
    "In the Multinomial Logistic we have  almost two parallel straight lines, while in OvR, the straight lines cross each other. This may happen because in multinomial, one is a reference, while in the OvR, we compare each with the rest. LDA is only the inclination of the segments. This is due to the different objectives, however, the results are similar, because both are linear in this sense and try to separate two classes. The Quadratic Logistic Regression and QDA were really different. One tried to fit a polynomial, while the other has the normal assumption connected to decrease variance and increse difference between means. So the results are very different."
   ]
  },
  {
   "cell_type": "markdown",
   "metadata": {},
   "source": [
    "**8.3:** QDA is a generalization of the LDA model. What's the primary difference that makes QDA more general? How does that manifest in the plots you generated?"
   ]
  },
  {
   "cell_type": "markdown",
   "metadata": {},
   "source": [
    "Your answer here\n",
    "\n",
    "In these models, we modeled the distribuition of the class being k given the data as a multivariate normal distribution. But LDA has more one assumption, the covariance matrix for all classes are the same, which reduces the posterior count.  \n",
    "\n",
    "The result is that in QDA we will have a quadratic form caused by the differents covariance matris. In LDA, this turns to be lines, despite. "
   ]
  }
 ],
 "metadata": {
  "anaconda-cloud": {},
  "kernelspec": {
   "display_name": "Python 3",
   "language": "python",
   "name": "python3"
  },
  "language_info": {
   "codemirror_mode": {
    "name": "ipython",
    "version": 3
   },
   "file_extension": ".py",
   "mimetype": "text/x-python",
   "name": "python",
   "nbconvert_exporter": "python",
   "pygments_lexer": "ipython3",
   "version": "3.7.3"
  }
 },
 "nbformat": 4,
 "nbformat_minor": 4
}
