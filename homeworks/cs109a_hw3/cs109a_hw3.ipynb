{
 "cells": [
  {
   "cell_type": "markdown",
   "metadata": {},
   "source": [
    "# <img style=\"float: left; padding-right: 10px; width: 45px\" src=\"fig/iacs.png\"> S-109A Introduction to Data Science \n",
    "## Homework 3 - Forecasting Bike Sharing Usage\n",
    "\n",
    "\n",
    "<hr style=\"height:2pt\">"
   ]
  },
  {
   "cell_type": "markdown",
   "metadata": {},
   "source": [
    "### INSTRUCTIONS\n",
    "\n",
    "- To submit your assignment follow the instructions given in Classroom.\n",
    "- Restart the kernel and run the whole notebook again before you submit. \n",
    "- If you submit individually and you have worked with someone, please include the name of your [one] partner below. \n",
    "\n",
    "Names of people you have worked with goes here: \n",
    "\n",
    "<hr style=\"height:2pt\">\n",
    "\n",
    "### Student: Lucas Machado Moschen"
   ]
  },
  {
   "cell_type": "code",
   "execution_count": null,
   "metadata": {},
   "outputs": [],
   "source": [
    "## RUN THIS CELL TO GET THE RIGHT FORMATTING \n",
    "from IPython.core.display import HTML\n",
    "def css_styling():\n",
    "    styles = open(\"style/cs109.css\", \"r\").read()\n",
    "    return HTML(styles)\n",
    "css_styling()"
   ]
  },
  {
   "cell_type": "markdown",
   "metadata": {},
   "source": [
    "![bike_sharing](fig/BSS.png)\n",
    "\n",
    "<div class=\"theme\">  Main Theme: Multiple Linear Regression, Subset Selection, Polynomial Regression </div>\n",
    "\n",
    "### Overview \n",
    "\n",
    "You are hired by the administrators of the [Capital Bikeshare program](https://www.capitalbikeshare.com) program in Washington D.C., to **help them predict the hourly demand for rental bikes** and **give them suggestions on how to increase their revenue**. You will prepare a small report for them.\n",
    "\n",
    "The hourly demand information would be useful in planning the number of bikes that need to be available in the system on any given hour of the day, and also in monitoring traffic in the city. It costs the program money if bike stations are full and bikes cannot be returned, or empty and there are no bikes available. You will use multiple linear regression and polynomial regression and will explore techniques for subset selection. The goal is to build a regression model that can predict the total number of bike rentals in a given hour of the day, based on attributes about the hour and the day. \n",
    "\n",
    "An example of a suggestion to increase revenue might be to offer discounts during certain times of the day either during holidays or non-holidays. Your suggestions will depend on your observations of the seasonality of ridership.\n",
    "\n",
    "The data for this problem were collected from the Capital Bikeshare program over the course of two years (2011 and 2012).\n"
   ]
  },
  {
   "cell_type": "markdown",
   "metadata": {},
   "source": [
    "### Use only the libraries below:"
   ]
  },
  {
   "cell_type": "code",
   "execution_count": 1,
   "metadata": {},
   "outputs": [],
   "source": [
    "import numpy as np\n",
    "import pandas as pd\n",
    "import matplotlib\n",
    "import matplotlib.pyplot as plt\n",
    "\n",
    "import statsmodels.api as sm\n",
    "from statsmodels.api import OLS\n",
    "\n",
    "from sklearn import preprocessing\n",
    "from sklearn.preprocessing import PolynomialFeatures\n",
    "from sklearn.metrics import r2_score\n",
    "from sklearn.model_selection import train_test_split\n",
    "\n",
    "from pandas.plotting import scatter_matrix\n",
    "\n",
    "import seaborn as sns\n",
    "import warnings\n",
    "\n",
    "warnings.filterwarnings(\"ignore\")\n",
    "\n",
    "%matplotlib inline"
   ]
  },
  {
   "cell_type": "markdown",
   "metadata": {},
   "source": [
    "## Data Exploration & Preprocessing, Multiple Linear Regression, Subset Selection\n"
   ]
  },
  {
   "cell_type": "markdown",
   "metadata": {},
   "source": [
    "### Overview\n",
    "The initial data set is provided in the file `data/BSS_hour_raw.csv`. You will add some features that will help us with the analysis and then separate it into training and test sets. Each row in this file contains 12 attributes and each entry represents one hour of a 24-hour day with its weather, etc, and the number of rental rides for that day divided in categories according to if they were made by registered or casual riders. Those attributes are the following:\n",
    "\n",
    "- `dteday` (date in the format YYYY-MM-DD, e.g. 2011-01-01)\n",
    "- `season` (1 = winter, 2 = spring, 3 = summer, 4 = fall)\n",
    "- `hour` (0 for 12 midnight, 1 for 1:00am, 23 for 11:00pm)\n",
    "- `weekday` (0 through 6, with 0 denoting Sunday)\n",
    "- `holiday` (1 = the day is a holiday, 0 = otherwise)\n",
    "- `weather`\n",
    "    - 1: Clear, Few clouds, Partly cloudy, Partly cloudy\n",
    "    - 2: Mist + Cloudy, Mist + Broken clouds, Mist + Few clouds, Mist\n",
    "    - 3: Light Snow, Light Rain + Thunderstorm\n",
    "    - 4: Heavy Rain + Thunderstorm + Mist, Snow + Fog \n",
    "- `temp` (temperature in Celsius)\n",
    "- `atemp` (apparent temperature, or relative outdoor temperature, in Celsius)\n",
    "- `hum` (relative humidity)\n",
    "- `windspeed` (wind speed)\n",
    "- `casual` (number of rides that day made by casual riders, not registered in the system)\n",
    "- `registered` (number of rides that day made by registered riders)"
   ]
  },
  {
   "cell_type": "markdown",
   "metadata": {},
   "source": [
    "### General Hints\n",
    "- Use pandas .describe() to see statistics for the dataset.\n",
    "- When performing manipulations on column data it is useful and often more efficient to write a function and apply this function to the column as a whole without the need for iterating through the elements.\n",
    "- A scatterplot matrix or correlation matrix are both good ways to see dependencies between multiple variables.\n",
    "- For Question 2, a very useful pandas method is .groupby(). Make sure you aggregate the rest of the columns in a meaningful way. Print the dataframe to make sure all variables/columns are there!\n",
    "\n",
    "### Resources \n",
    "http://pandas.pydata.org/pandas-docs/stable/generated/pandas.to_datetime.html"
   ]
  },
  {
   "cell_type": "markdown",
   "metadata": {},
   "source": [
    "<div class=\"exercise\"> <b> Question 1: Explore how Bike Ridership varies with Hour of the Day </b> </div>\n",
    "\n",
    "#### Learn your Domain and Perform a bit of Feature Engineering\n",
    "\n",
    "**1.1** Load the dataset from the csv file `data/BSS_hour_raw.csv` into a pandas dataframe that you name `bikes_df`. Do any of the variables' ranges or averages seem suspect? Do the data types make sense?\n",
    "\n",
    "**1.2** Notice that the variable in column `dteday` is a pandas `object`, which is **not**  useful when you want to extract the elements of the date such as the year, month, and day. Convert `dteday` into a `datetime` object to prepare it for later analysis.\n",
    "\n",
    "**1.3** Create three new columns in the dataframe:\n",
    "- `year` with 0 for 2011 and 1 for 2012.\n",
    "- `month` with 1 through 12, with 1 denoting Jan. \n",
    "- `counts` with the total number of bike rentals for that day (this is the response variable for later).\n",
    "\n",
    "**1.4** Use visualization to inspect and comment on how **casual** rentals and **registered** rentals vary with the `hour`. \n",
    "\n",
    "**1.5** Use the variable `holiday` to show how **holidays** affect the relationship in question 1.4.  What do you observe? \n",
    "\n",
    "**1.6** Use visualization to show how **weather** affects **casual** and **registered** rentals. What do you observe? "
   ]
  },
  {
   "cell_type": "markdown",
   "metadata": {},
   "source": [
    "### Answers"
   ]
  },
  {
   "cell_type": "markdown",
   "metadata": {},
   "source": [
    "#### 1.1 Load the dataset from the csv file  ..."
   ]
  },
  {
   "cell_type": "code",
   "execution_count": 2,
   "metadata": {},
   "outputs": [
    {
     "data": {
      "text/plain": [
       "dteday         object\n",
       "season          int64\n",
       "hour            int64\n",
       "holiday         int64\n",
       "weekday         int64\n",
       "workingday      int64\n",
       "weather         int64\n",
       "temp          float64\n",
       "atemp         float64\n",
       "hum           float64\n",
       "windspeed     float64\n",
       "casual          int64\n",
       "registered      int64\n",
       "dtype: object"
      ]
     },
     "metadata": {},
     "output_type": "display_data"
    },
    {
     "data": {
      "text/html": [
       "<div>\n",
       "<style scoped>\n",
       "    .dataframe tbody tr th:only-of-type {\n",
       "        vertical-align: middle;\n",
       "    }\n",
       "\n",
       "    .dataframe tbody tr th {\n",
       "        vertical-align: top;\n",
       "    }\n",
       "\n",
       "    .dataframe thead th {\n",
       "        text-align: right;\n",
       "    }\n",
       "</style>\n",
       "<table border=\"1\" class=\"dataframe\">\n",
       "  <thead>\n",
       "    <tr style=\"text-align: right;\">\n",
       "      <th></th>\n",
       "      <th>season</th>\n",
       "      <th>hour</th>\n",
       "      <th>holiday</th>\n",
       "      <th>weekday</th>\n",
       "      <th>workingday</th>\n",
       "      <th>weather</th>\n",
       "      <th>temp</th>\n",
       "      <th>atemp</th>\n",
       "      <th>hum</th>\n",
       "      <th>windspeed</th>\n",
       "      <th>casual</th>\n",
       "      <th>registered</th>\n",
       "    </tr>\n",
       "  </thead>\n",
       "  <tbody>\n",
       "    <tr>\n",
       "      <td>count</td>\n",
       "      <td>17379.000000</td>\n",
       "      <td>17379.000000</td>\n",
       "      <td>17379.000000</td>\n",
       "      <td>17379.000000</td>\n",
       "      <td>17379.000000</td>\n",
       "      <td>17379.000000</td>\n",
       "      <td>17379.000000</td>\n",
       "      <td>17379.000000</td>\n",
       "      <td>17379.000000</td>\n",
       "      <td>17379.000000</td>\n",
       "      <td>17379.000000</td>\n",
       "      <td>17379.000000</td>\n",
       "    </tr>\n",
       "    <tr>\n",
       "      <td>mean</td>\n",
       "      <td>2.501640</td>\n",
       "      <td>11.546752</td>\n",
       "      <td>0.028770</td>\n",
       "      <td>3.003683</td>\n",
       "      <td>0.682721</td>\n",
       "      <td>1.425283</td>\n",
       "      <td>0.496987</td>\n",
       "      <td>0.475775</td>\n",
       "      <td>0.627229</td>\n",
       "      <td>0.190098</td>\n",
       "      <td>35.676218</td>\n",
       "      <td>153.786869</td>\n",
       "    </tr>\n",
       "    <tr>\n",
       "      <td>std</td>\n",
       "      <td>1.106918</td>\n",
       "      <td>6.914405</td>\n",
       "      <td>0.167165</td>\n",
       "      <td>2.005771</td>\n",
       "      <td>0.465431</td>\n",
       "      <td>0.639357</td>\n",
       "      <td>0.192556</td>\n",
       "      <td>0.171850</td>\n",
       "      <td>0.192930</td>\n",
       "      <td>0.122340</td>\n",
       "      <td>49.305030</td>\n",
       "      <td>151.357286</td>\n",
       "    </tr>\n",
       "    <tr>\n",
       "      <td>min</td>\n",
       "      <td>1.000000</td>\n",
       "      <td>0.000000</td>\n",
       "      <td>0.000000</td>\n",
       "      <td>0.000000</td>\n",
       "      <td>0.000000</td>\n",
       "      <td>1.000000</td>\n",
       "      <td>0.020000</td>\n",
       "      <td>0.000000</td>\n",
       "      <td>0.000000</td>\n",
       "      <td>0.000000</td>\n",
       "      <td>0.000000</td>\n",
       "      <td>0.000000</td>\n",
       "    </tr>\n",
       "    <tr>\n",
       "      <td>25%</td>\n",
       "      <td>2.000000</td>\n",
       "      <td>6.000000</td>\n",
       "      <td>0.000000</td>\n",
       "      <td>1.000000</td>\n",
       "      <td>0.000000</td>\n",
       "      <td>1.000000</td>\n",
       "      <td>0.340000</td>\n",
       "      <td>0.333300</td>\n",
       "      <td>0.480000</td>\n",
       "      <td>0.104500</td>\n",
       "      <td>4.000000</td>\n",
       "      <td>34.000000</td>\n",
       "    </tr>\n",
       "    <tr>\n",
       "      <td>50%</td>\n",
       "      <td>3.000000</td>\n",
       "      <td>12.000000</td>\n",
       "      <td>0.000000</td>\n",
       "      <td>3.000000</td>\n",
       "      <td>1.000000</td>\n",
       "      <td>1.000000</td>\n",
       "      <td>0.500000</td>\n",
       "      <td>0.484800</td>\n",
       "      <td>0.630000</td>\n",
       "      <td>0.194000</td>\n",
       "      <td>17.000000</td>\n",
       "      <td>115.000000</td>\n",
       "    </tr>\n",
       "    <tr>\n",
       "      <td>75%</td>\n",
       "      <td>3.000000</td>\n",
       "      <td>18.000000</td>\n",
       "      <td>0.000000</td>\n",
       "      <td>5.000000</td>\n",
       "      <td>1.000000</td>\n",
       "      <td>2.000000</td>\n",
       "      <td>0.660000</td>\n",
       "      <td>0.621200</td>\n",
       "      <td>0.780000</td>\n",
       "      <td>0.253700</td>\n",
       "      <td>48.000000</td>\n",
       "      <td>220.000000</td>\n",
       "    </tr>\n",
       "    <tr>\n",
       "      <td>max</td>\n",
       "      <td>4.000000</td>\n",
       "      <td>23.000000</td>\n",
       "      <td>1.000000</td>\n",
       "      <td>6.000000</td>\n",
       "      <td>1.000000</td>\n",
       "      <td>4.000000</td>\n",
       "      <td>1.000000</td>\n",
       "      <td>1.000000</td>\n",
       "      <td>1.000000</td>\n",
       "      <td>0.850700</td>\n",
       "      <td>367.000000</td>\n",
       "      <td>886.000000</td>\n",
       "    </tr>\n",
       "  </tbody>\n",
       "</table>\n",
       "</div>"
      ],
      "text/plain": [
       "             season          hour       holiday       weekday    workingday  \\\n",
       "count  17379.000000  17379.000000  17379.000000  17379.000000  17379.000000   \n",
       "mean       2.501640     11.546752      0.028770      3.003683      0.682721   \n",
       "std        1.106918      6.914405      0.167165      2.005771      0.465431   \n",
       "min        1.000000      0.000000      0.000000      0.000000      0.000000   \n",
       "25%        2.000000      6.000000      0.000000      1.000000      0.000000   \n",
       "50%        3.000000     12.000000      0.000000      3.000000      1.000000   \n",
       "75%        3.000000     18.000000      0.000000      5.000000      1.000000   \n",
       "max        4.000000     23.000000      1.000000      6.000000      1.000000   \n",
       "\n",
       "            weather          temp         atemp           hum     windspeed  \\\n",
       "count  17379.000000  17379.000000  17379.000000  17379.000000  17379.000000   \n",
       "mean       1.425283      0.496987      0.475775      0.627229      0.190098   \n",
       "std        0.639357      0.192556      0.171850      0.192930      0.122340   \n",
       "min        1.000000      0.020000      0.000000      0.000000      0.000000   \n",
       "25%        1.000000      0.340000      0.333300      0.480000      0.104500   \n",
       "50%        1.000000      0.500000      0.484800      0.630000      0.194000   \n",
       "75%        2.000000      0.660000      0.621200      0.780000      0.253700   \n",
       "max        4.000000      1.000000      1.000000      1.000000      0.850700   \n",
       "\n",
       "             casual    registered  \n",
       "count  17379.000000  17379.000000  \n",
       "mean      35.676218    153.786869  \n",
       "std       49.305030    151.357286  \n",
       "min        0.000000      0.000000  \n",
       "25%        4.000000     34.000000  \n",
       "50%       17.000000    115.000000  \n",
       "75%       48.000000    220.000000  \n",
       "max      367.000000    886.000000  "
      ]
     },
     "metadata": {},
     "output_type": "display_data"
    }
   ],
   "source": [
    "bikes_df = pd.read_csv('data/BSS_hour_raw.csv')\n",
    "display(bikes_df.dtypes)\n",
    "display(bikes_df.describe())"
   ]
  },
  {
   "cell_type": "markdown",
   "metadata": {},
   "source": [
    "<HR>\n",
    "Your answer here\n",
    "<HR>\n",
    "\n",
    "The dates are object (they can be datetime instead), but the other ones are ok. Workingday and holiday could be bool type, but int64 is not a proble. So yes, the data types seem to make sense. What does not make sense is the temp and atemp range. I think it's not in Celsius temperature, maybe it assings 1 to the maximum temperature and did a affin transformation. The windspeed's range is strange too. "
   ]
  },
  {
   "cell_type": "markdown",
   "metadata": {},
   "source": [
    "#### 1.2 Notice that the variable in column ...."
   ]
  },
  {
   "cell_type": "code",
   "execution_count": 3,
   "metadata": {},
   "outputs": [],
   "source": [
    "bikes_df['dteday'] = pd.to_datetime(bikes_df['dteday'])"
   ]
  },
  {
   "cell_type": "markdown",
   "metadata": {},
   "source": [
    "#### 1.3 Create three new columns ..."
   ]
  },
  {
   "cell_type": "code",
   "execution_count": 4,
   "metadata": {},
   "outputs": [],
   "source": [
    "bikes_df['year'] = bikes_df['dteday'].apply(lambda x: int(x.year == 2012))\n",
    "bikes_df['month'] = bikes_df['dteday'].apply(lambda x: x.month)\n",
    "counts = (bikes_df.groupby('dteday')['casual'].sum() + bikes_df.groupby('dteday')['registered'].sum())\n",
    "counts_func = lambda x: counts.loc[x]\n",
    "bikes_df['counts'] = bikes_df['dteday'].apply(counts_func)"
   ]
  },
  {
   "cell_type": "markdown",
   "metadata": {},
   "source": [
    "#### 1.4 Use visualization to inspect and comment on how casual rentals and registered rentals vary with the hour. "
   ]
  },
  {
   "cell_type": "code",
   "execution_count": 5,
   "metadata": {},
   "outputs": [
    {
     "data": {
      "image/png": "[encoded data removed]",
      "text/plain": [
       "<Figure size 1728x576 with 3 Axes>"
      ]
     },
     "metadata": {
      "needs_background": "light"
     },
     "output_type": "display_data"
    }
   ],
   "source": [
    "hour_casual = bikes_df.groupby('hour')['casual'].sum()\n",
    "hour_registered = bikes_df.groupby('hour')['registered'].sum()\n",
    "\n",
    "fig, ax = plt.subplots(1,3,figsize = (24,8))\n",
    "ax[0].scatter(hour_casual.index, hour_casual)\n",
    "ax[0].set_title('Casual rentals per hour')\n",
    "ax[0].set_ylabel('Total rentals')\n",
    "ax[0].set_xlabel('Hours')\n",
    "ax[1].scatter(hour_registered.index, hour_registered)\n",
    "ax[1].set_title('Registered rentals per hour')\n",
    "ax[1].set_ylabel('Total rentals')\n",
    "ax[1].set_xlabel('Hours')\n",
    "ax[2].scatter(hour_registered.index, hour_registered + hour_casual)\n",
    "ax[2].set_title('Registered + Casual rentals per hour')\n",
    "ax[2].set_ylabel('Total rentals')\n",
    "ax[2].set_xlabel('Hours')\n",
    "plt.show()"
   ]
  },
  {
   "cell_type": "markdown",
   "metadata": {},
   "source": [
    "<HR>\n",
    "Your answer here<HR>\n",
    "\n",
    "It seem to have a polynomial relation when the hour varies. In the casual plot, it's really amazing the curve, a second or third degree. In the registered, it's not so clear the polynomial degree. "
   ]
  },
  {
   "cell_type": "markdown",
   "metadata": {},
   "source": [
    "#### 1.5 Use the variable holiday to show how holidays affect the relationship in question 1.4. What do you observe?"
   ]
  },
  {
   "cell_type": "code",
   "execution_count": 6,
   "metadata": {},
   "outputs": [
    {
     "data": {
      "image/png": "[encoded data removed]",
      "text/plain": [
       "<Figure size 1728x864 with 6 Axes>"
      ]
     },
     "metadata": {
      "needs_background": "light"
     },
     "output_type": "display_data"
    }
   ],
   "source": [
    "hour_casual_hol = bikes_df[bikes_df.holiday == True].groupby('hour')['casual'].mean()\n",
    "hour_casual_wd = bikes_df[bikes_df.holiday == False].groupby('hour')['casual'].mean()\n",
    "hour_registered_hol = bikes_df[bikes_df.holiday == True].groupby('hour')['registered'].mean()\n",
    "hour_registered_wd = bikes_df[bikes_df.holiday == False].groupby('hour')['registered'].mean()\n",
    "\n",
    "fig, ax = plt.subplots(2,3,figsize = (24,12))\n",
    "ax[0][0].scatter(hour_casual_hol.index, hour_casual_hol)\n",
    "ax[0][0].set_title('Casual rentals per hour in holiday')\n",
    "ax[0][0].set_ylabel('Total rentals')\n",
    "ax[0][0].set_xlabel('Hours')\n",
    "ax[0][1].scatter(hour_registered_hol.index, hour_registered_hol)\n",
    "ax[0][1].set_title('Registered rentals per hour in holiday')\n",
    "ax[0][1].set_ylabel('Total rentals')\n",
    "ax[0][1].set_xlabel('Hours')\n",
    "ax[0][2].scatter(hour_registered_hol.index, hour_registered_hol + hour_casual_hol)\n",
    "ax[0][2].set_title('Registered + Casual rentals per hour in holiday')\n",
    "ax[0][2].set_ylabel('Total rentals')\n",
    "ax[0][2].set_xlabel('Hours')\n",
    "\n",
    "ax[1][0].scatter(hour_casual_wd.index, hour_casual_wd)\n",
    "ax[1][0].set_title('Casual rentals per hour no holiday')\n",
    "ax[1][0].set_ylabel('Total rentals')\n",
    "ax[1][0].set_xlabel('Hours')\n",
    "ax[1][1].scatter(hour_registered_wd.index, hour_registered_wd)\n",
    "ax[1][1].set_title('Registered rentals per hour no holiday')\n",
    "ax[1][1].set_ylabel('Total rentals')\n",
    "ax[1][1].set_xlabel('Hours')\n",
    "ax[1][2].scatter(hour_registered_wd.index, hour_registered_wd + hour_casual_wd)\n",
    "ax[1][2].set_title('Registered + Casual rentals per hour no holiday')\n",
    "ax[1][2].set_ylabel('Total rentals')\n",
    "ax[1][2].set_xlabel('Hours')\n",
    "\n",
    "plt.show()"
   ]
  },
  {
   "cell_type": "markdown",
   "metadata": {},
   "source": [
    "<HR>\n",
    "Your answer here<BR>\n",
    "<HR>\n",
    "    \n",
    "I plotted the mean because it puts in the same unity. If we considerer the sum, the difference is much bigger. We perceive that the casual rentals do not chance much, but the registered change a lot, maily in the working hours (9h - 16h)"
   ]
  },
  {
   "cell_type": "markdown",
   "metadata": {},
   "source": [
    "#### 1.6  Use visualization to show how weather affects casual and registered rentals. What do you observe?"
   ]
  },
  {
   "cell_type": "code",
   "execution_count": 7,
   "metadata": {},
   "outputs": [
    {
     "data": {
      "image/png": "[encoded data removed]",
      "text/plain": [
       "<Figure size 1728x576 with 2 Axes>"
      ]
     },
     "metadata": {
      "needs_background": "light"
     },
     "output_type": "display_data"
    }
   ],
   "source": [
    "weather_casual = bikes_df.groupby('weather')['casual'].mean()\n",
    "weather_registered = bikes_df.groupby('weather')['registered'].mean()\n",
    "\n",
    "fig, ax = plt.subplots(1,2,figsize = (24,8))\n",
    "weather = ['clear','misty','light rain','heavy rain']\n",
    "ax[0].bar(weather, weather_casual)\n",
    "ax[0].set_title('Casual rentals per weather', fontsize = 20)\n",
    "ax[0].set_ylabel('Total rentals', fontsize = 15)\n",
    "ax[0].set_xlabel('Weather', fontsize = 15)\n",
    "ax[0].tick_params(labelsize = 15)\n",
    "ax[1].bar(weather, weather_registered)\n",
    "ax[1].set_title('Registered rentals per weather', fontsize = 20)\n",
    "ax[1].set_ylabel('Total rentals', fontsize = 15)\n",
    "ax[1].set_xlabel('Weather', fontsize = 15)\n",
    "ax[1].tick_params(labelsize = 15)\n",
    "plt.show()"
   ]
  },
  {
   "cell_type": "markdown",
   "metadata": {},
   "source": [
    "<HR>\n",
    "Your answer here\n",
    "<HR>\n",
    "\n",
    "I observe the obvious: As clear the weather is, more the rentals, in registered and in casual."
   ]
  },
  {
   "cell_type": "markdown",
   "metadata": {},
   "source": [
    "<div class='exercise'> <b> Question 2: Explore Seasonality on Bike Ridership. </b></div>\n",
    "\n",
    "#### Seasonality and weather\n",
    "\n",
    "Now let's examine the effect of weather and time of the year. For example, you want to see how ridership varies with season of the year. \n",
    "\n",
    "**2.1** Make a new dataframe with the following subset of attributes from the previous dataset and with each entry being **ONE** day:\n",
    "\n",
    "- `dteday`, the timestamp for that day (fine to set to noon or any other time)\n",
    "- `weekday`, the day of the week\n",
    "- `weather`, the most severe weather that day\n",
    "- `season`, the season that day falls in\n",
    "- `temp`, the average temperature\n",
    "- `atemp`, the average atemp that day\n",
    "- `windspeed`, the average windspeed that day\n",
    "- `hum`, the average humidity that day\n",
    "- `casual`, the **total** number of rentals by casual users\n",
    "- `registered`, the **total** number of rentals by registered users\n",
    "- `counts`, the **total** number of rentals\n",
    "\n",
    "Name this dataframe `bikes_by_day` and use it for all of Question 2.\n",
    "\n",
    "**2.2** How does **season** affect the number of bike rentals for **casual riders** or **registered riders** per day? Use the variable `season` for this question. Comment on your observations. \n",
    "\n",
    "**2.3** What percentage of rentals are made by casual riders or registered riders for each day of the week? Comment on any patterns you see and give a possible explanation.\n",
    "\n",
    "**2.4** How is the **distribution of total number of bike rentals** different for sunny days vs cloudy days?\n",
    "\n",
    "**2.5** Visualize how the **total number of rides** per day varies with the **season**. Do you see any **outliers**? (We define an outlier as a value 1.5 times the IQR above the 75th percentile or 1.5 times the IQR below the 25th percentiles. This is the same rule used by pyplot's boxplot function). If you see any outliers, identify those dates and investigate if they are a chance occurence, an error in the data collection, or an important event.\n",
    "\n",
    "#### HINT\n",
    "- Use .copy() when creating the new dataframe, so you leave the original untouched. We will come back to it later.\n",
    "- Use .groupby() to creat the new dataframe. You will have to make some choice on how to aggregate the variables."
   ]
  },
  {
   "cell_type": "markdown",
   "metadata": {},
   "source": [
    "### Answers"
   ]
  },
  {
   "cell_type": "markdown",
   "metadata": {},
   "source": [
    "#### 2.1 Make a new dataframe with the following subset ..."
   ]
  },
  {
   "cell_type": "code",
   "execution_count": 8,
   "metadata": {},
   "outputs": [],
   "source": [
    "first_func = lambda x: x.iloc[0]\n",
    "bikes_by_day = bikes_df.groupby('dteday').agg({'weekday': first_func, \n",
    "                                               'weather': np.max, \n",
    "                                               'season': first_func, \n",
    "                                               'temp': np.mean,\n",
    "                                               'atemp': np.mean, \n",
    "                                               'hum': np.mean,\n",
    "                                               'windspeed': np.mean,\n",
    "                                               'casual': np.sum,\n",
    "                                               'registered': np.sum,\n",
    "                                               'counts': first_func})"
   ]
  },
  {
   "cell_type": "markdown",
   "metadata": {},
   "source": [
    "#### 2.2 How does season affect the number of bike ..."
   ]
  },
  {
   "cell_type": "code",
   "execution_count": 9,
   "metadata": {},
   "outputs": [
    {
     "name": "stdout",
     "output_type": "stream",
     "text": [
      "Correlation between the variables\n"
     ]
    },
    {
     "data": {
      "text/plain": [
       "casual        0.210399\n",
       "registered    0.411623\n",
       "Name: season, dtype: float64"
      ]
     },
     "metadata": {},
     "output_type": "display_data"
    },
    {
     "data": {
      "image/png": "[encoded data removed]",
      "text/plain": [
       "<Figure size 576x288 with 1 Axes>"
      ]
     },
     "metadata": {
      "needs_background": "light"
     },
     "output_type": "display_data"
    }
   ],
   "source": [
    "print('Correlation between the variables')\n",
    "display(bikes_by_day.corr()[['casual','registered']].loc['season'])\n",
    "\n",
    "season = bikes_by_day.groupby('season')[['casual','registered']].mean()\n",
    "\n",
    "fig, ax = plt.subplots(figsize = (8,4))\n",
    "labels = ['winter', 'spring', 'summer', 'fall']\n",
    "x = np.array([1,2,3,4])\n",
    "width = 0.4\n",
    "ax.bar(x - width/2 , height = season['casual'], width = width, label = 'casual')\n",
    "ax.bar(x + width/2, height = season['registered'], width = width, label = 'registered')\n",
    "ax.set_title('Mean rentals per day per station')\n",
    "ax.set_ylabel('mean rentals')\n",
    "ax.set_xlabel('stations')\n",
    "ax.set_xticks(x)\n",
    "ax.set_xticklabels(labels)\n",
    "ax.legend()\n",
    "\n",
    "plt.show()"
   ]
  },
  {
   "cell_type": "markdown",
   "metadata": {},
   "source": [
    "<HR>\n",
    "Your answer here\n",
    "<HR>\n",
    "    \n",
    "Observe there is a positive correlation between those variables, although it doesn't tell much about all. The bar plot says to us that the summer, spring and fall have more rentals comparing to winter. Comparing fall with spring we have two cases: in casual rentals, more in spring, less in fall. In registered rentals, more in fall, less in spring (considering the mean value). But, they are quite similar. "
   ]
  },
  {
   "cell_type": "markdown",
   "metadata": {},
   "source": [
    "#### 2.3 What percentage of rentals are made by casual riders or registered riders ..."
   ]
  },
  {
   "cell_type": "code",
   "execution_count": 10,
   "metadata": {},
   "outputs": [
    {
     "data": {
      "text/html": [
       "<div>\n",
       "<style scoped>\n",
       "    .dataframe tbody tr th:only-of-type {\n",
       "        vertical-align: middle;\n",
       "    }\n",
       "\n",
       "    .dataframe tbody tr th {\n",
       "        vertical-align: top;\n",
       "    }\n",
       "\n",
       "    .dataframe thead th {\n",
       "        text-align: right;\n",
       "    }\n",
       "</style>\n",
       "<table border=\"1\" class=\"dataframe\">\n",
       "  <thead>\n",
       "    <tr style=\"text-align: right;\">\n",
       "      <th></th>\n",
       "      <th>casual</th>\n",
       "      <th>registered</th>\n",
       "    </tr>\n",
       "    <tr>\n",
       "      <th>weekday</th>\n",
       "      <th></th>\n",
       "      <th></th>\n",
       "    </tr>\n",
       "  </thead>\n",
       "  <tbody>\n",
       "    <tr>\n",
       "      <td>0</td>\n",
       "      <td>31.646949</td>\n",
       "      <td>68.353051</td>\n",
       "    </tr>\n",
       "    <tr>\n",
       "      <td>1</td>\n",
       "      <td>15.539744</td>\n",
       "      <td>84.460256</td>\n",
       "    </tr>\n",
       "    <tr>\n",
       "      <td>2</td>\n",
       "      <td>12.330397</td>\n",
       "      <td>87.669603</td>\n",
       "    </tr>\n",
       "    <tr>\n",
       "      <td>3</td>\n",
       "      <td>12.116952</td>\n",
       "      <td>87.883048</td>\n",
       "    </tr>\n",
       "    <tr>\n",
       "      <td>4</td>\n",
       "      <td>12.661853</td>\n",
       "      <td>87.338147</td>\n",
       "    </tr>\n",
       "    <tr>\n",
       "      <td>5</td>\n",
       "      <td>16.039279</td>\n",
       "      <td>83.960721</td>\n",
       "    </tr>\n",
       "    <tr>\n",
       "      <td>6</td>\n",
       "      <td>32.199612</td>\n",
       "      <td>67.800388</td>\n",
       "    </tr>\n",
       "  </tbody>\n",
       "</table>\n",
       "</div>"
      ],
      "text/plain": [
       "            casual  registered\n",
       "weekday                       \n",
       "0        31.646949   68.353051\n",
       "1        15.539744   84.460256\n",
       "2        12.330397   87.669603\n",
       "3        12.116952   87.883048\n",
       "4        12.661853   87.338147\n",
       "5        16.039279   83.960721\n",
       "6        32.199612   67.800388"
      ]
     },
     "metadata": {},
     "output_type": "display_data"
    }
   ],
   "source": [
    "weekday = bikes_by_day.groupby('weekday')[['casual','registered']].sum()\n",
    "weekday['total'] = weekday['casual'] + weekday['registered']\n",
    "weekday['casual'] = 100*weekday['casual']/weekday['total']\n",
    "weekday['registered'] = 100*weekday['registered']/weekday['total']\n",
    "display(weekday[['casual', 'registered']])"
   ]
  },
  {
   "cell_type": "markdown",
   "metadata": {},
   "source": [
    "<HR>\n",
    "Your answer here\n",
    "<HR>\n",
    "    \n",
    "A pattern is the weekend. In the weekend (0 and 6), the proportion is different from the week. Maybe it occurs, because mode people like to use bikes in the weekend, but do not want to register, only for a tour, playing, etc."
   ]
  },
  {
   "cell_type": "markdown",
   "metadata": {},
   "source": [
    "#### 2.4 How is the distribution of total number of bike rentals different ..."
   ]
  },
  {
   "cell_type": "code",
   "execution_count": 11,
   "metadata": {},
   "outputs": [
    {
     "data": {
      "image/png": "[encoded data removed]",
      "text/plain": [
       "<Figure size 1008x360 with 2 Axes>"
      ]
     },
     "metadata": {
      "needs_background": "light"
     },
     "output_type": "display_data"
    }
   ],
   "source": [
    "sunny_days = bikes_by_day[bikes_by_day['weather'] == 1]['counts']\n",
    "cloudy_days = bikes_by_day[bikes_by_day['weather'] != 1]['counts']\n",
    "fig, ax = plt.subplots(1,2, figsize = (14,5))\n",
    "sns.distplot(sunny_days, ax = ax[0], bins = 12)\n",
    "ax[0].set_title('Sunny days')\n",
    "sns.distplot(cloudy_days, ax = ax[1], bins = 12)\n",
    "ax[1].set_title('Cloudy days (light and heavy rain)')\n",
    "plt.show()"
   ]
  },
  {
   "cell_type": "markdown",
   "metadata": {},
   "source": [
    "<HR>\n",
    "Your answer here\n",
    "<HR>\n",
    "    \n",
    "The distributions aren't much differents. The main difference is that there is a second peak at 8000 (approx.). The cloudy days are more dispersive too. "
   ]
  },
  {
   "cell_type": "markdown",
   "metadata": {},
   "source": [
    "#### 2.5 Visualize how the total number of rides per day ..."
   ]
  },
  {
   "cell_type": "code",
   "execution_count": 12,
   "metadata": {},
   "outputs": [
    {
     "data": {
      "image/png": "[encoded data removed]",
      "text/plain": [
       "<Figure size 720x432 with 1 Axes>"
      ]
     },
     "metadata": {
      "needs_background": "light"
     },
     "output_type": "display_data"
    }
   ],
   "source": [
    "fig, ax = plt.subplots(figsize = (10, 6))\n",
    "sns.boxplot(x = 'season', y = 'counts', data = bikes_by_day[['season','counts']])\n",
    "ax.set_title('Total rentals per day by season', fontsize = 18)\n",
    "ax.set_xticklabels(['winter','spring','summer','fall'])\n",
    "plt.show()"
   ]
  },
  {
   "cell_type": "markdown",
   "metadata": {},
   "source": [
    "<HR>\n",
    "Your answer here\n",
    "<HR>\n",
    "    \n",
    "Yes, there are outliers in the winter and in the fall. he “whiskers” extend to points that lie within 1.5 IQRs of the lower and upper quartile. Let's investigate it!"
   ]
  },
  {
   "cell_type": "code",
   "execution_count": 13,
   "metadata": {},
   "outputs": [
    {
     "name": "stdout",
     "output_type": "stream",
     "text": [
      "Outlier in the fall: In this day, the hurricane Sandy passed throw Washington D.C.\n",
      "Reference: https://www.theguardian.com/world/2012/oct/29/washington-dc-shutdown-hurricane-sandy\n"
     ]
    },
    {
     "data": {
      "text/html": [
       "<div>\n",
       "<style scoped>\n",
       "    .dataframe tbody tr th:only-of-type {\n",
       "        vertical-align: middle;\n",
       "    }\n",
       "\n",
       "    .dataframe tbody tr th {\n",
       "        vertical-align: top;\n",
       "    }\n",
       "\n",
       "    .dataframe thead th {\n",
       "        text-align: right;\n",
       "    }\n",
       "</style>\n",
       "<table border=\"1\" class=\"dataframe\">\n",
       "  <thead>\n",
       "    <tr style=\"text-align: right;\">\n",
       "      <th></th>\n",
       "      <th>weekday</th>\n",
       "      <th>weather</th>\n",
       "      <th>season</th>\n",
       "      <th>temp</th>\n",
       "      <th>atemp</th>\n",
       "      <th>hum</th>\n",
       "      <th>windspeed</th>\n",
       "      <th>casual</th>\n",
       "      <th>registered</th>\n",
       "      <th>counts</th>\n",
       "    </tr>\n",
       "    <tr>\n",
       "      <th>dteday</th>\n",
       "      <th></th>\n",
       "      <th></th>\n",
       "      <th></th>\n",
       "      <th></th>\n",
       "      <th></th>\n",
       "      <th></th>\n",
       "      <th></th>\n",
       "      <th></th>\n",
       "      <th></th>\n",
       "      <th></th>\n",
       "    </tr>\n",
       "  </thead>\n",
       "  <tbody>\n",
       "    <tr>\n",
       "      <td>2012-10-29</td>\n",
       "      <td>1</td>\n",
       "      <td>3</td>\n",
       "      <td>4</td>\n",
       "      <td>0.44</td>\n",
       "      <td>0.4394</td>\n",
       "      <td>0.88</td>\n",
       "      <td>0.3582</td>\n",
       "      <td>2</td>\n",
       "      <td>20</td>\n",
       "      <td>22</td>\n",
       "    </tr>\n",
       "  </tbody>\n",
       "</table>\n",
       "</div>"
      ],
      "text/plain": [
       "            weekday  weather  season  temp   atemp   hum  windspeed  casual  \\\n",
       "dteday                                                                        \n",
       "2012-10-29        1        3       4  0.44  0.4394  0.88     0.3582       2   \n",
       "\n",
       "            registered  counts  \n",
       "dteday                          \n",
       "2012-10-29          20      22  "
      ]
     },
     "metadata": {},
     "output_type": "display_data"
    },
    {
     "name": "stdout",
     "output_type": "stream",
     "text": [
      "Outlier in the winter: In this day it was St. Patrick Day. Even President Obama enjoyed it!\n",
      "Reference: https://wtop.com/news/2012/03/obama-marks-st-patricks-day-at-the-dubliner/\n"
     ]
    },
    {
     "data": {
      "text/html": [
       "<div>\n",
       "<style scoped>\n",
       "    .dataframe tbody tr th:only-of-type {\n",
       "        vertical-align: middle;\n",
       "    }\n",
       "\n",
       "    .dataframe tbody tr th {\n",
       "        vertical-align: top;\n",
       "    }\n",
       "\n",
       "    .dataframe thead th {\n",
       "        text-align: right;\n",
       "    }\n",
       "</style>\n",
       "<table border=\"1\" class=\"dataframe\">\n",
       "  <thead>\n",
       "    <tr style=\"text-align: right;\">\n",
       "      <th></th>\n",
       "      <th>weekday</th>\n",
       "      <th>weather</th>\n",
       "      <th>season</th>\n",
       "      <th>temp</th>\n",
       "      <th>atemp</th>\n",
       "      <th>hum</th>\n",
       "      <th>windspeed</th>\n",
       "      <th>casual</th>\n",
       "      <th>registered</th>\n",
       "      <th>counts</th>\n",
       "    </tr>\n",
       "    <tr>\n",
       "      <th>dteday</th>\n",
       "      <th></th>\n",
       "      <th></th>\n",
       "      <th></th>\n",
       "      <th></th>\n",
       "      <th></th>\n",
       "      <th></th>\n",
       "      <th></th>\n",
       "      <th></th>\n",
       "      <th></th>\n",
       "      <th></th>\n",
       "    </tr>\n",
       "  </thead>\n",
       "  <tbody>\n",
       "    <tr>\n",
       "      <td>2012-03-17</td>\n",
       "      <td>6</td>\n",
       "      <td>2</td>\n",
       "      <td>1</td>\n",
       "      <td>0.514167</td>\n",
       "      <td>0.505046</td>\n",
       "      <td>0.755833</td>\n",
       "      <td>0.110704</td>\n",
       "      <td>3155</td>\n",
       "      <td>4681</td>\n",
       "      <td>7836</td>\n",
       "    </tr>\n",
       "  </tbody>\n",
       "</table>\n",
       "</div>"
      ],
      "text/plain": [
       "            weekday  weather  season      temp     atemp       hum  windspeed  \\\n",
       "dteday                                                                          \n",
       "2012-03-17        6        2       1  0.514167  0.505046  0.755833   0.110704   \n",
       "\n",
       "            casual  registered  counts  \n",
       "dteday                                  \n",
       "2012-03-17    3155        4681    7836  "
      ]
     },
     "metadata": {},
     "output_type": "display_data"
    }
   ],
   "source": [
    "Q1_winter = bikes_by_day[bikes_by_day.season == 1]['counts'].quantile(0.25)\n",
    "Q1_fall = bikes_by_day[bikes_by_day.season == 4]['counts'].quantile(0.25)\n",
    "Q3_winter = bikes_by_day[bikes_by_day.season == 1]['counts'].quantile(0.75)\n",
    "Q3_fall = bikes_by_day[bikes_by_day.season == 4]['counts'].quantile(0.75)\n",
    "IQR_winter = Q3_winter - Q1_winter\n",
    "IQR_fall = Q3_fall - Q1_fall\n",
    "print(\"Outlier in the fall: In this day, the hurricane Sandy passed throw Washington D.C.\")\n",
    "print(\"Reference: https://www.theguardian.com/world/2012/oct/29/washington-dc-shutdown-hurricane-sandy\")\n",
    "display(bikes_by_day[(bikes_by_day['counts'] < (Q1_fall - 1.5 * IQR_fall)) & (bikes_by_day.season == 4)])\n",
    "print(\"Outlier in the winter: In this day it was St. Patrick Day. Even President Obama enjoyed it!\")\n",
    "print(\"Reference: https://wtop.com/news/2012/03/obama-marks-st-patricks-day-at-the-dubliner/\")\n",
    "display(bikes_by_day[(bikes_by_day['counts'] > (Q3_winter + 1.5 * IQR_winter)) & (bikes_by_day.season == 1)])"
   ]
  },
  {
   "cell_type": "markdown",
   "metadata": {},
   "source": [
    "<div class='exercise'> <b> Question 3: Prepare the data for Regression </b> </div>\n",
    "\n",
    "**3.1** Visualize and describe inter-dependencies among the following variables: `weekday`, `season`, `month`,`weather`, `temp`, `atemp`, `hum`, `windspeed`, `casual`,`registered`, `counts`. Note and comment on any strongly related variables.\n",
    "\n",
    "**3.2** Convert the categorical attributes into multiple binary attributes using **one-hot encoding**. \n",
    "\n",
    "\n",
    "**3.3** Split the initial `bikes_df` dataset (with hourly data about rentals) into train and test sets. Do this in a 'stratified' fashion, ensuring that all months are equally represented in each set. Explain your choice for a splitting algorithm. We ask you to create your train and test sets, but for consistency and easy checking we ask that, for the rest of this problem set, you use the train and test set provided in the question below.\n",
    "\n",
    "**3.4** Read `data/BSS_train.csv` and `data/BSS_test.csv` into dataframes `BSS_train` and `BSS_test`, respectively. After checking your train and test datasets for accuracy, remove the `dteday` column from both train and test dataset. We do not need it, and its format cannot be used for analysis. Also, remove any predictors that would make predicting the `count` trivial.\n",
    "\n",
    "**3.5** Calculate the **Pearson correlation** coefficients between all the features. Visualize the matrix using a heatmap. Which predictors have a positive correlation with the number of bike rentals? For categorical attributes, you should use each binary predictor resulting from one-hot encoding to compute their correlations.  Identify pairs of predictors with collinearity >0.7.\n",
    "\n",
    "#### Hints: \n",
    "- You may use the `np.corrcoef` function to compute the correlation matrix for a data set (do not forget to transpose the data matrix). You may use `plt.pcolor` function to visualize the correlation matrix.\n",
    "\n"
   ]
  },
  {
   "cell_type": "markdown",
   "metadata": {},
   "source": [
    "#### Answers"
   ]
  },
  {
   "cell_type": "markdown",
   "metadata": {},
   "source": [
    "#### 3.1 Visualize and describe inter-dependencies  ... "
   ]
  },
  {
   "cell_type": "code",
   "execution_count": 14,
   "metadata": {},
   "outputs": [
    {
     "data": {
      "text/html": [
       "<div>\n",
       "<style scoped>\n",
       "    .dataframe tbody tr th:only-of-type {\n",
       "        vertical-align: middle;\n",
       "    }\n",
       "\n",
       "    .dataframe tbody tr th {\n",
       "        vertical-align: top;\n",
       "    }\n",
       "\n",
       "    .dataframe thead th {\n",
       "        text-align: right;\n",
       "    }\n",
       "</style>\n",
       "<table border=\"1\" class=\"dataframe\">\n",
       "  <thead>\n",
       "    <tr style=\"text-align: right;\">\n",
       "      <th></th>\n",
       "      <th>weekday</th>\n",
       "      <th>season</th>\n",
       "      <th>month</th>\n",
       "      <th>weather</th>\n",
       "      <th>temp</th>\n",
       "      <th>atemp</th>\n",
       "      <th>hum</th>\n",
       "      <th>windspeed</th>\n",
       "      <th>casual</th>\n",
       "      <th>registered</th>\n",
       "      <th>counts</th>\n",
       "    </tr>\n",
       "  </thead>\n",
       "  <tbody>\n",
       "    <tr>\n",
       "      <td>weekday</td>\n",
       "      <td>1.000000</td>\n",
       "      <td>-0.002335</td>\n",
       "      <td>0.010400</td>\n",
       "      <td>0.003311</td>\n",
       "      <td>-0.001795</td>\n",
       "      <td>-0.008821</td>\n",
       "      <td>-0.037158</td>\n",
       "      <td>0.011502</td>\n",
       "      <td>0.032721</td>\n",
       "      <td>0.021578</td>\n",
       "      <td>0.064204</td>\n",
       "    </tr>\n",
       "    <tr>\n",
       "      <td>season</td>\n",
       "      <td>-0.002335</td>\n",
       "      <td>1.000000</td>\n",
       "      <td>0.830386</td>\n",
       "      <td>-0.014524</td>\n",
       "      <td>0.312025</td>\n",
       "      <td>0.319380</td>\n",
       "      <td>0.150625</td>\n",
       "      <td>-0.149773</td>\n",
       "      <td>0.120206</td>\n",
       "      <td>0.174226</td>\n",
       "      <td>0.408077</td>\n",
       "    </tr>\n",
       "    <tr>\n",
       "      <td>month</td>\n",
       "      <td>0.010400</td>\n",
       "      <td>0.830386</td>\n",
       "      <td>1.000000</td>\n",
       "      <td>0.005400</td>\n",
       "      <td>0.201691</td>\n",
       "      <td>0.208096</td>\n",
       "      <td>0.164411</td>\n",
       "      <td>-0.135386</td>\n",
       "      <td>0.068457</td>\n",
       "      <td>0.122273</td>\n",
       "      <td>0.277704</td>\n",
       "    </tr>\n",
       "    <tr>\n",
       "      <td>weather</td>\n",
       "      <td>0.003311</td>\n",
       "      <td>-0.014524</td>\n",
       "      <td>0.005400</td>\n",
       "      <td>1.000000</td>\n",
       "      <td>-0.102640</td>\n",
       "      <td>-0.105563</td>\n",
       "      <td>0.418130</td>\n",
       "      <td>0.026226</td>\n",
       "      <td>-0.152628</td>\n",
       "      <td>-0.120966</td>\n",
       "      <td>-0.230464</td>\n",
       "    </tr>\n",
       "    <tr>\n",
       "      <td>temp</td>\n",
       "      <td>-0.001795</td>\n",
       "      <td>0.312025</td>\n",
       "      <td>0.201691</td>\n",
       "      <td>-0.102640</td>\n",
       "      <td>1.000000</td>\n",
       "      <td>0.987672</td>\n",
       "      <td>-0.069881</td>\n",
       "      <td>-0.023125</td>\n",
       "      <td>0.459616</td>\n",
       "      <td>0.335361</td>\n",
       "      <td>0.592402</td>\n",
       "    </tr>\n",
       "    <tr>\n",
       "      <td>atemp</td>\n",
       "      <td>-0.008821</td>\n",
       "      <td>0.319380</td>\n",
       "      <td>0.208096</td>\n",
       "      <td>-0.105563</td>\n",
       "      <td>0.987672</td>\n",
       "      <td>1.000000</td>\n",
       "      <td>-0.051918</td>\n",
       "      <td>-0.062336</td>\n",
       "      <td>0.454080</td>\n",
       "      <td>0.332559</td>\n",
       "      <td>0.594557</td>\n",
       "    </tr>\n",
       "    <tr>\n",
       "      <td>hum</td>\n",
       "      <td>-0.037158</td>\n",
       "      <td>0.150625</td>\n",
       "      <td>0.164411</td>\n",
       "      <td>0.418130</td>\n",
       "      <td>-0.069881</td>\n",
       "      <td>-0.051918</td>\n",
       "      <td>1.000000</td>\n",
       "      <td>-0.290105</td>\n",
       "      <td>-0.347028</td>\n",
       "      <td>-0.273933</td>\n",
       "      <td>-0.067356</td>\n",
       "    </tr>\n",
       "    <tr>\n",
       "      <td>windspeed</td>\n",
       "      <td>0.011502</td>\n",
       "      <td>-0.149773</td>\n",
       "      <td>-0.135386</td>\n",
       "      <td>0.026226</td>\n",
       "      <td>-0.023125</td>\n",
       "      <td>-0.062336</td>\n",
       "      <td>-0.290105</td>\n",
       "      <td>1.000000</td>\n",
       "      <td>0.090287</td>\n",
       "      <td>0.082321</td>\n",
       "      <td>-0.145990</td>\n",
       "    </tr>\n",
       "    <tr>\n",
       "      <td>casual</td>\n",
       "      <td>0.032721</td>\n",
       "      <td>0.120206</td>\n",
       "      <td>0.068457</td>\n",
       "      <td>-0.152628</td>\n",
       "      <td>0.459616</td>\n",
       "      <td>0.454080</td>\n",
       "      <td>-0.347028</td>\n",
       "      <td>0.090287</td>\n",
       "      <td>1.000000</td>\n",
       "      <td>0.506618</td>\n",
       "      <td>0.386582</td>\n",
       "    </tr>\n",
       "    <tr>\n",
       "      <td>registered</td>\n",
       "      <td>0.021578</td>\n",
       "      <td>0.174226</td>\n",
       "      <td>0.122273</td>\n",
       "      <td>-0.120966</td>\n",
       "      <td>0.335361</td>\n",
       "      <td>0.332559</td>\n",
       "      <td>-0.273933</td>\n",
       "      <td>0.082321</td>\n",
       "      <td>0.506618</td>\n",
       "      <td>1.000000</td>\n",
       "      <td>0.398120</td>\n",
       "    </tr>\n",
       "    <tr>\n",
       "      <td>counts</td>\n",
       "      <td>0.064204</td>\n",
       "      <td>0.408077</td>\n",
       "      <td>0.277704</td>\n",
       "      <td>-0.230464</td>\n",
       "      <td>0.592402</td>\n",
       "      <td>0.594557</td>\n",
       "      <td>-0.067356</td>\n",
       "      <td>-0.145990</td>\n",
       "      <td>0.386582</td>\n",
       "      <td>0.398120</td>\n",
       "      <td>1.000000</td>\n",
       "    </tr>\n",
       "  </tbody>\n",
       "</table>\n",
       "</div>"
      ],
      "text/plain": [
       "             weekday    season     month   weather      temp     atemp  \\\n",
       "weekday     1.000000 -0.002335  0.010400  0.003311 -0.001795 -0.008821   \n",
       "season     -0.002335  1.000000  0.830386 -0.014524  0.312025  0.319380   \n",
       "month       0.010400  0.830386  1.000000  0.005400  0.201691  0.208096   \n",
       "weather     0.003311 -0.014524  0.005400  1.000000 -0.102640 -0.105563   \n",
       "temp       -0.001795  0.312025  0.201691 -0.102640  1.000000  0.987672   \n",
       "atemp      -0.008821  0.319380  0.208096 -0.105563  0.987672  1.000000   \n",
       "hum        -0.037158  0.150625  0.164411  0.418130 -0.069881 -0.051918   \n",
       "windspeed   0.011502 -0.149773 -0.135386  0.026226 -0.023125 -0.062336   \n",
       "casual      0.032721  0.120206  0.068457 -0.152628  0.459616  0.454080   \n",
       "registered  0.021578  0.174226  0.122273 -0.120966  0.335361  0.332559   \n",
       "counts      0.064204  0.408077  0.277704 -0.230464  0.592402  0.594557   \n",
       "\n",
       "                 hum  windspeed    casual  registered    counts  \n",
       "weekday    -0.037158   0.011502  0.032721    0.021578  0.064204  \n",
       "season      0.150625  -0.149773  0.120206    0.174226  0.408077  \n",
       "month       0.164411  -0.135386  0.068457    0.122273  0.277704  \n",
       "weather     0.418130   0.026226 -0.152628   -0.120966 -0.230464  \n",
       "temp       -0.069881  -0.023125  0.459616    0.335361  0.592402  \n",
       "atemp      -0.051918  -0.062336  0.454080    0.332559  0.594557  \n",
       "hum         1.000000  -0.290105 -0.347028   -0.273933 -0.067356  \n",
       "windspeed  -0.290105   1.000000  0.090287    0.082321 -0.145990  \n",
       "casual     -0.347028   0.090287  1.000000    0.506618  0.386582  \n",
       "registered -0.273933   0.082321  0.506618    1.000000  0.398120  \n",
       "counts     -0.067356  -0.145990  0.386582    0.398120  1.000000  "
      ]
     },
     "metadata": {},
     "output_type": "display_data"
    },
    {
     "data": {
      "image/png": "[encoded data removed]",
      "text/plain": [
       "<Figure size 720x432 with 2 Axes>"
      ]
     },
     "metadata": {
      "needs_background": "light"
     },
     "output_type": "display_data"
    }
   ],
   "source": [
    "variables = ['weekday','season','month','weather','temp','atemp','hum','windspeed','casual','registered','counts']\n",
    "display(bikes_df[variables].corr())\n",
    "\n",
    "fig, ax = plt.subplots(figsize = (10, 6))\n",
    "c = ax.pcolor(bikes_df[variables].corr(), cmap='YlOrRd')\n",
    "ax.set_title('Pcolor correlation')\n",
    "ax.set_xticks([0.5,2.5,4.5,6.5,8.5, 10.5])\n",
    "ax.set_xticklabels([v for i,v in enumerate(variables) if i%2 == 0])\n",
    "ax.set_yticks([1.5,3.5,5.5,7.5,9.5])\n",
    "ax.set_yticklabels([v for i,v in enumerate(variables) if i%2 == 1])\n",
    "fig.colorbar(c, ax=ax)\n",
    "\n",
    "# The pairplot was inconclusive...\n",
    "# sns.pairplot(bikes_df[variables], y_vars = variables[0:4], x_vars = variables[4:], kind = 'scatter')\n",
    "plt.show()"
   ]
  },
  {
   "cell_type": "markdown",
   "metadata": {},
   "source": [
    "<HR>\n",
    "Your answer here\n",
    "<HR>\n",
    "    \n",
    "Observe that there is a clear correlation between temp and atemp. This makes sense, because it is releated to the same thing. Season and month have a big relation too. Of course, if we know the month, we know the season, one is function of other. Is not exact linear, because the winter (1) starts in December (12). Casual and registered rentals present big correlation too! This is interesting because it says that there is increases in the will to use bike (casually or not!). With count it's interesing that it loses the correlation. We see a moderate positive correlation between temp and atemp with counts (casual and regiistered too). Thats is interesting! Hot days, more people rent bikes. After, there is relation between huminity and weather. Rainy days occur with more damp days. We have a moderate correlation between season and counts too. Other have less than 0.3 of correlation. "
   ]
  },
  {
   "cell_type": "markdown",
   "metadata": {},
   "source": [
    "#### 3.2 Convert the categorical attributes  ...."
   ]
  },
  {
   "cell_type": "code",
   "execution_count": 15,
   "metadata": {},
   "outputs": [],
   "source": [
    "months = bikes_df.month\n",
    "bikes_df = pd.get_dummies(bikes_df, columns = ['season','weekday','weather','month'], drop_first = True)"
   ]
  },
  {
   "cell_type": "markdown",
   "metadata": {},
   "source": [
    "#### 3.3 Split the initial bikes_df dataset..."
   ]
  },
  {
   "cell_type": "code",
   "execution_count": 16,
   "metadata": {},
   "outputs": [],
   "source": [
    "train_df, test_df = train_test_split(bikes_df, stratify = months, test_size = 0.2)"
   ]
  },
  {
   "cell_type": "markdown",
   "metadata": {},
   "source": [
    "<HR>\n",
    "Your answer here\n",
    "<HR>\n",
    "    \n",
    "I chose this algorithm because it's simple and well implemented in pandas module. "
   ]
  },
  {
   "cell_type": "markdown",
   "metadata": {},
   "source": [
    "#### 3.4  Read `data/BSS_train.csv` and `data/BSS_test.csv` into ..."
   ]
  },
  {
   "cell_type": "code",
   "execution_count": 17,
   "metadata": {},
   "outputs": [],
   "source": [
    "BSS_train = pd.read_csv('data/BSS_train.csv')\n",
    "BSS_test = pd.read_csv('data/BSS_test.csv')\n",
    "BSS_train = BSS_train.drop(labels = ['dteday','casual','registered', 'Unnamed: 0'], axis = 1)\n",
    "BSS_test = BSS_test.drop(labels = ['dteday','casual','registered', 'Unnamed: 0'], axis = 1)"
   ]
  },
  {
   "cell_type": "markdown",
   "metadata": {},
   "source": [
    "#### 3.5 Calculate the **Pearson correlation** ...."
   ]
  },
  {
   "cell_type": "code",
   "execution_count": 18,
   "metadata": {},
   "outputs": [
    {
     "data": {
      "text/html": [
       "<div>\n",
       "<style scoped>\n",
       "    .dataframe tbody tr th:only-of-type {\n",
       "        vertical-align: middle;\n",
       "    }\n",
       "\n",
       "    .dataframe tbody tr th {\n",
       "        vertical-align: top;\n",
       "    }\n",
       "\n",
       "    .dataframe thead th {\n",
       "        text-align: right;\n",
       "    }\n",
       "</style>\n",
       "<table border=\"1\" class=\"dataframe\">\n",
       "  <thead>\n",
       "    <tr style=\"text-align: right;\">\n",
       "      <th></th>\n",
       "      <th>hour</th>\n",
       "      <th>holiday</th>\n",
       "      <th>year</th>\n",
       "      <th>workingday</th>\n",
       "      <th>temp</th>\n",
       "      <th>atemp</th>\n",
       "      <th>hum</th>\n",
       "      <th>windspeed</th>\n",
       "      <th>counts</th>\n",
       "      <th>spring</th>\n",
       "      <th>...</th>\n",
       "      <th>Dec</th>\n",
       "      <th>Mon</th>\n",
       "      <th>Tue</th>\n",
       "      <th>Wed</th>\n",
       "      <th>Thu</th>\n",
       "      <th>Fri</th>\n",
       "      <th>Sat</th>\n",
       "      <th>Cloudy</th>\n",
       "      <th>Snow</th>\n",
       "      <th>Storm</th>\n",
       "    </tr>\n",
       "  </thead>\n",
       "  <tbody>\n",
       "    <tr>\n",
       "      <td>hour</td>\n",
       "      <td>1.000000</td>\n",
       "      <td>0.005028</td>\n",
       "      <td>-0.010900</td>\n",
       "      <td>0.002024</td>\n",
       "      <td>0.140745</td>\n",
       "      <td>0.136311</td>\n",
       "      <td>-0.274146</td>\n",
       "      <td>0.139770</td>\n",
       "      <td>0.394167</td>\n",
       "      <td>-0.003675</td>\n",
       "      <td>...</td>\n",
       "      <td>-0.008559</td>\n",
       "      <td>0.002398</td>\n",
       "      <td>0.002814</td>\n",
       "      <td>0.000877</td>\n",
       "      <td>-0.000289</td>\n",
       "      <td>-0.000661</td>\n",
       "      <td>-0.007787</td>\n",
       "      <td>-0.050553</td>\n",
       "      <td>0.020257</td>\n",
       "      <td>-0.005253</td>\n",
       "    </tr>\n",
       "    <tr>\n",
       "      <td>holiday</td>\n",
       "      <td>0.005028</td>\n",
       "      <td>1.000000</td>\n",
       "      <td>0.011641</td>\n",
       "      <td>-0.253523</td>\n",
       "      <td>-0.026372</td>\n",
       "      <td>-0.030072</td>\n",
       "      <td>-0.010085</td>\n",
       "      <td>-0.000291</td>\n",
       "      <td>-0.028252</td>\n",
       "      <td>-0.026538</td>\n",
       "      <td>...</td>\n",
       "      <td>0.003484</td>\n",
       "      <td>0.288895</td>\n",
       "      <td>-0.045881</td>\n",
       "      <td>-0.046017</td>\n",
       "      <td>-0.023697</td>\n",
       "      <td>-0.027916</td>\n",
       "      <td>-0.071661</td>\n",
       "      <td>0.007805</td>\n",
       "      <td>-0.021242</td>\n",
       "      <td>-0.002083</td>\n",
       "    </tr>\n",
       "    <tr>\n",
       "      <td>year</td>\n",
       "      <td>-0.010900</td>\n",
       "      <td>0.011641</td>\n",
       "      <td>1.000000</td>\n",
       "      <td>-0.000840</td>\n",
       "      <td>0.038813</td>\n",
       "      <td>0.037635</td>\n",
       "      <td>-0.086934</td>\n",
       "      <td>-0.008300</td>\n",
       "      <td>0.243886</td>\n",
       "      <td>-0.003334</td>\n",
       "      <td>...</td>\n",
       "      <td>-0.000215</td>\n",
       "      <td>0.003327</td>\n",
       "      <td>-0.003703</td>\n",
       "      <td>0.001554</td>\n",
       "      <td>0.003746</td>\n",
       "      <td>-0.000422</td>\n",
       "      <td>-0.010093</td>\n",
       "      <td>0.013921</td>\n",
       "      <td>-0.038232</td>\n",
       "      <td>-0.000110</td>\n",
       "    </tr>\n",
       "    <tr>\n",
       "      <td>workingday</td>\n",
       "      <td>0.002024</td>\n",
       "      <td>-0.253523</td>\n",
       "      <td>-0.000840</td>\n",
       "      <td>1.000000</td>\n",
       "      <td>0.056547</td>\n",
       "      <td>0.055666</td>\n",
       "      <td>0.020164</td>\n",
       "      <td>-0.009580</td>\n",
       "      <td>0.029534</td>\n",
       "      <td>0.022044</td>\n",
       "      <td>...</td>\n",
       "      <td>-0.019465</td>\n",
       "      <td>0.147598</td>\n",
       "      <td>0.268793</td>\n",
       "      <td>0.272720</td>\n",
       "      <td>0.260472</td>\n",
       "      <td>0.263344</td>\n",
       "      <td>-0.602438</td>\n",
       "      <td>0.022523</td>\n",
       "      <td>0.034080</td>\n",
       "      <td>-0.004647</td>\n",
       "    </tr>\n",
       "    <tr>\n",
       "      <td>temp</td>\n",
       "      <td>0.140745</td>\n",
       "      <td>-0.026372</td>\n",
       "      <td>0.038813</td>\n",
       "      <td>0.056547</td>\n",
       "      <td>1.000000</td>\n",
       "      <td>0.987408</td>\n",
       "      <td>-0.071756</td>\n",
       "      <td>-0.018421</td>\n",
       "      <td>0.406155</td>\n",
       "      <td>0.142863</td>\n",
       "      <td>...</td>\n",
       "      <td>-0.276243</td>\n",
       "      <td>-0.000895</td>\n",
       "      <td>0.025038</td>\n",
       "      <td>0.016462</td>\n",
       "      <td>0.021504</td>\n",
       "      <td>0.000682</td>\n",
       "      <td>-0.036657</td>\n",
       "      <td>-0.071525</td>\n",
       "      <td>-0.062334</td>\n",
       "      <td>-0.019716</td>\n",
       "    </tr>\n",
       "    <tr>\n",
       "      <td>atemp</td>\n",
       "      <td>0.136311</td>\n",
       "      <td>-0.030072</td>\n",
       "      <td>0.037635</td>\n",
       "      <td>0.055666</td>\n",
       "      <td>0.987408</td>\n",
       "      <td>1.000000</td>\n",
       "      <td>-0.053984</td>\n",
       "      <td>-0.058252</td>\n",
       "      <td>0.401119</td>\n",
       "      <td>0.151023</td>\n",
       "      <td>...</td>\n",
       "      <td>-0.267651</td>\n",
       "      <td>0.004153</td>\n",
       "      <td>0.027500</td>\n",
       "      <td>0.014942</td>\n",
       "      <td>0.021189</td>\n",
       "      <td>-0.007918</td>\n",
       "      <td>-0.037245</td>\n",
       "      <td>-0.068782</td>\n",
       "      <td>-0.068844</td>\n",
       "      <td>-0.021537</td>\n",
       "    </tr>\n",
       "    <tr>\n",
       "      <td>hum</td>\n",
       "      <td>-0.274146</td>\n",
       "      <td>-0.010085</td>\n",
       "      <td>-0.086934</td>\n",
       "      <td>0.020164</td>\n",
       "      <td>-0.071756</td>\n",
       "      <td>-0.053984</td>\n",
       "      <td>1.000000</td>\n",
       "      <td>-0.286629</td>\n",
       "      <td>-0.328232</td>\n",
       "      <td>0.002175</td>\n",
       "      <td>...</td>\n",
       "      <td>0.063829</td>\n",
       "      <td>0.013808</td>\n",
       "      <td>0.032100</td>\n",
       "      <td>0.042039</td>\n",
       "      <td>-0.042152</td>\n",
       "      <td>-0.024094</td>\n",
       "      <td>-0.019439</td>\n",
       "      <td>0.221191</td>\n",
       "      <td>0.309075</td>\n",
       "      <td>0.016521</td>\n",
       "    </tr>\n",
       "    <tr>\n",
       "      <td>windspeed</td>\n",
       "      <td>0.139770</td>\n",
       "      <td>-0.000291</td>\n",
       "      <td>-0.008300</td>\n",
       "      <td>-0.009580</td>\n",
       "      <td>-0.018421</td>\n",
       "      <td>-0.058252</td>\n",
       "      <td>-0.286629</td>\n",
       "      <td>1.000000</td>\n",
       "      <td>0.093981</td>\n",
       "      <td>0.063466</td>\n",
       "      <td>...</td>\n",
       "      <td>-0.033493</td>\n",
       "      <td>-0.002639</td>\n",
       "      <td>0.008295</td>\n",
       "      <td>-0.009246</td>\n",
       "      <td>0.005465</td>\n",
       "      <td>-0.014696</td>\n",
       "      <td>0.018772</td>\n",
       "      <td>-0.052600</td>\n",
       "      <td>0.077704</td>\n",
       "      <td>0.006998</td>\n",
       "    </tr>\n",
       "    <tr>\n",
       "      <td>counts</td>\n",
       "      <td>0.394167</td>\n",
       "      <td>-0.028252</td>\n",
       "      <td>0.243886</td>\n",
       "      <td>0.029534</td>\n",
       "      <td>0.406155</td>\n",
       "      <td>0.401119</td>\n",
       "      <td>-0.328232</td>\n",
       "      <td>0.093981</td>\n",
       "      <td>1.000000</td>\n",
       "      <td>0.058418</td>\n",
       "      <td>...</td>\n",
       "      <td>-0.080273</td>\n",
       "      <td>-0.009796</td>\n",
       "      <td>-0.004783</td>\n",
       "      <td>0.006535</td>\n",
       "      <td>0.018731</td>\n",
       "      <td>0.015080</td>\n",
       "      <td>0.000878</td>\n",
       "      <td>-0.050171</td>\n",
       "      <td>-0.130511</td>\n",
       "      <td>-0.010548</td>\n",
       "    </tr>\n",
       "    <tr>\n",
       "      <td>spring</td>\n",
       "      <td>-0.003675</td>\n",
       "      <td>-0.026538</td>\n",
       "      <td>-0.003334</td>\n",
       "      <td>0.022044</td>\n",
       "      <td>0.142863</td>\n",
       "      <td>0.151023</td>\n",
       "      <td>0.002175</td>\n",
       "      <td>0.063466</td>\n",
       "      <td>0.058418</td>\n",
       "      <td>1.000000</td>\n",
       "      <td>...</td>\n",
       "      <td>-0.177812</td>\n",
       "      <td>0.009869</td>\n",
       "      <td>0.000596</td>\n",
       "      <td>0.007562</td>\n",
       "      <td>-0.003677</td>\n",
       "      <td>0.002232</td>\n",
       "      <td>-0.006187</td>\n",
       "      <td>-0.007358</td>\n",
       "      <td>0.018801</td>\n",
       "      <td>-0.006984</td>\n",
       "    </tr>\n",
       "  </tbody>\n",
       "</table>\n",
       "<p>10 rows × 32 columns</p>\n",
       "</div>"
      ],
      "text/plain": [
       "                hour   holiday      year  workingday      temp     atemp  \\\n",
       "hour        1.000000  0.005028 -0.010900    0.002024  0.140745  0.136311   \n",
       "holiday     0.005028  1.000000  0.011641   -0.253523 -0.026372 -0.030072   \n",
       "year       -0.010900  0.011641  1.000000   -0.000840  0.038813  0.037635   \n",
       "workingday  0.002024 -0.253523 -0.000840    1.000000  0.056547  0.055666   \n",
       "temp        0.140745 -0.026372  0.038813    0.056547  1.000000  0.987408   \n",
       "atemp       0.136311 -0.030072  0.037635    0.055666  0.987408  1.000000   \n",
       "hum        -0.274146 -0.010085 -0.086934    0.020164 -0.071756 -0.053984   \n",
       "windspeed   0.139770 -0.000291 -0.008300   -0.009580 -0.018421 -0.058252   \n",
       "counts      0.394167 -0.028252  0.243886    0.029534  0.406155  0.401119   \n",
       "spring     -0.003675 -0.026538 -0.003334    0.022044  0.142863  0.151023   \n",
       "\n",
       "                 hum  windspeed    counts    spring  ...       Dec       Mon  \\\n",
       "hour       -0.274146   0.139770  0.394167 -0.003675  ... -0.008559  0.002398   \n",
       "holiday    -0.010085  -0.000291 -0.028252 -0.026538  ...  0.003484  0.288895   \n",
       "year       -0.086934  -0.008300  0.243886 -0.003334  ... -0.000215  0.003327   \n",
       "workingday  0.020164  -0.009580  0.029534  0.022044  ... -0.019465  0.147598   \n",
       "temp       -0.071756  -0.018421  0.406155  0.142863  ... -0.276243 -0.000895   \n",
       "atemp      -0.053984  -0.058252  0.401119  0.151023  ... -0.267651  0.004153   \n",
       "hum         1.000000  -0.286629 -0.328232  0.002175  ...  0.063829  0.013808   \n",
       "windspeed  -0.286629   1.000000  0.093981  0.063466  ... -0.033493 -0.002639   \n",
       "counts     -0.328232   0.093981  1.000000  0.058418  ... -0.080273 -0.009796   \n",
       "spring      0.002175   0.063466  0.058418  1.000000  ... -0.177812  0.009869   \n",
       "\n",
       "                 Tue       Wed       Thu       Fri       Sat    Cloudy  \\\n",
       "hour        0.002814  0.000877 -0.000289 -0.000661 -0.007787 -0.050553   \n",
       "holiday    -0.045881 -0.046017 -0.023697 -0.027916 -0.071661  0.007805   \n",
       "year       -0.003703  0.001554  0.003746 -0.000422 -0.010093  0.013921   \n",
       "workingday  0.268793  0.272720  0.260472  0.263344 -0.602438  0.022523   \n",
       "temp        0.025038  0.016462  0.021504  0.000682 -0.036657 -0.071525   \n",
       "atemp       0.027500  0.014942  0.021189 -0.007918 -0.037245 -0.068782   \n",
       "hum         0.032100  0.042039 -0.042152 -0.024094 -0.019439  0.221191   \n",
       "windspeed   0.008295 -0.009246  0.005465 -0.014696  0.018772 -0.052600   \n",
       "counts     -0.004783  0.006535  0.018731  0.015080  0.000878 -0.050171   \n",
       "spring      0.000596  0.007562 -0.003677  0.002232 -0.006187 -0.007358   \n",
       "\n",
       "                Snow     Storm  \n",
       "hour        0.020257 -0.005253  \n",
       "holiday    -0.021242 -0.002083  \n",
       "year       -0.038232 -0.000110  \n",
       "workingday  0.034080 -0.004647  \n",
       "temp       -0.062334 -0.019716  \n",
       "atemp      -0.068844 -0.021537  \n",
       "hum         0.309075  0.016521  \n",
       "windspeed   0.077704  0.006998  \n",
       "counts     -0.130511 -0.010548  \n",
       "spring      0.018801 -0.006984  \n",
       "\n",
       "[10 rows x 32 columns]"
      ]
     },
     "metadata": {},
     "output_type": "display_data"
    },
    {
     "data": {
      "image/png": "[encoded data removed]",
      "text/plain": [
       "<Figure size 720x432 with 2 Axes>"
      ]
     },
     "metadata": {
      "needs_background": "light"
     },
     "output_type": "display_data"
    }
   ],
   "source": [
    "pearson = BSS_train.corr() \n",
    "display(pearson.head(10))\n",
    "\n",
    "fig, ax = plt.subplots(figsize = (10, 6))\n",
    "c = ax.pcolor(BSS_train.corr(), cmap='YlOrRd')\n",
    "ax.set_title('Pcolor correlation')\n",
    "fig.colorbar(c, ax=ax)\n",
    "plt.show()"
   ]
  },
  {
   "cell_type": "markdown",
   "metadata": {},
   "source": [
    "For categorical attributes, you should use each binary predictor resulting from one-hot encoding to compute their correlations.  Identify pairs of predictors with collinearity >0.7."
   ]
  },
  {
   "cell_type": "code",
   "execution_count": 19,
   "metadata": {},
   "outputs": [
    {
     "name": "stdout",
     "output_type": "stream",
     "text": [
      "The predictors ['hour', 'year', 'workingday', 'temp', 'atemp', 'windspeed', 'counts', 'spring', 'summer', 'fall', 'May', 'Jun', 'Jul', 'Aug', 'Sept', 'Oct', 'Wed', 'Thu', 'Fri', 'Sat'] have a positive correlation with the number of bike rentals\n",
      "----------------------------------------------------------------------------------------------------\n",
      "These pars of predicts have collinearity > 0.7: ['temp', 'atemp']\n"
     ]
    }
   ],
   "source": [
    "print('''The predictors {} have a positive correlation with the number of bike rentals'''.format(\n",
    "        list(pearson[pearson.counts > 0].index)))\n",
    "print('-'*100)\n",
    "print('These pars of predicts have collinearity > 0.7: {}'.format(\n",
    "        list(pearson[pearson > 0.7].dropna(thresh = 2).index)))"
   ]
  },
  {
   "cell_type": "markdown",
   "metadata": {},
   "source": [
    "<div class='exercise'> <b> Question 4: Multiple Linear Regression </b> </div>\n",
    "\n",
    "**4.1** Use statsmodels to fit a multiple linear regression model to the training set using all the predictors (no interactions or polynomial terms), and report its $R^2$ score on the train and test sets.\n",
    "\n",
    "\n",
    "**4.2** Find out which of estimated coefficients are statistically significant at a significance level of 5% (p-value < 0.05). Comment on the results.\n",
    "\n",
    "\n",
    "**4.3** Make a plot of residuals of the fitted model ${e} = y - \\hat{y}$ as a function of the predicted value $\\hat{y}$. Note that this is slightly different from the residual plot for simple linear regression. Draw a horizontal line denoting the zero residual value on the Y-axis. Does the plot reveal a non-linear relationship between the predictors and response? What does the plot convey about the variance of the error terms? "
   ]
  },
  {
   "cell_type": "markdown",
   "metadata": {},
   "source": [
    "### Answers\n",
    "#### 4.1 Use statsmodels to fit a ... \n"
   ]
  },
  {
   "cell_type": "code",
   "execution_count": 20,
   "metadata": {},
   "outputs": [
    {
     "name": "stdout",
     "output_type": "stream",
     "text": [
      "R^2 in the train set: 0.4065387827969087\n",
      "R^2 in the test set: 0.4063855475710224\n"
     ]
    }
   ],
   "source": [
    "x_train  = sm.add_constant(BSS_train.drop('counts', axis = 1))\n",
    "x_test   = sm.add_constant(BSS_test.drop('counts', axis = 1))\n",
    "y_train  = BSS_train.counts\n",
    "y_test   = BSS_test.counts\n",
    "\n",
    "full_model = OLS(y_train, x_train).fit()\n",
    "\n",
    "print(\"R^2 in the train set: {}\".format(r2_score(y_train, full_model.predict(x_train))))\n",
    "print(\"R^2 in the test set: {}\".format(r2_score(y_test, full_model.predict(x_test))))"
   ]
  },
  {
   "cell_type": "markdown",
   "metadata": {},
   "source": [
    "#### 4.2 Find out which of estimated coefficients ..."
   ]
  },
  {
   "cell_type": "code",
   "execution_count": 21,
   "metadata": {},
   "outputs": [
    {
     "data": {
      "text/plain": [
       "const         -21.083012\n",
       "hour            7.221382\n",
       "holiday       -18.095798\n",
       "year           76.351903\n",
       "workingday     11.317765\n",
       "temp          333.248241\n",
       "hum          -205.495864\n",
       "windspeed      22.516841\n",
       "spring         43.154064\n",
       "summer         29.542551\n",
       "fall           68.595334\n",
       "Apr           -41.524384\n",
       "May           -33.292706\n",
       "Jun           -65.803934\n",
       "Jul           -93.480482\n",
       "Aug           -59.208113\n",
       "Nov           -25.873181\n",
       "Sat            14.945929\n",
       "Cloudy          6.786806\n",
       "Snow          -28.285890\n",
       "dtype: float64"
      ]
     },
     "execution_count": 21,
     "metadata": {},
     "output_type": "execute_result"
    }
   ],
   "source": [
    "significant = list(full_model.pvalues[full_model.pvalues < 0.05].index)\n",
    "full_model.params[significant]"
   ]
  },
  {
   "cell_type": "markdown",
   "metadata": {},
   "source": [
    "<HR>\n",
    "Your answer here<BR>\n",
    "<HR>\n",
    "    Above we see estimated parameters with small pvalue. We see some of the months, only one weekday, all the seasons. We've lost atemp (because of the big linearity with temp, I think). The neggative constant joins lot of dummy variables (winter, january, sunday, clear). The temp and hum are with big absolute values estimated. "
   ]
  },
  {
   "cell_type": "markdown",
   "metadata": {},
   "source": [
    "#### 4.3 Make a plot of residuals of the fitted ..."
   ]
  },
  {
   "cell_type": "code",
   "execution_count": 22,
   "metadata": {},
   "outputs": [
    {
     "data": {
      "image/png": "[encoded data removed]",
      "text/plain": [
       "<Figure size 720x432 with 1 Axes>"
      ]
     },
     "metadata": {
      "needs_background": "light"
     },
     "output_type": "display_data"
    }
   ],
   "source": [
    "residuals = full_model.resid\n",
    "predicted = full_model.predict(x_train)\n",
    "\n",
    "fig = plt.figure(figsize = (10,6))\n",
    "plt.scatter(predicted, residuals)\n",
    "plt.hlines(0, min(predicted), max(predicted), linestyles='--')\n",
    "plt.title('Residuals Plot')\n",
    "plt.ylabel('Errors')\n",
    "plt.xlabel('Predictions')\n",
    "\n",
    "plt.show()"
   ]
  },
  {
   "cell_type": "markdown",
   "metadata": {},
   "source": [
    "<HR>\n",
    "Your answer here<BR>\n",
    "<HR>\n",
    "\n",
    "The variance increases as the prediction values increase. Other strange thing is this linear lower bound. It indicates that there is something our model does not captured "
   ]
  },
  {
   "cell_type": "markdown",
   "metadata": {},
   "source": [
    "<div class='exercise'> <b>Question 5: Subset Selection </b> </div>\n",
    "\n",
    "**5.1** Implement forward step-wise  selection to select a minimal subset of predictors that are related to the response variable: \n",
    "\n",
    "We require that you implement the method **from scratch**. You may use the Bayesian Information Criterion (BIC) to choose the subset size in each method. \n",
    "\n",
    "**5.2** Do these methods eliminate one or more of the colinear predictors (if any) identified in Question 3.5?  If so, which ones. Briefly explain (3 or fewer sentences) why you think this may be the case.\n",
    "\n",
    "**5.3** Fit the linear regression model using the identified subset of predictors to the training set. How do the test $R^2$ scores for the fitted models compare with the model fitted in Question 4 using all predictors?"
   ]
  },
  {
   "cell_type": "markdown",
   "metadata": {},
   "source": [
    "### Answers"
   ]
  },
  {
   "cell_type": "markdown",
   "metadata": {},
   "source": [
    "#### 5.1  Implement forward step-wise ...."
   ]
  },
  {
   "cell_type": "code",
   "execution_count": 23,
   "metadata": {},
   "outputs": [],
   "source": [
    "def subset_selection(dataset: pd.DataFrame): \n",
    "    '''Select the best model using forward model selection and BIC to compare results.'''\n",
    "    \n",
    "    y_train = dataset.counts\n",
    "    last_predictors = set(dataset.columns) - {'counts'}\n",
    "    models = []\n",
    "    models.append(OLS(y_train, sm.add_constant(dataset[[]])).fit())     # Add the mean model with 0 feeatures\n",
    "    \n",
    "    while len(last_predictors) > 0: \n",
    "        min_bic = np.inf\n",
    "        \n",
    "        for predictor in last_predictors:                                 # for each predictor, got the \n",
    "            variables = list(models[-1].params.index)[1:] + [predictor]   # min bic parameter\n",
    "            x_train = sm.add_constant(dataset[variables])\n",
    "            model = OLS(y_train, x_train).fit()\n",
    "            if model.bic < min_bic:\n",
    "                chosen_predictor = predictor\n",
    "                min_bic = model.bic\n",
    "                best_model = model\n",
    "        models.append(best_model)\n",
    "        last_predictors = last_predictors - {chosen_predictor}\n",
    "    \n",
    "    bics = [model.bic for model in models]\n",
    "    index = bics.index(min(bics))\n",
    "    \n",
    "    return models[index]"
   ]
  },
  {
   "cell_type": "markdown",
   "metadata": {},
   "source": [
    "#### 5.2 Do these methods eliminate ..."
   ]
  },
  {
   "cell_type": "markdown",
   "metadata": {},
   "source": [
    "<HR>\n",
    "Your answer here\n",
    "<HR>\n",
    "    \n",
    "Yes, these methods eliminate. Suppose we have to select a new predictor. If the correlation is big, we increased the complexity of the model, so the BICs tend to increase, but, with high correlation, the models shouldn't get any betterw with one more variable. If the BIC values increase, this model will be better and two correlated variables should not be together. We can't say nothing about which one will be chosen. By my algorithm, I think ```atemp``` will be excluded from 3.5.  "
   ]
  },
  {
   "cell_type": "markdown",
   "metadata": {},
   "source": [
    "#### 5.3 In each case, fit linear regression  ..."
   ]
  },
  {
   "cell_type": "code",
   "execution_count": 24,
   "metadata": {},
   "outputs": [
    {
     "name": "stdout",
     "output_type": "stream",
     "text": [
      "This was the used variables: \n",
      "['const', 'temp', 'hour', 'year', 'hum', 'fall', 'Jul', 'Snow', 'Aug', 'Jun', 'holiday', 'spring']\n",
      "----------------------------------------------------------------------------------------------------\n",
      "R^2 in the train set: 0.40382733393963366\n",
      "R^2 in the test set: 0.4046908770536959\n"
     ]
    }
   ],
   "source": [
    "selected_model = subset_selection(BSS_train)\n",
    "print(\"This was the used variables: \")\n",
    "print(list(selected_model.params.index))\n",
    "print('-'*100)\n",
    "\n",
    "x_train  = sm.add_constant(BSS_train[list(selected_model.params.index)[1:]])\n",
    "x_test   = sm.add_constant(BSS_test[list(selected_model.params.index)[1:]])\n",
    "y_train  = BSS_train.counts\n",
    "y_test   = BSS_test.counts\n",
    "\n",
    "print(\"R^2 in the train set: {}\".format(r2_score(y_train, selected_model.predict(x_train))))\n",
    "print(\"R^2 in the test set: {}\".format(r2_score(y_test, selected_model.predict(x_test))))"
   ]
  },
  {
   "cell_type": "markdown",
   "metadata": {},
   "source": [
    "<HR>\n",
    "Your answer here\n",
    "<HR>\n",
    "    \n",
    "Actually the $R^2$ is worst when compared with the previous one. But, white similar, and we gain more simplicity on the model!"
   ]
  },
  {
   "cell_type": "markdown",
   "metadata": {},
   "source": [
    "<div class='exercise'> <b> Question 6: Polynomial Regression </b> </div> \n",
    "\n",
    "We will now try to improve the performance of the regression model by including higher-order polynomial terms. \n",
    "\n",
    "**6.1** For each continuous predictor $X_j$, include additional polynomial terms $X^2_j$, $X^3_j$, and $X^4_j$, and fit a polynomial regression model to the expanded training set. How does the $R^2$ of this model on the test set compare with that of the linear model fitted in the previous question? Using a $t$-tests, find out which of the estimated coefficients for the polynomial terms are statistically significant at a significance level of 5%. "
   ]
  },
  {
   "cell_type": "code",
   "execution_count": 84,
   "metadata": {},
   "outputs": [],
   "source": [
    "continuum = BSS_test.dtypes[(BSS_test.dtypes == 'float64') | (BSS_test.dtypes.index == 'hour')].index\n",
    "variables_train = np.empty((len(BSS_train),1))\n",
    "variables_test = np.empty((len(BSS_test),1))\n",
    "\n",
    "transform = PolynomialFeatures(4, include_bias = False)\n",
    "for variable in list(continuum):\n",
    "    variables_train = np.concatenate((variables_train, transform.fit_transform(BSS_train[[variable]])), axis = 1)\n",
    "    variables_test = np.concatenate((variables_test, transform.fit_transform(BSS_test[[variable]])), axis = 1)\n",
    "variables_train = pd.DataFrame(variables_train[:, 1:], columns = ['hour1','hour2','hour3','hour4', \n",
    "                                                      'temp1','temp2','temp3','temp4',\n",
    "                                                      'atemp1','atemp2','atemp3','atemp4', \n",
    "                                                      'hum1','hum2','hum3','hum4',\n",
    "                                                      'windspeed1','windspeed2','windspeed3','windspeed4'], \n",
    "                         index = BSS_train.index)\n",
    "variables_test = pd.DataFrame(variables_test[:, 1:], columns = ['hour1','hour2','hour3','hour4', \n",
    "                                                      'temp1','temp2','temp3','temp4',\n",
    "                                                      'atemp1','atemp2','atemp3','atemp4', \n",
    "                                                      'hum1','hum2','hum3','hum4',\n",
    "                                                      'windspeed1','windspeed2','windspeed3','windspeed4'], \n",
    "                         index = BSS_test.index)\n",
    "BSS_train_pol = BSS_train.drop(['hour','temp','atemp','hum','windspeed'], axis = 1)\n",
    "BSS_train_pol = BSS_train_pol.merge(variables_train, on = BSS_train_pol.index)\n",
    "BSS_test_pol = BSS_test.drop(['hour','temp','atemp','hum','windspeed'], axis = 1)\n",
    "BSS_test_pol = BSS_test_pol.merge(variables_test, on = BSS_test_pol.index)"
   ]
  },
  {
   "cell_type": "code",
   "execution_count": 92,
   "metadata": {},
   "outputs": [
    {
     "name": "stdout",
     "output_type": "stream",
     "text": [
      "R^2 in the train set: 0.5553829075048409\n",
      "R^2 in the test set: 0.48694472647005693\n"
     ]
    }
   ],
   "source": [
    "x_train  = sm.add_constant(BSS_train_pol.drop('counts',axis =1))\n",
    "x_test   = sm.add_constant(BSS_test_pol.drop('counts',axis =1))\n",
    "y_train  = BSS_train_pol.counts\n",
    "y_test   = BSS_test_pol.counts\n",
    "\n",
    "model_polynomial = OLS(y_train, x_train).fit()\n",
    "print(\"R^2 in the train set: {}\".format(r2_score(y_train, model_polynomial.predict(x_train))))\n",
    "print(\"R^2 in the test set: {}\".format(r2_score(y_test, model_polynomial.predict(x_test))))"
   ]
  },
  {
   "cell_type": "code",
   "execution_count": 93,
   "metadata": {},
   "outputs": [
    {
     "data": {
      "text/plain": [
       "year           150.526032\n",
       "workingday      13.132037\n",
       "spring          40.127237\n",
       "summer          39.421324\n",
       "fall            73.538576\n",
       "Feb             26.170661\n",
       "Mar             49.537855\n",
       "Apr             43.588910\n",
       "May             51.556505\n",
       "Jun             45.779037\n",
       "Sept            74.281731\n",
       "Oct             79.152251\n",
       "Mon             -5.222733\n",
       "Fri              8.175338\n",
       "Sat             17.480924\n",
       "Cloudy         -13.767612\n",
       "Snow           -68.396573\n",
       "hour1            6.800364\n",
       "hour2            1.464153\n",
       "hour4           -0.003695\n",
       "temp3         5303.043915\n",
       "temp4        -3481.456166\n",
       "hum2          1560.904037\n",
       "hum3         -2274.470836\n",
       "hum4          1055.546158\n",
       "windspeed3   -2509.044212\n",
       "windspeed4    1898.061569\n",
       "dtype: float64"
      ]
     },
     "execution_count": 93,
     "metadata": {},
     "output_type": "execute_result"
    }
   ],
   "source": [
    "significant = list(model_polynomial.pvalues[model_polynomial.pvalues < 0.05].index)\n",
    "model_polynomial.params[significant]"
   ]
  },
  {
   "cell_type": "markdown",
   "metadata": {},
   "source": [
    "<HR>\n",
    "Your answer here\n",
    "<HR>\n",
    "The $R^2$ improved! "
   ]
  },
  {
   "cell_type": "markdown",
   "metadata": {},
   "source": [
    "#  Written Report to the Administrators\n",
    "<br>\n",
    "\n",
    "<div class='exercise'> <b> Question 7 </b> </div>\n",
    "\n",
    "Write a short summary report, intended for the administrators of the company, to address two major points (can be written as two large paragraphs):\n",
    "\n",
    "1. How to predict ridership well (which variables are important, when is ridership highest/lowest, etc.).\n",
    "\n",
    "2. Suggestions on how to increase the system revenue (what additional services to provide, when to give discounts, etc.).\n",
    " \n",
    "Include your report below. The report should not be longer than 300 words and should include a maximum of 3 figures. "
   ]
  },
  {
   "cell_type": "markdown",
   "metadata": {},
   "source": [
    "### Answers\n",
    "#### 7\n",
    "<HR>\n",
    "Your report here\n",
    "<HR>\n",
    "\n"
   ]
  },
  {
   "cell_type": "code",
   "execution_count": null,
   "metadata": {},
   "outputs": [],
   "source": []
  }
 ],
 "metadata": {
  "anaconda-cloud": {},
  "kernelspec": {
   "display_name": "Python 3",
   "language": "python",
   "name": "python3"
  },
  "language_info": {
   "codemirror_mode": {
    "name": "ipython",
    "version": 3
   },
   "file_extension": ".py",
   "mimetype": "text/x-python",
   "name": "python",
   "nbconvert_exporter": "python",
   "pygments_lexer": "ipython3",
   "version": "3.7.3"
  }
 },
 "nbformat": 4,
 "nbformat_minor": 4
}
