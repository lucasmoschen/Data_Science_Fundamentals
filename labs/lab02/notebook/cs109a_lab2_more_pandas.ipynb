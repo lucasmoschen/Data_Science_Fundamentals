{
 "cells": [
  {
   "cell_type": "markdown",
   "metadata": {},
   "source": [
    "# <img style=\"float: left; padding-right: 10px; width: 45px\" src=\"https://github.com/Harvard-IACS/2018-CS109A/blob/master/content/styles/iacs.png?raw=true\"> CS109A Introduction to Data Science \n",
    "\n",
    "## Lab 2: Pandas and Web Scraping with Beautiful Soup\n",
    "\n",
    "**Harvard University**<br>\n",
    "**Fall 2019**<br>\n",
    "**Instructors:** Pavlos Protopapas, Kevin Rader, and Chris Tanner<br>\n",
    "**Lab Instructors:** Chris Tanner and Eleni Kaxiras <br>\n",
    "**Authors:** Rahul Dave, David Sondak, Will Claybaugh, Pavlos Protopapas, Chris Tanner, Eleni Kaxiras\n",
    "\n",
    "---"
   ]
  },
  {
   "cell_type": "code",
   "execution_count": 4,
   "metadata": {},
   "outputs": [],
   "source": [
    "## RUN THIS CELL TO GET THE RIGHT FORMATTING \n",
    "from IPython.core.display import HTML\n",
    "def css_styling():\n",
    "    styles = open(\"../../styles/cs109.css\", \"r\").read()\n",
    "    return HTML(styles)\n",
    "#css_styling()"
   ]
  },
  {
   "cell_type": "markdown",
   "metadata": {},
   "source": [
    "# Table of Contents \n",
    "<ol start=\"0\">\n",
    "<li> Learning Goals </li>\n",
    "<li> Loading and Cleaning with Pandas</li>\n",
    "<li> Parsing and Completing the Dataframe  </li>\n",
    "<li> Grouping </li>\n",
    "</ol>"
   ]
  },
  {
   "cell_type": "markdown",
   "metadata": {},
   "source": [
    "## Learning Goals\n",
    "\n",
    "About 6,000 odd \"best books\" were fetched and parsed from [Goodreads](https://www.goodreads.com). The \"bestness\" of these books came from a proprietary formula used by Goodreads and published as a list on their web site.\n",
    "\n",
    "We parsed the page for each book and saved data from all these pages in a tabular format as a CSV file. In this lab we'll clean and further parse the data.  We'll then do some exploratory data analysis to answer questions about these best books and popular genres.  \n",
    "\n",
    "\n",
    "By the end of this lab, you should be able to:\n",
    "\n",
    "- Load and systematically address missing values, ancoded as `NaN` values in our data set, for example, by removing observations associated with these values.\n",
    "- Parse columns in the dataframe to create new dataframe columns.\n",
    "- Use groupby to aggregate data on a particular feature column, such as author.\n",
    "\n",
    "*This lab corresponds to lectures #1, #2, and #3 and maps on to homework #1 and further.*"
   ]
  },
  {
   "cell_type": "markdown",
   "metadata": {},
   "source": [
    "### Basic EDA workflow\n",
    "\n",
    "(From the lecture, repeated here for convenience).\n",
    "\n",
    "The basic workflow is as follows:\n",
    "\n",
    "1. **Build** a DataFrame from the data (ideally, put all data in this object)\n",
    "2. **Clean** the DataFrame. It should have the following properties:\n",
    "    - Each row describes a single object\n",
    "    - Each column describes a property of that object\n",
    "    - Columns are numeric whenever appropriate\n",
    "    - Columns contain atomic properties that cannot be further decomposed\n",
    "3. Explore **global properties**. Use histograms, scatter plots, and aggregation functions to summarize the data.\n",
    "4. Explore **group properties**. Use groupby and small multiples to compare subsets of the data.\n",
    "\n",
    "This process transforms your data into a format which is easier to work with, gives you a basic overview of the data's properties, and likely generates several questions for you to followup in subsequent analysis."
   ]
  },
  {
   "cell_type": "markdown",
   "metadata": {},
   "source": [
    "## Part 1: Loading and Cleaning with Pandas \n",
    "Read in the `goodreads.csv` file, examine the data, and do any necessary data cleaning. \n",
    "\n",
    "Here is a description of the columns (in order) present in this csv file:\n",
    "\n",
    "```\n",
    "rating: the average rating on a 1-5 scale achieved by the book\n",
    "review_count: the number of Goodreads users who reviewed this book\n",
    "isbn: the ISBN code for the book\n",
    "booktype: an internal Goodreads identifier for the book\n",
    "author_url: the Goodreads (relative) URL for the author of the book\n",
    "year: the year the book was published\n",
    "genre_urls: a string with '|' separated relative URLS of Goodreads genre pages\n",
    "dir: a directory identifier internal to the scraping code\n",
    "rating_count: the number of ratings for this book (this is different from the number of reviews)\n",
    "name: the name of the book\n",
    "```\n",
    "\n",
    "Let us see what issues we find with the data and resolve them.  \n",
    "\n",
    "\n",
    "\n",
    "----"
   ]
  },
  {
   "cell_type": "markdown",
   "metadata": {},
   "source": [
    "\n",
    "\n",
    "\n",
    "After loading appropriate libraries\n"
   ]
  },
  {
   "cell_type": "code",
   "execution_count": 5,
   "metadata": {},
   "outputs": [],
   "source": [
    "%matplotlib inline\n",
    "import numpy as np\n",
    "import matplotlib.pyplot as plt\n",
    "import pandas as pd\n",
    "import seaborn as sns\n",
    "pd.set_option('display.width', 500)\n",
    "pd.set_option('display.max_columns', 100)"
   ]
  },
  {
   "cell_type": "markdown",
   "metadata": {},
   "source": [
    "### Cleaning: Reading in the data\n",
    "We read in and clean the data from `goodreads.csv`."
   ]
  },
  {
   "cell_type": "code",
   "execution_count": 6,
   "metadata": {},
   "outputs": [
    {
     "output_type": "execute_result",
     "data": {
      "text/plain": "   4.40 136455  0439023483  good_reads:book https://www.goodreads.com/author/show/153394.Suzanne_Collins    2008 /genres/young-adult|/genres/science-fiction|/genres/dystopia|/genres/fantasy|/genres/science-fiction|/genres/romance|/genres/adventure|/genres/book-club|/genres/young-adult|/genres/teen|/genres/apocalyptic|/genres/post-apocalyptic|/genres/action                dir01/2767052-the-hunger-games.html  2958974            The Hunger Games (The Hunger Games, #1)\n0  4.41  16648  0439358078  good_reads:book  https://www.goodreads.com/author/show/1077326....            2003.0  /genres/fantasy|/genres/young-adult|/genres/fi...                                                                                                                                                                                                     dir01/2.Harry_Potter_and_the_Order_of_the_Phoe...  1284478  Harry Potter and the Order of the Phoenix (Har...\n1  3.56  85746  0316015849  good_reads:book  https://www.goodreads.com/author/show/941441.S...            2005.0  /genres/young-adult|/genres/fantasy|/genres/ro...                                                                                                                                                                                                                             dir01/41865.Twilight.html  2579564                            Twilight (Twilight, #1)\n2  4.23  47906  0061120081  good_reads:book  https://www.goodreads.com/author/show/1825.Har...            1960.0  /genres/classics|/genres/fiction|/genres/histo...                                                                                                                                                                                                                 dir01/2657.To_Kill_a_Mockingbird.html  2078123                              To Kill a Mockingbird\n3  4.23  34772  0679783261  good_reads:book  https://www.goodreads.com/author/show/1265.Jan...            1813.0  /genres/classics|/genres/fiction|/genres/roman...                                                                                                                                                                                                                   dir01/1885.Pride_and_Prejudice.html  1388992                                Pride and Prejudice\n4  4.25  12363  0446675539  good_reads:book  https://www.goodreads.com/author/show/11081.Ma...            1936.0  /genres/classics|/genres/historical-fiction|/g...                                                                                                                                                                                                                   dir01/18405.Gone_with_the_Wind.html   645470                                 Gone with the Wind",
      "text/html": "<div>\n<style scoped>\n    .dataframe tbody tr th:only-of-type {\n        vertical-align: middle;\n    }\n\n    .dataframe tbody tr th {\n        vertical-align: top;\n    }\n\n    .dataframe thead th {\n        text-align: right;\n    }\n</style>\n<table border=\"1\" class=\"dataframe\">\n  <thead>\n    <tr style=\"text-align: right;\">\n      <th></th>\n      <th>4.40</th>\n      <th>136455</th>\n      <th>0439023483</th>\n      <th>good_reads:book</th>\n      <th>https://www.goodreads.com/author/show/153394.Suzanne_Collins</th>\n      <th>2008</th>\n      <th>/genres/young-adult|/genres/science-fiction|/genres/dystopia|/genres/fantasy|/genres/science-fiction|/genres/romance|/genres/adventure|/genres/book-club|/genres/young-adult|/genres/teen|/genres/apocalyptic|/genres/post-apocalyptic|/genres/action</th>\n      <th>dir01/2767052-the-hunger-games.html</th>\n      <th>2958974</th>\n      <th>The Hunger Games (The Hunger Games, #1)</th>\n    </tr>\n  </thead>\n  <tbody>\n    <tr>\n      <td>0</td>\n      <td>4.41</td>\n      <td>16648</td>\n      <td>0439358078</td>\n      <td>good_reads:book</td>\n      <td>https://www.goodreads.com/author/show/1077326....</td>\n      <td>2003.0</td>\n      <td>/genres/fantasy|/genres/young-adult|/genres/fi...</td>\n      <td>dir01/2.Harry_Potter_and_the_Order_of_the_Phoe...</td>\n      <td>1284478</td>\n      <td>Harry Potter and the Order of the Phoenix (Har...</td>\n    </tr>\n    <tr>\n      <td>1</td>\n      <td>3.56</td>\n      <td>85746</td>\n      <td>0316015849</td>\n      <td>good_reads:book</td>\n      <td>https://www.goodreads.com/author/show/941441.S...</td>\n      <td>2005.0</td>\n      <td>/genres/young-adult|/genres/fantasy|/genres/ro...</td>\n      <td>dir01/41865.Twilight.html</td>\n      <td>2579564</td>\n      <td>Twilight (Twilight, #1)</td>\n    </tr>\n    <tr>\n      <td>2</td>\n      <td>4.23</td>\n      <td>47906</td>\n      <td>0061120081</td>\n      <td>good_reads:book</td>\n      <td>https://www.goodreads.com/author/show/1825.Har...</td>\n      <td>1960.0</td>\n      <td>/genres/classics|/genres/fiction|/genres/histo...</td>\n      <td>dir01/2657.To_Kill_a_Mockingbird.html</td>\n      <td>2078123</td>\n      <td>To Kill a Mockingbird</td>\n    </tr>\n    <tr>\n      <td>3</td>\n      <td>4.23</td>\n      <td>34772</td>\n      <td>0679783261</td>\n      <td>good_reads:book</td>\n      <td>https://www.goodreads.com/author/show/1265.Jan...</td>\n      <td>1813.0</td>\n      <td>/genres/classics|/genres/fiction|/genres/roman...</td>\n      <td>dir01/1885.Pride_and_Prejudice.html</td>\n      <td>1388992</td>\n      <td>Pride and Prejudice</td>\n    </tr>\n    <tr>\n      <td>4</td>\n      <td>4.25</td>\n      <td>12363</td>\n      <td>0446675539</td>\n      <td>good_reads:book</td>\n      <td>https://www.goodreads.com/author/show/11081.Ma...</td>\n      <td>1936.0</td>\n      <td>/genres/classics|/genres/historical-fiction|/g...</td>\n      <td>dir01/18405.Gone_with_the_Wind.html</td>\n      <td>645470</td>\n      <td>Gone with the Wind</td>\n    </tr>\n  </tbody>\n</table>\n</div>"
     },
     "metadata": {},
     "execution_count": 6
    }
   ],
   "source": [
    "#Read the data into a dataframe\n",
    "df = pd.read_csv(\"../data/goodreads.csv\", encoding='utf-8')\n",
    "\n",
    "#Examine the first few rows of the dataframe\n",
    "df.head()"
   ]
  },
  {
   "cell_type": "markdown",
   "metadata": {},
   "source": [
    "Oh dear. That does not quite seem to be right. We are missing the column names. We need to add these in! But what are they?\n",
    "\n",
    "Here is a list of them in order:\n",
    "\n",
    "`[\"rating\", 'review_count', 'isbn', 'booktype','author_url', 'year', 'genre_urls', 'dir','rating_count', 'name']`\n",
    "\n",
    "<div class=\"exercise\"><b>Exercise</b></div>\n",
    "Use these to load the dataframe properly! And then \"head\" the dataframe... (you will need to look at the read_csv docs)\n"
   ]
  },
  {
   "cell_type": "code",
   "execution_count": 8,
   "metadata": {},
   "outputs": [
    {
     "output_type": "execute_result",
     "data": {
      "text/plain": "   rating review_count        isbn         booktype                                         author_url    year                                         genre_urls                                                dir rating_count                                               name\n0    4.40       136455  0439023483  good_reads:book  https://www.goodreads.com/author/show/153394.S...  2008.0  /genres/young-adult|/genres/science-fiction|/g...                dir01/2767052-the-hunger-games.html      2958974            The Hunger Games (The Hunger Games, #1)\n1    4.41        16648  0439358078  good_reads:book  https://www.goodreads.com/author/show/1077326....  2003.0  /genres/fantasy|/genres/young-adult|/genres/fi...  dir01/2.Harry_Potter_and_the_Order_of_the_Phoe...      1284478  Harry Potter and the Order of the Phoenix (Har...\n2    3.56        85746  0316015849  good_reads:book  https://www.goodreads.com/author/show/941441.S...  2005.0  /genres/young-adult|/genres/fantasy|/genres/ro...                          dir01/41865.Twilight.html      2579564                            Twilight (Twilight, #1)\n3    4.23        47906  0061120081  good_reads:book  https://www.goodreads.com/author/show/1825.Har...  1960.0  /genres/classics|/genres/fiction|/genres/histo...              dir01/2657.To_Kill_a_Mockingbird.html      2078123                              To Kill a Mockingbird\n4    4.23        34772  0679783261  good_reads:book  https://www.goodreads.com/author/show/1265.Jan...  1813.0  /genres/classics|/genres/fiction|/genres/roman...                dir01/1885.Pride_and_Prejudice.html      1388992                                Pride and Prejudice",
      "text/html": "<div>\n<style scoped>\n    .dataframe tbody tr th:only-of-type {\n        vertical-align: middle;\n    }\n\n    .dataframe tbody tr th {\n        vertical-align: top;\n    }\n\n    .dataframe thead th {\n        text-align: right;\n    }\n</style>\n<table border=\"1\" class=\"dataframe\">\n  <thead>\n    <tr style=\"text-align: right;\">\n      <th></th>\n      <th>rating</th>\n      <th>review_count</th>\n      <th>isbn</th>\n      <th>booktype</th>\n      <th>author_url</th>\n      <th>year</th>\n      <th>genre_urls</th>\n      <th>dir</th>\n      <th>rating_count</th>\n      <th>name</th>\n    </tr>\n  </thead>\n  <tbody>\n    <tr>\n      <td>0</td>\n      <td>4.40</td>\n      <td>136455</td>\n      <td>0439023483</td>\n      <td>good_reads:book</td>\n      <td>https://www.goodreads.com/author/show/153394.S...</td>\n      <td>2008.0</td>\n      <td>/genres/young-adult|/genres/science-fiction|/g...</td>\n      <td>dir01/2767052-the-hunger-games.html</td>\n      <td>2958974</td>\n      <td>The Hunger Games (The Hunger Games, #1)</td>\n    </tr>\n    <tr>\n      <td>1</td>\n      <td>4.41</td>\n      <td>16648</td>\n      <td>0439358078</td>\n      <td>good_reads:book</td>\n      <td>https://www.goodreads.com/author/show/1077326....</td>\n      <td>2003.0</td>\n      <td>/genres/fantasy|/genres/young-adult|/genres/fi...</td>\n      <td>dir01/2.Harry_Potter_and_the_Order_of_the_Phoe...</td>\n      <td>1284478</td>\n      <td>Harry Potter and the Order of the Phoenix (Har...</td>\n    </tr>\n    <tr>\n      <td>2</td>\n      <td>3.56</td>\n      <td>85746</td>\n      <td>0316015849</td>\n      <td>good_reads:book</td>\n      <td>https://www.goodreads.com/author/show/941441.S...</td>\n      <td>2005.0</td>\n      <td>/genres/young-adult|/genres/fantasy|/genres/ro...</td>\n      <td>dir01/41865.Twilight.html</td>\n      <td>2579564</td>\n      <td>Twilight (Twilight, #1)</td>\n    </tr>\n    <tr>\n      <td>3</td>\n      <td>4.23</td>\n      <td>47906</td>\n      <td>0061120081</td>\n      <td>good_reads:book</td>\n      <td>https://www.goodreads.com/author/show/1825.Har...</td>\n      <td>1960.0</td>\n      <td>/genres/classics|/genres/fiction|/genres/histo...</td>\n      <td>dir01/2657.To_Kill_a_Mockingbird.html</td>\n      <td>2078123</td>\n      <td>To Kill a Mockingbird</td>\n    </tr>\n    <tr>\n      <td>4</td>\n      <td>4.23</td>\n      <td>34772</td>\n      <td>0679783261</td>\n      <td>good_reads:book</td>\n      <td>https://www.goodreads.com/author/show/1265.Jan...</td>\n      <td>1813.0</td>\n      <td>/genres/classics|/genres/fiction|/genres/roman...</td>\n      <td>dir01/1885.Pride_and_Prejudice.html</td>\n      <td>1388992</td>\n      <td>Pride and Prejudice</td>\n    </tr>\n  </tbody>\n</table>\n</div>"
     },
     "metadata": {},
     "execution_count": 8
    }
   ],
   "source": [
    "# your code here\n",
    "df=pd.read_csv(\"../data/goodreads.csv\", header=None,\n",
    "               names=[\"rating\", 'review_count', 'isbn', 'booktype','author_url', 'year', 'genre_urls', 'dir','rating_count', 'name'],\n",
    ")\n",
    "\n",
    "#Examine the first few rows of the dataframe\n",
    "df.head()"
   ]
  },
  {
   "cell_type": "markdown",
   "metadata": {},
   "source": [
    "### Cleaning: Examing the dataframe - quick checks\n",
    "\n",
    "We should examine the dataframe to get a overall sense of the content. \n",
    "\n",
    "<div class=\"exercise\"><b>Exercise</b></div>\n",
    "Lets check the types of the columns. What do you find?"
   ]
  },
  {
   "cell_type": "code",
   "execution_count": 10,
   "metadata": {},
   "outputs": [
    {
     "output_type": "execute_result",
     "data": {
      "text/plain": "rating          float64\nreview_count     object\nisbn             object\nbooktype         object\nauthor_url       object\nyear            float64\ngenre_urls       object\ndir              object\nrating_count     object\nname             object\ndtype: object"
     },
     "metadata": {},
     "execution_count": 10
    }
   ],
   "source": [
    "df.dtypes"
   ]
  },
  {
   "cell_type": "markdown",
   "metadata": {},
   "source": [
    "*your answer here*\n",
    "\n",
    "Notice that `review_count` and `rating_counts` are objects instead of ints, and the `year` is a float!"
   ]
  },
  {
   "cell_type": "markdown",
   "metadata": {},
   "source": [
    "There are a couple more quick sanity checks to perform on the dataframe. "
   ]
  },
  {
   "cell_type": "code",
   "execution_count": 11,
   "metadata": {
    "tags": []
   },
   "outputs": [
    {
     "output_type": "stream",
     "name": "stdout",
     "text": "(6000, 10)\n"
    },
    {
     "output_type": "execute_result",
     "data": {
      "text/plain": "Index(['rating', 'review_count', 'isbn', 'booktype', 'author_url', 'year', 'genre_urls', 'dir', 'rating_count', 'name'], dtype='object')"
     },
     "metadata": {},
     "execution_count": 11
    }
   ],
   "source": [
    "print(df.shape)\n",
    "df.columns"
   ]
  },
  {
   "cell_type": "markdown",
   "metadata": {},
   "source": [
    "### Cleaning: Examining the dataframe - a deeper look"
   ]
  },
  {
   "cell_type": "markdown",
   "metadata": {},
   "source": [
    "Beyond performing checking some quick general properties of the data frame and looking at the first $n$ rows, we can dig a bit deeper into the values being stored. If you haven't already, check to see if there are any missing values in the data frame.\n",
    "\n",
    "Let's see for a column which seemed OK to us."
   ]
  },
  {
   "cell_type": "code",
   "execution_count": 12,
   "metadata": {
    "tags": []
   },
   "outputs": [
    {
     "output_type": "stream",
     "name": "stdout",
     "text": "2\n0\n475\n0\n0\n7\n62\n0\n0\n0\n"
    }
   ],
   "source": [
    "#Get a sense of how many missing values there are in the dataframe.\n",
    "print(np.sum([df.rating.isnull()]))\n",
    "print(np.sum([df.review_count.isnull()]))\n",
    "print(np.sum([df.isbn.isnull()]))\n",
    "print(np.sum([df.booktype.isnull()]))\n",
    "print(np.sum([df.author_url.isnull()]))\n",
    "print(np.sum([df.year.isnull()]))\n",
    "print(np.sum([df.genre_urls.isnull()]))\n",
    "print(np.sum([df.dir.isnull()]))\n",
    "print(np.sum([df.rating_count.isnull()]))\n",
    "print(np.sum([df.name.isnull()]))"
   ]
  },
  {
   "cell_type": "code",
   "execution_count": 13,
   "metadata": {},
   "outputs": [
    {
     "output_type": "execute_result",
     "data": {
      "text/plain": "      rating review_count  isbn booktype author_url  year genre_urls                              dir rating_count  name\n3643     NaN         None  None     None       None   NaN        NaN  dir37/9658936-harry-potter.html         None  None\n5282     NaN         None  None     None       None   NaN        NaN     dir53/113138.The_Winner.html         None  None",
      "text/html": "<div>\n<style scoped>\n    .dataframe tbody tr th:only-of-type {\n        vertical-align: middle;\n    }\n\n    .dataframe tbody tr th {\n        vertical-align: top;\n    }\n\n    .dataframe thead th {\n        text-align: right;\n    }\n</style>\n<table border=\"1\" class=\"dataframe\">\n  <thead>\n    <tr style=\"text-align: right;\">\n      <th></th>\n      <th>rating</th>\n      <th>review_count</th>\n      <th>isbn</th>\n      <th>booktype</th>\n      <th>author_url</th>\n      <th>year</th>\n      <th>genre_urls</th>\n      <th>dir</th>\n      <th>rating_count</th>\n      <th>name</th>\n    </tr>\n  </thead>\n  <tbody>\n    <tr>\n      <td>3643</td>\n      <td>NaN</td>\n      <td>None</td>\n      <td>None</td>\n      <td>None</td>\n      <td>None</td>\n      <td>NaN</td>\n      <td>NaN</td>\n      <td>dir37/9658936-harry-potter.html</td>\n      <td>None</td>\n      <td>None</td>\n    </tr>\n    <tr>\n      <td>5282</td>\n      <td>NaN</td>\n      <td>None</td>\n      <td>None</td>\n      <td>None</td>\n      <td>None</td>\n      <td>NaN</td>\n      <td>NaN</td>\n      <td>dir53/113138.The_Winner.html</td>\n      <td>None</td>\n      <td>None</td>\n    </tr>\n  </tbody>\n</table>\n</div>"
     },
     "metadata": {},
     "execution_count": 13
    }
   ],
   "source": [
    "#Try to locate where the missing values occur\n",
    "df[df.rating.isnull()]"
   ]
  },
  {
   "cell_type": "markdown",
   "metadata": {},
   "source": [
    "How does `pandas` or `numpy` handle missing values when we try to compute with data sets that include them?"
   ]
  },
  {
   "cell_type": "markdown",
   "metadata": {},
   "source": [
    "We'll now check if any of the other suspicious columns have missing values.  Let's look at `year` and `review_count` first.\n",
    "\n",
    "One thing you can do is to try and convert to the type you expect the column to be. If something goes wrong, it likely means your data are bad."
   ]
  },
  {
   "cell_type": "markdown",
   "metadata": {},
   "source": [
    "Lets test for missing data:"
   ]
  },
  {
   "cell_type": "code",
   "execution_count": 14,
   "metadata": {},
   "outputs": [
    {
     "output_type": "execute_result",
     "data": {
      "text/plain": "(6000, 10)"
     },
     "metadata": {},
     "execution_count": 14
    }
   ],
   "source": [
    "df[df.year.isnull()]\n",
    "\n",
    "df.year.isnull()\n",
    "df.shape"
   ]
  },
  {
   "cell_type": "markdown",
   "metadata": {},
   "source": [
    "### Cleaning: Dealing with Missing Values\n",
    "How should we interpret 'missing' or 'invalid' values in the data (hint: look at where these values occur)? One approach is to simply exclude them from the dataframe. Is this appropriate for all 'missing' or 'invalid' values? "
   ]
  },
  {
   "cell_type": "code",
   "execution_count": 15,
   "metadata": {},
   "outputs": [],
   "source": [
    "#Treat the missing or invalid values in your dataframe\n",
    "####### \n",
    "\n",
    "df = df[df.year.notnull()]"
   ]
  },
  {
   "cell_type": "markdown",
   "metadata": {},
   "source": [
    "Ok so we have done some cleaning. What do things look like now? Notice the float has not yet changed."
   ]
  },
  {
   "cell_type": "code",
   "execution_count": 16,
   "metadata": {},
   "outputs": [
    {
     "output_type": "execute_result",
     "data": {
      "text/plain": "rating          float64\nreview_count     object\nisbn             object\nbooktype         object\nauthor_url       object\nyear            float64\ngenre_urls       object\ndir              object\nrating_count     object\nname             object\ndtype: object"
     },
     "metadata": {},
     "execution_count": 16
    }
   ],
   "source": [
    "df.dtypes"
   ]
  },
  {
   "cell_type": "code",
   "execution_count": 17,
   "metadata": {
    "tags": []
   },
   "outputs": [
    {
     "output_type": "stream",
     "name": "stdout",
     "text": "0\n"
    },
    {
     "output_type": "execute_result",
     "data": {
      "text/plain": "(5993, 10)"
     },
     "metadata": {},
     "execution_count": 17
    }
   ],
   "source": [
    "print(np.sum(df.year.isnull()))\n",
    "df.shape # We removed seven rows"
   ]
  },
  {
   "cell_type": "markdown",
   "metadata": {},
   "source": [
    "<div class=\"exercise\"><b>Exercise</b></div>\n",
    "\n",
    "Ok so lets fix those types. Convert them to ints. If the type conversion fails, we now know we have further problems."
   ]
  },
  {
   "cell_type": "code",
   "execution_count": 18,
   "metadata": {},
   "outputs": [],
   "source": [
    "# your code here\n",
    "df.rating_count=df.rating_count.astype(int)\n",
    "df.review_count=df.review_count.astype(int)\n",
    "df.year=df.year.astype(int)"
   ]
  },
  {
   "cell_type": "markdown",
   "metadata": {},
   "source": [
    "Once you do this, we seem to be good on these columns (no errors in conversion). Lets look:"
   ]
  },
  {
   "cell_type": "code",
   "execution_count": 19,
   "metadata": {},
   "outputs": [
    {
     "output_type": "execute_result",
     "data": {
      "text/plain": "rating          float64\nreview_count      int64\nisbn             object\nbooktype         object\nauthor_url       object\nyear              int64\ngenre_urls       object\ndir              object\nrating_count      int64\nname             object\ndtype: object"
     },
     "metadata": {},
     "execution_count": 19
    }
   ],
   "source": [
    "df.dtypes"
   ]
  },
  {
   "cell_type": "markdown",
   "metadata": {},
   "source": [
    "Sweet!"
   ]
  },
  {
   "cell_type": "markdown",
   "metadata": {},
   "source": [
    "Some of the other colums that should be strings have NaN."
   ]
  },
  {
   "cell_type": "code",
   "execution_count": 20,
   "metadata": {},
   "outputs": [],
   "source": [
    "df.loc[df.genre_urls.isnull(), 'genre_urls']=\"\"\n",
    "df.loc[df.isbn.isnull(), 'isbn']=\"\""
   ]
  },
  {
   "cell_type": "markdown",
   "metadata": {},
   "source": [
    "##  Part 2: Parsing and Completing the Data Frame \n",
    "\n",
    "We will parse the `author` column from the author_url and `genres` column from the genre_urls. Keep the `genres` column as a string separated by '|'.\n",
    "\n",
    "We will use panda's `map` to assign new columns to the dataframe.  "
   ]
  },
  {
   "cell_type": "markdown",
   "metadata": {},
   "source": [
    "Examine an example `author_url` and reason about which sequence of string operations must be performed in order to isolate the author's name."
   ]
  },
  {
   "cell_type": "code",
   "execution_count": 21,
   "metadata": {},
   "outputs": [
    {
     "output_type": "execute_result",
     "data": {
      "text/plain": "'https://www.goodreads.com/author/show/153394.Suzanne_Collins'"
     },
     "metadata": {},
     "execution_count": 21
    }
   ],
   "source": [
    "#Get the first author_url\n",
    "test_string = df.author_url[0]\n",
    "test_string"
   ]
  },
  {
   "cell_type": "code",
   "execution_count": 22,
   "metadata": {},
   "outputs": [
    {
     "output_type": "execute_result",
     "data": {
      "text/plain": "'Suzanne_Collins'"
     },
     "metadata": {},
     "execution_count": 22
    }
   ],
   "source": [
    "#Test out some string operations to isolate the author name\n",
    "\n",
    "test_string.split('/')[-1].split('.')[1:][0]"
   ]
  },
  {
   "cell_type": "markdown",
   "metadata": {},
   "source": [
    "<div class=\"exercise\"><b>Exercise</b></div>\n",
    "\n",
    "Lets wrap the above code into a function which we will then use"
   ]
  },
  {
   "cell_type": "code",
   "execution_count": 24,
   "metadata": {},
   "outputs": [],
   "source": [
    "# Write a function that accepts an author url and returns the author's name based on your experimentation above\n",
    "get_author = lambda url: url.split('/')[-1].split('.')[1:][0]"
   ]
  },
  {
   "cell_type": "code",
   "execution_count": 25,
   "metadata": {},
   "outputs": [
    {
     "output_type": "execute_result",
     "data": {
      "text/plain": "0    Suzanne_Collins\n1        J_K_Rowling\n2    Stephenie_Meyer\n3         Harper_Lee\n4        Jane_Austen\nName: author, dtype: object"
     },
     "metadata": {},
     "execution_count": 25
    }
   ],
   "source": [
    "#Apply the get_author function to the 'author_url' column using '.map' \n",
    "#and add a new column 'author' to store the names\n",
    "df['author'] = df.author_url.map(get_author)\n",
    "df.author[0:5]"
   ]
  },
  {
   "cell_type": "markdown",
   "metadata": {},
   "source": [
    "<div class=\"exercise\"><b>Exercise</b></div>\n",
    "\n",
    "Now parse out the genres from `genre_url`.  \n",
    "\n",
    "This is a little more complicated because there be more than one genre.\n"
   ]
  },
  {
   "cell_type": "code",
   "execution_count": 26,
   "metadata": {},
   "outputs": [
    {
     "output_type": "execute_result",
     "data": {
      "text/plain": "0    /genres/young-adult|/genres/science-fiction|/g...\n1    /genres/fantasy|/genres/young-adult|/genres/fi...\n2    /genres/young-adult|/genres/fantasy|/genres/ro...\n3    /genres/classics|/genres/fiction|/genres/histo...\n4    /genres/classics|/genres/fiction|/genres/roman...\nName: genre_urls, dtype: object"
     },
     "metadata": {},
     "execution_count": 26
    }
   ],
   "source": [
    "df.genre_urls.head()"
   ]
  },
  {
   "cell_type": "code",
   "execution_count": 28,
   "metadata": {
    "tags": []
   },
   "outputs": [
    {
     "output_type": "stream",
     "name": "stdout",
     "text": "young-adult\nscience-fiction\ndystopia\nfantasy\nscience-fiction\nromance\nadventure\nbook-club\nyoung-adult\nteen\napocalyptic\npost-apocalyptic\naction\n"
    }
   ],
   "source": [
    "# your code here\n",
    "#Examine some examples of genre_urls\n",
    "\n",
    "#Test out some string operations to isolate the genre name\n",
    "test_genre_string=df.genre_urls[0]\n",
    "genres=test_genre_string.strip().split('|')\n",
    "for e in genres:\n",
    "    print(e.split('/')[-1])\n",
    "    \"|\".join(genres)"
   ]
  },
  {
   "cell_type": "markdown",
   "metadata": {},
   "source": [
    "<div class=\"exercise\"><b>Exercise</b></div>\n",
    "\n",
    "Write a function that accepts a genre url and returns the genre name based on your experimentation above\n",
    "\n"
   ]
  },
  {
   "cell_type": "code",
   "execution_count": 30,
   "metadata": {},
   "outputs": [],
   "source": [
    "split_and_join_genres = lambda url: \"|\".join([e.split('/')[-1] for e in url.strip().split('|')])"
   ]
  },
  {
   "cell_type": "markdown",
   "metadata": {},
   "source": [
    "Test your function"
   ]
  },
  {
   "cell_type": "code",
   "execution_count": 31,
   "metadata": {},
   "outputs": [
    {
     "output_type": "execute_result",
     "data": {
      "text/plain": "'young-adult|science-fiction'"
     },
     "metadata": {},
     "execution_count": 31
    }
   ],
   "source": [
    "split_and_join_genres(\"/genres/young-adult|/genres/science-fiction\")"
   ]
  },
  {
   "cell_type": "markdown",
   "metadata": {},
   "source": [
    "<div class=\"exercise\"><b>Exercise</b></div>\n",
    "\n",
    "Use map again to create a new \"genres\" column"
   ]
  },
  {
   "cell_type": "code",
   "execution_count": 33,
   "metadata": {},
   "outputs": [
    {
     "output_type": "execute_result",
     "data": {
      "text/plain": "   rating  review_count        isbn         booktype                                         author_url  year                                         genre_urls                                                dir  rating_count                                               name           author                                             genres\n0    4.40        136455  0439023483  good_reads:book  https://www.goodreads.com/author/show/153394.S...  2008  /genres/young-adult|/genres/science-fiction|/g...                dir01/2767052-the-hunger-games.html       2958974            The Hunger Games (The Hunger Games, #1)  Suzanne_Collins  young-adult|science-fiction|dystopia|fantasy|s...\n1    4.41         16648  0439358078  good_reads:book  https://www.goodreads.com/author/show/1077326....  2003  /genres/fantasy|/genres/young-adult|/genres/fi...  dir01/2.Harry_Potter_and_the_Order_of_the_Phoe...       1284478  Harry Potter and the Order of the Phoenix (Har...      J_K_Rowling  fantasy|young-adult|fiction|fantasy|magic|chil...\n2    3.56         85746  0316015849  good_reads:book  https://www.goodreads.com/author/show/941441.S...  2005  /genres/young-adult|/genres/fantasy|/genres/ro...                          dir01/41865.Twilight.html       2579564                            Twilight (Twilight, #1)  Stephenie_Meyer  young-adult|fantasy|romance|paranormal|vampire...\n3    4.23         47906  0061120081  good_reads:book  https://www.goodreads.com/author/show/1825.Har...  1960  /genres/classics|/genres/fiction|/genres/histo...              dir01/2657.To_Kill_a_Mockingbird.html       2078123                              To Kill a Mockingbird       Harper_Lee  classics|fiction|historical-fiction|academic|s...\n4    4.23         34772  0679783261  good_reads:book  https://www.goodreads.com/author/show/1265.Jan...  1813  /genres/classics|/genres/fiction|/genres/roman...                dir01/1885.Pride_and_Prejudice.html       1388992                                Pride and Prejudice      Jane_Austen  classics|fiction|romance|historical-fiction|li...",
      "text/html": "<div>\n<style scoped>\n    .dataframe tbody tr th:only-of-type {\n        vertical-align: middle;\n    }\n\n    .dataframe tbody tr th {\n        vertical-align: top;\n    }\n\n    .dataframe thead th {\n        text-align: right;\n    }\n</style>\n<table border=\"1\" class=\"dataframe\">\n  <thead>\n    <tr style=\"text-align: right;\">\n      <th></th>\n      <th>rating</th>\n      <th>review_count</th>\n      <th>isbn</th>\n      <th>booktype</th>\n      <th>author_url</th>\n      <th>year</th>\n      <th>genre_urls</th>\n      <th>dir</th>\n      <th>rating_count</th>\n      <th>name</th>\n      <th>author</th>\n      <th>genres</th>\n    </tr>\n  </thead>\n  <tbody>\n    <tr>\n      <td>0</td>\n      <td>4.40</td>\n      <td>136455</td>\n      <td>0439023483</td>\n      <td>good_reads:book</td>\n      <td>https://www.goodreads.com/author/show/153394.S...</td>\n      <td>2008</td>\n      <td>/genres/young-adult|/genres/science-fiction|/g...</td>\n      <td>dir01/2767052-the-hunger-games.html</td>\n      <td>2958974</td>\n      <td>The Hunger Games (The Hunger Games, #1)</td>\n      <td>Suzanne_Collins</td>\n      <td>young-adult|science-fiction|dystopia|fantasy|s...</td>\n    </tr>\n    <tr>\n      <td>1</td>\n      <td>4.41</td>\n      <td>16648</td>\n      <td>0439358078</td>\n      <td>good_reads:book</td>\n      <td>https://www.goodreads.com/author/show/1077326....</td>\n      <td>2003</td>\n      <td>/genres/fantasy|/genres/young-adult|/genres/fi...</td>\n      <td>dir01/2.Harry_Potter_and_the_Order_of_the_Phoe...</td>\n      <td>1284478</td>\n      <td>Harry Potter and the Order of the Phoenix (Har...</td>\n      <td>J_K_Rowling</td>\n      <td>fantasy|young-adult|fiction|fantasy|magic|chil...</td>\n    </tr>\n    <tr>\n      <td>2</td>\n      <td>3.56</td>\n      <td>85746</td>\n      <td>0316015849</td>\n      <td>good_reads:book</td>\n      <td>https://www.goodreads.com/author/show/941441.S...</td>\n      <td>2005</td>\n      <td>/genres/young-adult|/genres/fantasy|/genres/ro...</td>\n      <td>dir01/41865.Twilight.html</td>\n      <td>2579564</td>\n      <td>Twilight (Twilight, #1)</td>\n      <td>Stephenie_Meyer</td>\n      <td>young-adult|fantasy|romance|paranormal|vampire...</td>\n    </tr>\n    <tr>\n      <td>3</td>\n      <td>4.23</td>\n      <td>47906</td>\n      <td>0061120081</td>\n      <td>good_reads:book</td>\n      <td>https://www.goodreads.com/author/show/1825.Har...</td>\n      <td>1960</td>\n      <td>/genres/classics|/genres/fiction|/genres/histo...</td>\n      <td>dir01/2657.To_Kill_a_Mockingbird.html</td>\n      <td>2078123</td>\n      <td>To Kill a Mockingbird</td>\n      <td>Harper_Lee</td>\n      <td>classics|fiction|historical-fiction|academic|s...</td>\n    </tr>\n    <tr>\n      <td>4</td>\n      <td>4.23</td>\n      <td>34772</td>\n      <td>0679783261</td>\n      <td>good_reads:book</td>\n      <td>https://www.goodreads.com/author/show/1265.Jan...</td>\n      <td>1813</td>\n      <td>/genres/classics|/genres/fiction|/genres/roman...</td>\n      <td>dir01/1885.Pride_and_Prejudice.html</td>\n      <td>1388992</td>\n      <td>Pride and Prejudice</td>\n      <td>Jane_Austen</td>\n      <td>classics|fiction|romance|historical-fiction|li...</td>\n    </tr>\n  </tbody>\n</table>\n</div>"
     },
     "metadata": {},
     "execution_count": 33
    }
   ],
   "source": [
    "\n",
    "df['genres']=df.genre_urls.map(split_and_join_genres)\n",
    "df.head()"
   ]
  },
  {
   "cell_type": "markdown",
   "metadata": {},
   "source": [
    "Finally, let's pick an author at random so we can see the results of the transformations.  Scroll to see the `author` and `genre` columns that we added to the dataframe."
   ]
  },
  {
   "cell_type": "code",
   "execution_count": 34,
   "metadata": {},
   "outputs": [
    {
     "output_type": "execute_result",
     "data": {
      "text/plain": "      rating  review_count        isbn         booktype                                         author_url  year                                         genre_urls                                  dir  rating_count                name                author                                             genres\n1014    4.23           483  0374529264  good_reads:book  https://www.goodreads.com/author/show/7732.Mar...  1951  /genres/historical-fiction|/genres/fiction|/ge...  dir11/12172.Memoirs_of_Hadrian.html          6258  Memoirs of Hadrian  Marguerite_Yourcenar  historical-fiction|fiction|cultural|france|cla...\n5620    4.11            74  2070367983  good_reads:book  https://www.goodreads.com/author/show/7732.Mar...  1968  /genres/fiction|/genres/historical-fiction|/ge...     dir57/953435.L_uvre_au_noir.html          1601    L'Åuvre au noir  Marguerite_Yourcenar  fiction|historical-fiction|cultural|france|eur...",
      "text/html": "<div>\n<style scoped>\n    .dataframe tbody tr th:only-of-type {\n        vertical-align: middle;\n    }\n\n    .dataframe tbody tr th {\n        vertical-align: top;\n    }\n\n    .dataframe thead th {\n        text-align: right;\n    }\n</style>\n<table border=\"1\" class=\"dataframe\">\n  <thead>\n    <tr style=\"text-align: right;\">\n      <th></th>\n      <th>rating</th>\n      <th>review_count</th>\n      <th>isbn</th>\n      <th>booktype</th>\n      <th>author_url</th>\n      <th>year</th>\n      <th>genre_urls</th>\n      <th>dir</th>\n      <th>rating_count</th>\n      <th>name</th>\n      <th>author</th>\n      <th>genres</th>\n    </tr>\n  </thead>\n  <tbody>\n    <tr>\n      <td>1014</td>\n      <td>4.23</td>\n      <td>483</td>\n      <td>0374529264</td>\n      <td>good_reads:book</td>\n      <td>https://www.goodreads.com/author/show/7732.Mar...</td>\n      <td>1951</td>\n      <td>/genres/historical-fiction|/genres/fiction|/ge...</td>\n      <td>dir11/12172.Memoirs_of_Hadrian.html</td>\n      <td>6258</td>\n      <td>Memoirs of Hadrian</td>\n      <td>Marguerite_Yourcenar</td>\n      <td>historical-fiction|fiction|cultural|france|cla...</td>\n    </tr>\n    <tr>\n      <td>5620</td>\n      <td>4.11</td>\n      <td>74</td>\n      <td>2070367983</td>\n      <td>good_reads:book</td>\n      <td>https://www.goodreads.com/author/show/7732.Mar...</td>\n      <td>1968</td>\n      <td>/genres/fiction|/genres/historical-fiction|/ge...</td>\n      <td>dir57/953435.L_uvre_au_noir.html</td>\n      <td>1601</td>\n      <td>L'Åuvre au noir</td>\n      <td>Marguerite_Yourcenar</td>\n      <td>fiction|historical-fiction|cultural|france|eur...</td>\n    </tr>\n  </tbody>\n</table>\n</div>"
     },
     "metadata": {},
     "execution_count": 34
    }
   ],
   "source": [
    "df[df.author == \"Marguerite_Yourcenar\"]"
   ]
  },
  {
   "cell_type": "markdown",
   "metadata": {},
   "source": [
    "Let us delete the `genre_urls` column."
   ]
  },
  {
   "cell_type": "code",
   "execution_count": 35,
   "metadata": {},
   "outputs": [],
   "source": [
    "del df['genre_urls']"
   ]
  },
  {
   "cell_type": "markdown",
   "metadata": {},
   "source": [
    "And then save the dataframe out!"
   ]
  },
  {
   "cell_type": "code",
   "execution_count": 37,
   "metadata": {},
   "outputs": [],
   "source": [
    "df.to_csv(\"../data/cleaned-goodreads.csv\", index=False, header=True)"
   ]
  },
  {
   "cell_type": "markdown",
   "metadata": {},
   "source": [
    "---"
   ]
  },
  {
   "cell_type": "markdown",
   "metadata": {},
   "source": [
    "## Part 3: Grouping "
   ]
  },
  {
   "cell_type": "markdown",
   "metadata": {},
   "source": [
    "It appears that some books were written in negative years!  Print out the observations that correspond to negative years.  What do you notice about these books?  "
   ]
  },
  {
   "cell_type": "code",
   "execution_count": 38,
   "metadata": {},
   "outputs": [
    {
     "output_type": "execute_result",
     "data": {
      "text/plain": "47                               The Odyssey\n246                    The Iliad/The Odyssey\n455                             The Republic\n596                               The Aeneid\n629                              Oedipus Rex\n674                           The Art of War\n746                        The Bhagavad Gita\n777                                 Antigone\n1233                       The Oedipus Cycle\n1397                          Aesop's Fables\n1398                   The Epic of Gilgamesh\n1428                                   Medea\n1815                            The Oresteia\n1882         The Trial and Death of Socrates\n2078    The History of the Peloponnesian War\n2527                           The Histories\n3133                          Complete Works\n3274                  The Nicomachean Ethics\n3757                              Lysistrata\n4402                           The Symposium\n4475                                 Apology\n5367                          Five Dialogues\nName: name, dtype: object"
     },
     "metadata": {},
     "execution_count": 38
    }
   ],
   "source": [
    "# your code here\n",
    "df[df.year < 0].name\n",
    "#These are books written before the Common Era (BCE, equivalent to BC)."
   ]
  },
  {
   "cell_type": "markdown",
   "metadata": {},
   "source": [
    "We can determine the \"best book\" by year! For this we use Panda's `groupby()`. `Groupby()` allows grouping a dataframe by any (usually categorical) variable. Would it make sense to ever groupby integer variables? Floating point variables?"
   ]
  },
  {
   "cell_type": "code",
   "execution_count": 39,
   "metadata": {},
   "outputs": [
    {
     "output_type": "execute_result",
     "data": {
      "text/plain": "pandas.core.groupby.generic.DataFrameGroupBy"
     },
     "metadata": {},
     "execution_count": 39
    }
   ],
   "source": [
    "dfgb_author = df.groupby('author')\n",
    "type(dfgb_author)"
   ]
  },
  {
   "cell_type": "markdown",
   "metadata": {},
   "source": [
    "Perhaps we want the number of books each author wrote"
   ]
  },
  {
   "cell_type": "code",
   "execution_count": 40,
   "metadata": {},
   "outputs": [
    {
     "output_type": "execute_result",
     "data": {
      "text/plain": "                       rating  review_count  isbn  booktype  author_url  year  dir  rating_count  name  genres\nauthor                                                                                                        \nA_A_Milne                   6             6     6         6           6     6    6             6     6       6\nA_G_Howard                  1             1     1         1           1     1    1             1     1       1\nA_J_Cronin                  1             1     1         1           1     1    1             1     1       1\nA_J_Jacobs                  1             1     1         1           1     1    1             1     1       1\nA_J_Salt                    1             1     1         1           1     1    1             1     1       1\n...                       ...           ...   ...       ...         ...   ...  ...           ...   ...     ...\n_                          42            42    42        42          42    42   42            42    42      42\n_gota_Krist_f               1             1     1         1           1     1    1             1     1       1\n_mile_Zola                  4             4     4         4           4     4    4             4     4       4\n_ric_Emmanuel_Schmitt       1             1     1         1           1     1    1             1     1       1\n_sne_Seierstad              1             1     1         1           1     1    1             1     1       1\n\n[2645 rows x 10 columns]",
      "text/html": "<div>\n<style scoped>\n    .dataframe tbody tr th:only-of-type {\n        vertical-align: middle;\n    }\n\n    .dataframe tbody tr th {\n        vertical-align: top;\n    }\n\n    .dataframe thead th {\n        text-align: right;\n    }\n</style>\n<table border=\"1\" class=\"dataframe\">\n  <thead>\n    <tr style=\"text-align: right;\">\n      <th></th>\n      <th>rating</th>\n      <th>review_count</th>\n      <th>isbn</th>\n      <th>booktype</th>\n      <th>author_url</th>\n      <th>year</th>\n      <th>dir</th>\n      <th>rating_count</th>\n      <th>name</th>\n      <th>genres</th>\n    </tr>\n    <tr>\n      <th>author</th>\n      <th></th>\n      <th></th>\n      <th></th>\n      <th></th>\n      <th></th>\n      <th></th>\n      <th></th>\n      <th></th>\n      <th></th>\n      <th></th>\n    </tr>\n  </thead>\n  <tbody>\n    <tr>\n      <td>A_A_Milne</td>\n      <td>6</td>\n      <td>6</td>\n      <td>6</td>\n      <td>6</td>\n      <td>6</td>\n      <td>6</td>\n      <td>6</td>\n      <td>6</td>\n      <td>6</td>\n      <td>6</td>\n    </tr>\n    <tr>\n      <td>A_G_Howard</td>\n      <td>1</td>\n      <td>1</td>\n      <td>1</td>\n      <td>1</td>\n      <td>1</td>\n      <td>1</td>\n      <td>1</td>\n      <td>1</td>\n      <td>1</td>\n      <td>1</td>\n    </tr>\n    <tr>\n      <td>A_J_Cronin</td>\n      <td>1</td>\n      <td>1</td>\n      <td>1</td>\n      <td>1</td>\n      <td>1</td>\n      <td>1</td>\n      <td>1</td>\n      <td>1</td>\n      <td>1</td>\n      <td>1</td>\n    </tr>\n    <tr>\n      <td>A_J_Jacobs</td>\n      <td>1</td>\n      <td>1</td>\n      <td>1</td>\n      <td>1</td>\n      <td>1</td>\n      <td>1</td>\n      <td>1</td>\n      <td>1</td>\n      <td>1</td>\n      <td>1</td>\n    </tr>\n    <tr>\n      <td>A_J_Salt</td>\n      <td>1</td>\n      <td>1</td>\n      <td>1</td>\n      <td>1</td>\n      <td>1</td>\n      <td>1</td>\n      <td>1</td>\n      <td>1</td>\n      <td>1</td>\n      <td>1</td>\n    </tr>\n    <tr>\n      <td>...</td>\n      <td>...</td>\n      <td>...</td>\n      <td>...</td>\n      <td>...</td>\n      <td>...</td>\n      <td>...</td>\n      <td>...</td>\n      <td>...</td>\n      <td>...</td>\n      <td>...</td>\n    </tr>\n    <tr>\n      <td>_</td>\n      <td>42</td>\n      <td>42</td>\n      <td>42</td>\n      <td>42</td>\n      <td>42</td>\n      <td>42</td>\n      <td>42</td>\n      <td>42</td>\n      <td>42</td>\n      <td>42</td>\n    </tr>\n    <tr>\n      <td>_gota_Krist_f</td>\n      <td>1</td>\n      <td>1</td>\n      <td>1</td>\n      <td>1</td>\n      <td>1</td>\n      <td>1</td>\n      <td>1</td>\n      <td>1</td>\n      <td>1</td>\n      <td>1</td>\n    </tr>\n    <tr>\n      <td>_mile_Zola</td>\n      <td>4</td>\n      <td>4</td>\n      <td>4</td>\n      <td>4</td>\n      <td>4</td>\n      <td>4</td>\n      <td>4</td>\n      <td>4</td>\n      <td>4</td>\n      <td>4</td>\n    </tr>\n    <tr>\n      <td>_ric_Emmanuel_Schmitt</td>\n      <td>1</td>\n      <td>1</td>\n      <td>1</td>\n      <td>1</td>\n      <td>1</td>\n      <td>1</td>\n      <td>1</td>\n      <td>1</td>\n      <td>1</td>\n      <td>1</td>\n    </tr>\n    <tr>\n      <td>_sne_Seierstad</td>\n      <td>1</td>\n      <td>1</td>\n      <td>1</td>\n      <td>1</td>\n      <td>1</td>\n      <td>1</td>\n      <td>1</td>\n      <td>1</td>\n      <td>1</td>\n      <td>1</td>\n    </tr>\n  </tbody>\n</table>\n<p>2645 rows × 10 columns</p>\n</div>"
     },
     "metadata": {},
     "execution_count": 40
    }
   ],
   "source": [
    "dfgb_author.count()"
   ]
  },
  {
   "cell_type": "markdown",
   "metadata": {},
   "source": [
    "Lots of useless info there. One column should suffice"
   ]
  },
  {
   "cell_type": "code",
   "execution_count": 41,
   "metadata": {},
   "outputs": [
    {
     "output_type": "execute_result",
     "data": {
      "text/plain": "      rating  review_count isbn         booktype                                         author_url  year                 dir  rating_count                                   name         author                                             genres\n2213    4.19          1169       good_reads:book  https://www.goodreads.com/author/show/1201952....  2003  dir23/2750180.html         15781                          ÙØ§ ØªØ­Ø²Ù  A_id_al_Qarni  religion|religion|islam|self-help|non-fiction|...\n5998    3.91           281       good_reads:book  https://www.goodreads.com/author/show/1201952....  2006  dir60/2750008.html          3083  Ø£Ø³Ø¹Ø¯ Ø§Ù\nØ±Ø£Ø© ÙÙ Ø§ÙØ¹Ø§ÙÙ\n  A_id_al_Qarni  religion|islam|religion|self-help|spirituality...",
      "text/html": "<div>\n<style scoped>\n    .dataframe tbody tr th:only-of-type {\n        vertical-align: middle;\n    }\n\n    .dataframe tbody tr th {\n        vertical-align: top;\n    }\n\n    .dataframe thead th {\n        text-align: right;\n    }\n</style>\n<table border=\"1\" class=\"dataframe\">\n  <thead>\n    <tr style=\"text-align: right;\">\n      <th></th>\n      <th>rating</th>\n      <th>review_count</th>\n      <th>isbn</th>\n      <th>booktype</th>\n      <th>author_url</th>\n      <th>year</th>\n      <th>dir</th>\n      <th>rating_count</th>\n      <th>name</th>\n      <th>author</th>\n      <th>genres</th>\n    </tr>\n  </thead>\n  <tbody>\n    <tr>\n      <td>2213</td>\n      <td>4.19</td>\n      <td>1169</td>\n      <td></td>\n      <td>good_reads:book</td>\n      <td>https://www.goodreads.com/author/show/1201952....</td>\n      <td>2003</td>\n      <td>dir23/2750180.html</td>\n      <td>15781</td>\n      <td>ÙØ§ ØªØ­Ø²Ù</td>\n      <td>A_id_al_Qarni</td>\n      <td>religion|religion|islam|self-help|non-fiction|...</td>\n    </tr>\n    <tr>\n      <td>5998</td>\n      <td>3.91</td>\n      <td>281</td>\n      <td></td>\n      <td>good_reads:book</td>\n      <td>https://www.goodreads.com/author/show/1201952....</td>\n      <td>2006</td>\n      <td>dir60/2750008.html</td>\n      <td>3083</td>\n      <td>Ø£Ø³Ø¹Ø¯ Ø§ÙØ±Ø£Ø© ÙÙ Ø§ÙØ¹Ø§ÙÙ</td>\n      <td>A_id_al_Qarni</td>\n      <td>religion|islam|religion|self-help|spirituality...</td>\n    </tr>\n  </tbody>\n</table>\n</div>"
     },
     "metadata": {},
     "execution_count": 41
    }
   ],
   "source": [
    "###### Before we start : what do we do about these titles where 'name' is unreadable? Try different encodings?\n",
    "auth_name = 'A_id_al_Qarni'\n",
    "df[df.author == auth_name].head()"
   ]
  },
  {
   "cell_type": "code",
   "execution_count": 42,
   "metadata": {},
   "outputs": [
    {
     "output_type": "execute_result",
     "data": {
      "text/plain": "b'\\xff\\xfe\\xd9\\x00\\x84\\x00\\xd8\\x00\\xa7\\x00 \\x00\\xd8\\x00\\xaa\\x00\\xd8\\x00\\xad\\x00\\xd8\\x00\\xb2\\x00\\xd9\\x00\\x86\\x00'"
     },
     "metadata": {},
     "execution_count": 42
    }
   ],
   "source": [
    "df[df.author == auth_name].iat[0,8].encode('UTF-16')"
   ]
  },
  {
   "cell_type": "code",
   "execution_count": 43,
   "metadata": {},
   "outputs": [
    {
     "output_type": "execute_result",
     "data": {
      "text/plain": "Index(['rating', 'review_count', 'isbn', 'booktype', 'author_url', 'year', 'dir', 'rating_count', 'name', 'author', 'genres'], dtype='object')"
     },
     "metadata": {},
     "execution_count": 43
    }
   ],
   "source": [
    "# let's examine the columns we have\n",
    "df.columns"
   ]
  },
  {
   "cell_type": "markdown",
   "metadata": {},
   "source": [
    "### Exercise:\n",
    "\n",
    "- Group the dataframe by `author`. Include the following columns: `rating`, `name`, `author`. For the aggregation of the `name` column which includes the names of the books create a list with the strings containing the name of each book. Make sure that the way you aggregate the rest of the columns make sense! \n",
    "\n",
    "- Create a new column with number of books for each author and find the most prolific author!"
   ]
  },
  {
   "cell_type": "markdown",
   "metadata": {},
   "source": [
    "Create the GroupBy table"
   ]
  },
  {
   "cell_type": "code",
   "execution_count": 44,
   "metadata": {},
   "outputs": [],
   "source": [
    "authors = df.copy()\n",
    "authors = authors[['rating','name','author']].groupby('author').agg({'rating' : np.mean,\n",
    "                                                                    'name' : '|'.join})"
   ]
  },
  {
   "cell_type": "code",
   "execution_count": 46,
   "metadata": {},
   "outputs": [
    {
     "output_type": "execute_result",
     "data": {
      "text/plain": "       author  rating                                               name\n0   A_A_Milne   4.365  Winnie-the-Pooh|The House at Pooh Corner|The H...\n1  A_G_Howard   4.020                        Splintered (Splintered, #1)\n2  A_J_Cronin   4.220                            The Keys of the Kingdom\n3  A_J_Jacobs   3.750                      The Year of Living Biblically\n4    A_J_Salt   4.940                    Nik Nassa & the Mark of Destiny",
      "text/html": "<div>\n<style scoped>\n    .dataframe tbody tr th:only-of-type {\n        vertical-align: middle;\n    }\n\n    .dataframe tbody tr th {\n        vertical-align: top;\n    }\n\n    .dataframe thead th {\n        text-align: right;\n    }\n</style>\n<table border=\"1\" class=\"dataframe\">\n  <thead>\n    <tr style=\"text-align: right;\">\n      <th></th>\n      <th>author</th>\n      <th>rating</th>\n      <th>name</th>\n    </tr>\n  </thead>\n  <tbody>\n    <tr>\n      <td>0</td>\n      <td>A_A_Milne</td>\n      <td>4.365</td>\n      <td>Winnie-the-Pooh|The House at Pooh Corner|The H...</td>\n    </tr>\n    <tr>\n      <td>1</td>\n      <td>A_G_Howard</td>\n      <td>4.020</td>\n      <td>Splintered (Splintered, #1)</td>\n    </tr>\n    <tr>\n      <td>2</td>\n      <td>A_J_Cronin</td>\n      <td>4.220</td>\n      <td>The Keys of the Kingdom</td>\n    </tr>\n    <tr>\n      <td>3</td>\n      <td>A_J_Jacobs</td>\n      <td>3.750</td>\n      <td>The Year of Living Biblically</td>\n    </tr>\n    <tr>\n      <td>4</td>\n      <td>A_J_Salt</td>\n      <td>4.940</td>\n      <td>Nik Nassa &amp; the Mark of Destiny</td>\n    </tr>\n  </tbody>\n</table>\n</div>"
     },
     "metadata": {},
     "execution_count": 46
    }
   ],
   "source": [
    "authors = authors.reset_index()\n",
    "authors.head()"
   ]
  },
  {
   "cell_type": "code",
   "execution_count": 47,
   "metadata": {},
   "outputs": [
    {
     "output_type": "execute_result",
     "data": {
      "text/plain": "       author  rating                                               name\n0   A_A_Milne   4.365  [Winnie-the-Pooh, The House at Pooh Corner, Th...\n1  A_G_Howard   4.020                      [Splintered (Splintered, #1)]\n2  A_J_Cronin   4.220                          [The Keys of the Kingdom]\n3  A_J_Jacobs   3.750                    [The Year of Living Biblically]\n4    A_J_Salt   4.940                  [Nik Nassa & the Mark of Destiny]",
      "text/html": "<div>\n<style scoped>\n    .dataframe tbody tr th:only-of-type {\n        vertical-align: middle;\n    }\n\n    .dataframe tbody tr th {\n        vertical-align: top;\n    }\n\n    .dataframe thead th {\n        text-align: right;\n    }\n</style>\n<table border=\"1\" class=\"dataframe\">\n  <thead>\n    <tr style=\"text-align: right;\">\n      <th></th>\n      <th>author</th>\n      <th>rating</th>\n      <th>name</th>\n    </tr>\n  </thead>\n  <tbody>\n    <tr>\n      <td>0</td>\n      <td>A_A_Milne</td>\n      <td>4.365</td>\n      <td>[Winnie-the-Pooh, The House at Pooh Corner, Th...</td>\n    </tr>\n    <tr>\n      <td>1</td>\n      <td>A_G_Howard</td>\n      <td>4.020</td>\n      <td>[Splintered (Splintered, #1)]</td>\n    </tr>\n    <tr>\n      <td>2</td>\n      <td>A_J_Cronin</td>\n      <td>4.220</td>\n      <td>[The Keys of the Kingdom]</td>\n    </tr>\n    <tr>\n      <td>3</td>\n      <td>A_J_Jacobs</td>\n      <td>3.750</td>\n      <td>[The Year of Living Biblically]</td>\n    </tr>\n    <tr>\n      <td>4</td>\n      <td>A_J_Salt</td>\n      <td>4.940</td>\n      <td>[Nik Nassa &amp; the Mark of Destiny]</td>\n    </tr>\n  </tbody>\n</table>\n</div>"
     },
     "metadata": {},
     "execution_count": 47
    }
   ],
   "source": [
    "# split the column string and make a list of string book names\n",
    "authors['name'] = authors.name.str.split('|')\n",
    "authors.head()"
   ]
  },
  {
   "cell_type": "code",
   "execution_count": 48,
   "metadata": {},
   "outputs": [
    {
     "output_type": "execute_result",
     "data": {
      "text/plain": "6"
     },
     "metadata": {},
     "execution_count": 48
    }
   ],
   "source": [
    "# count the books - create new column\n",
    "len(authors.name[0])"
   ]
  },
  {
   "cell_type": "code",
   "execution_count": 49,
   "metadata": {},
   "outputs": [
    {
     "output_type": "execute_result",
     "data": {
      "text/plain": "                     author    rating                                               name  num_books\n0                 A_A_Milne  4.365000  [Winnie-the-Pooh, The House at Pooh Corner, Th...          6\n1                A_G_Howard  4.020000                      [Splintered (Splintered, #1)]          1\n2                A_J_Cronin  4.220000                          [The Keys of the Kingdom]          1\n3                A_J_Jacobs  3.750000                    [The Year of Living Biblically]          1\n4                  A_J_Salt  4.940000                  [Nik Nassa & the Mark of Destiny]          1\n...                     ...       ...                                                ...        ...\n2640                      _  3.988095  [Ø¹Ø²Ø§Ø²ÙÙ, Ø«ÙØ§Ø«ÙØ© ØºØ±ÙØ§Ø·Ø©, ØªØ±...         42\n2641          _gota_Krist_f  4.340000           [The Notebook, The Proof, The Third Lie]          1\n2642             _mile_Zola  3.990000  [Germinal (Les Rougon-Macquart, #13), L'Assomm...          4\n2643  _ric_Emmanuel_Schmitt  4.160000                            [Oscar et la dame rose]          1\n2644         _sne_Seierstad  3.740000                          [The Bookseller of Kabul]          1\n\n[2645 rows x 4 columns]",
      "text/html": "<div>\n<style scoped>\n    .dataframe tbody tr th:only-of-type {\n        vertical-align: middle;\n    }\n\n    .dataframe tbody tr th {\n        vertical-align: top;\n    }\n\n    .dataframe thead th {\n        text-align: right;\n    }\n</style>\n<table border=\"1\" class=\"dataframe\">\n  <thead>\n    <tr style=\"text-align: right;\">\n      <th></th>\n      <th>author</th>\n      <th>rating</th>\n      <th>name</th>\n      <th>num_books</th>\n    </tr>\n  </thead>\n  <tbody>\n    <tr>\n      <td>0</td>\n      <td>A_A_Milne</td>\n      <td>4.365000</td>\n      <td>[Winnie-the-Pooh, The House at Pooh Corner, Th...</td>\n      <td>6</td>\n    </tr>\n    <tr>\n      <td>1</td>\n      <td>A_G_Howard</td>\n      <td>4.020000</td>\n      <td>[Splintered (Splintered, #1)]</td>\n      <td>1</td>\n    </tr>\n    <tr>\n      <td>2</td>\n      <td>A_J_Cronin</td>\n      <td>4.220000</td>\n      <td>[The Keys of the Kingdom]</td>\n      <td>1</td>\n    </tr>\n    <tr>\n      <td>3</td>\n      <td>A_J_Jacobs</td>\n      <td>3.750000</td>\n      <td>[The Year of Living Biblically]</td>\n      <td>1</td>\n    </tr>\n    <tr>\n      <td>4</td>\n      <td>A_J_Salt</td>\n      <td>4.940000</td>\n      <td>[Nik Nassa &amp; the Mark of Destiny]</td>\n      <td>1</td>\n    </tr>\n    <tr>\n      <td>...</td>\n      <td>...</td>\n      <td>...</td>\n      <td>...</td>\n      <td>...</td>\n    </tr>\n    <tr>\n      <td>2640</td>\n      <td>_</td>\n      <td>3.988095</td>\n      <td>[Ø¹Ø²Ø§Ø²ÙÙ, Ø«ÙØ§Ø«ÙØ© ØºØ±ÙØ§Ø·Ø©, ØªØ±...</td>\n      <td>42</td>\n    </tr>\n    <tr>\n      <td>2641</td>\n      <td>_gota_Krist_f</td>\n      <td>4.340000</td>\n      <td>[The Notebook, The Proof, The Third Lie]</td>\n      <td>1</td>\n    </tr>\n    <tr>\n      <td>2642</td>\n      <td>_mile_Zola</td>\n      <td>3.990000</td>\n      <td>[Germinal (Les Rougon-Macquart, #13), L'Assomm...</td>\n      <td>4</td>\n    </tr>\n    <tr>\n      <td>2643</td>\n      <td>_ric_Emmanuel_Schmitt</td>\n      <td>4.160000</td>\n      <td>[Oscar et la dame rose]</td>\n      <td>1</td>\n    </tr>\n    <tr>\n      <td>2644</td>\n      <td>_sne_Seierstad</td>\n      <td>3.740000</td>\n      <td>[The Bookseller of Kabul]</td>\n      <td>1</td>\n    </tr>\n  </tbody>\n</table>\n<p>2645 rows × 4 columns</p>\n</div>"
     },
     "metadata": {},
     "execution_count": 49
    }
   ],
   "source": [
    "authors['num_books'] = authors['name'].str.len()\n",
    "authors"
   ]
  },
  {
   "cell_type": "code",
   "execution_count": 50,
   "metadata": {},
   "outputs": [
    {
     "output_type": "execute_result",
     "data": {
      "text/plain": "author                                            Stephen_King\nrating                                                 3.91875\nname         [The Stand, The Shining (The Shining #1), It, ...\nnum_books                                                   56\nName: 2349, dtype: object"
     },
     "metadata": {},
     "execution_count": 50
    }
   ],
   "source": [
    "# sort for more prolific\n",
    "authors.sort_values(by='num_books', ascending=False).iloc[0]"
   ]
  },
  {
   "cell_type": "markdown",
   "metadata": {},
   "source": [
    "#### Winner is Stephen King with 56 books! OMG!!!"
   ]
  },
  {
   "cell_type": "markdown",
   "metadata": {},
   "source": [
    "Perhaps you want more detailed info..."
   ]
  },
  {
   "cell_type": "code",
   "execution_count": 51,
   "metadata": {
    "scrolled": true
   },
   "outputs": [
    {
     "output_type": "execute_result",
     "data": {
      "text/plain": "                      rating                                                        rating_count                                                                             review_count                                                                      year                                                                   \n                       count      mean       std   min     25%    50%     75%   max        count          mean           std      min       25%      50%       75%       max        count         mean          std     min      25%     50%      75%     max count         mean         std     min      25%     50%      75%     max\nauthor                                                                                                                                                                                                                                                                                                                                \nA_A_Milne                6.0  4.365000  0.078677  4.25  4.3275  4.365  4.4025  4.48          6.0  47842.333333  57135.314010    544.0  15559.50  30547.0  50401.25  157833.0          6.0   543.000000   682.473150     1.0   219.50   309.5   499.25  1886.0   6.0  1944.166667   29.294482  1926.0  1926.25  1927.5  1952.75  1997.0\nA_G_Howard               1.0  4.020000       NaN  4.02  4.0200  4.020  4.0200  4.02          1.0  17073.000000           NaN  17073.0  17073.00  17073.0  17073.00   17073.0          1.0  3194.000000          NaN  3194.0  3194.00  3194.0  3194.00  3194.0   1.0  2013.000000         NaN  2013.0  2013.00  2013.0  2013.00  2013.0\nA_J_Cronin               1.0  4.220000       NaN  4.22  4.2200  4.220  4.2200  4.22          1.0   1015.000000           NaN   1015.0   1015.00   1015.0   1015.00    1015.0          1.0   109.000000          NaN   109.0   109.00   109.0   109.00   109.0   1.0  1941.000000         NaN  1941.0  1941.00  1941.0  1941.00  1941.0\nA_J_Jacobs               1.0  3.750000       NaN  3.75  3.7500  3.750  3.7500  3.75          1.0  39489.000000           NaN  39489.0  39489.00  39489.0  39489.00   39489.0          1.0  4371.000000          NaN  4371.0  4371.00  4371.0  4371.00  4371.0   1.0  2007.000000         NaN  2007.0  2007.00  2007.0  2007.00  2007.0\nA_J_Salt                 1.0  4.940000       NaN  4.94  4.9400  4.940  4.9400  4.94          1.0     16.000000           NaN     16.0     16.00     16.0     16.00      16.0          1.0     6.000000          NaN     6.0     6.00     6.0     6.00     6.0   1.0  2014.000000         NaN  2014.0  2014.00  2014.0  2014.00  2014.0\n...                      ...       ...       ...   ...     ...    ...     ...   ...          ...           ...           ...      ...       ...      ...       ...       ...          ...          ...          ...     ...      ...     ...      ...     ...   ...          ...         ...     ...      ...     ...      ...     ...\n_                       42.0  3.988095  0.301211  3.15  3.8000  4.075  4.2075  4.47         42.0  11574.642857   9368.218450     10.0   4724.00   8709.5  15572.75   39302.0         42.0  1437.214286  1216.421371     1.0   534.75  1020.5  1745.75  4785.0  42.0  1998.904762   18.721071  1941.0  1994.75  2007.0  2010.75  2014.0\n_gota_Krist_f            1.0  4.340000       NaN  4.34  4.3400  4.340  4.3400  4.34          1.0   2628.000000           NaN   2628.0   2628.00   2628.0   2628.00    2628.0          1.0   243.000000          NaN   243.0   243.00   243.0   243.00   243.0   1.0  1986.000000         NaN  1986.0  1986.00  1986.0  1986.00  1986.0\n_mile_Zola               4.0  3.990000  0.100995  3.84  3.9750  4.035  4.0500  4.05          4.0   8358.250000   4553.226942   3594.0   5181.75   8095.0  11271.50   13649.0          4.0   283.750000   171.069917   125.0   189.50   243.5   337.75   523.0   4.0  1652.500000  456.345264   968.0  1649.75  1878.5  1881.25  1885.0\n_ric_Emmanuel_Schmitt    1.0  4.160000       NaN  4.16  4.1600  4.160  4.1600  4.16          1.0   6439.000000           NaN   6439.0   6439.00   6439.0   6439.00    6439.0          1.0   424.000000          NaN   424.0   424.00   424.0   424.00   424.0   1.0  2002.000000         NaN  2002.0  2002.00  2002.0  2002.00  2002.0\n_sne_Seierstad           1.0  3.740000       NaN  3.74  3.7400  3.740  3.7400  3.74          1.0  24993.000000           NaN  24993.0  24993.00  24993.0  24993.00   24993.0          1.0  2088.000000          NaN  2088.0  2088.00  2088.0  2088.00  2088.0   1.0  2002.000000         NaN  2002.0  2002.00  2002.0  2002.00  2002.0\n\n[2645 rows x 32 columns]",
      "text/html": "<div>\n<style scoped>\n    .dataframe tbody tr th:only-of-type {\n        vertical-align: middle;\n    }\n\n    .dataframe tbody tr th {\n        vertical-align: top;\n    }\n\n    .dataframe thead tr th {\n        text-align: left;\n    }\n\n    .dataframe thead tr:last-of-type th {\n        text-align: right;\n    }\n</style>\n<table border=\"1\" class=\"dataframe\">\n  <thead>\n    <tr>\n      <th></th>\n      <th colspan=\"8\" halign=\"left\">rating</th>\n      <th colspan=\"8\" halign=\"left\">rating_count</th>\n      <th colspan=\"8\" halign=\"left\">review_count</th>\n      <th colspan=\"8\" halign=\"left\">year</th>\n    </tr>\n    <tr>\n      <th></th>\n      <th>count</th>\n      <th>mean</th>\n      <th>std</th>\n      <th>min</th>\n      <th>25%</th>\n      <th>50%</th>\n      <th>75%</th>\n      <th>max</th>\n      <th>count</th>\n      <th>mean</th>\n      <th>std</th>\n      <th>min</th>\n      <th>25%</th>\n      <th>50%</th>\n      <th>75%</th>\n      <th>max</th>\n      <th>count</th>\n      <th>mean</th>\n      <th>std</th>\n      <th>min</th>\n      <th>25%</th>\n      <th>50%</th>\n      <th>75%</th>\n      <th>max</th>\n      <th>count</th>\n      <th>mean</th>\n      <th>std</th>\n      <th>min</th>\n      <th>25%</th>\n      <th>50%</th>\n      <th>75%</th>\n      <th>max</th>\n    </tr>\n    <tr>\n      <th>author</th>\n      <th></th>\n      <th></th>\n      <th></th>\n      <th></th>\n      <th></th>\n      <th></th>\n      <th></th>\n      <th></th>\n      <th></th>\n      <th></th>\n      <th></th>\n      <th></th>\n      <th></th>\n      <th></th>\n      <th></th>\n      <th></th>\n      <th></th>\n      <th></th>\n      <th></th>\n      <th></th>\n      <th></th>\n      <th></th>\n      <th></th>\n      <th></th>\n      <th></th>\n      <th></th>\n      <th></th>\n      <th></th>\n      <th></th>\n      <th></th>\n      <th></th>\n      <th></th>\n    </tr>\n  </thead>\n  <tbody>\n    <tr>\n      <td>A_A_Milne</td>\n      <td>6.0</td>\n      <td>4.365000</td>\n      <td>0.078677</td>\n      <td>4.25</td>\n      <td>4.3275</td>\n      <td>4.365</td>\n      <td>4.4025</td>\n      <td>4.48</td>\n      <td>6.0</td>\n      <td>47842.333333</td>\n      <td>57135.314010</td>\n      <td>544.0</td>\n      <td>15559.50</td>\n      <td>30547.0</td>\n      <td>50401.25</td>\n      <td>157833.0</td>\n      <td>6.0</td>\n      <td>543.000000</td>\n      <td>682.473150</td>\n      <td>1.0</td>\n      <td>219.50</td>\n      <td>309.5</td>\n      <td>499.25</td>\n      <td>1886.0</td>\n      <td>6.0</td>\n      <td>1944.166667</td>\n      <td>29.294482</td>\n      <td>1926.0</td>\n      <td>1926.25</td>\n      <td>1927.5</td>\n      <td>1952.75</td>\n      <td>1997.0</td>\n    </tr>\n    <tr>\n      <td>A_G_Howard</td>\n      <td>1.0</td>\n      <td>4.020000</td>\n      <td>NaN</td>\n      <td>4.02</td>\n      <td>4.0200</td>\n      <td>4.020</td>\n      <td>4.0200</td>\n      <td>4.02</td>\n      <td>1.0</td>\n      <td>17073.000000</td>\n      <td>NaN</td>\n      <td>17073.0</td>\n      <td>17073.00</td>\n      <td>17073.0</td>\n      <td>17073.00</td>\n      <td>17073.0</td>\n      <td>1.0</td>\n      <td>3194.000000</td>\n      <td>NaN</td>\n      <td>3194.0</td>\n      <td>3194.00</td>\n      <td>3194.0</td>\n      <td>3194.00</td>\n      <td>3194.0</td>\n      <td>1.0</td>\n      <td>2013.000000</td>\n      <td>NaN</td>\n      <td>2013.0</td>\n      <td>2013.00</td>\n      <td>2013.0</td>\n      <td>2013.00</td>\n      <td>2013.0</td>\n    </tr>\n    <tr>\n      <td>A_J_Cronin</td>\n      <td>1.0</td>\n      <td>4.220000</td>\n      <td>NaN</td>\n      <td>4.22</td>\n      <td>4.2200</td>\n      <td>4.220</td>\n      <td>4.2200</td>\n      <td>4.22</td>\n      <td>1.0</td>\n      <td>1015.000000</td>\n      <td>NaN</td>\n      <td>1015.0</td>\n      <td>1015.00</td>\n      <td>1015.0</td>\n      <td>1015.00</td>\n      <td>1015.0</td>\n      <td>1.0</td>\n      <td>109.000000</td>\n      <td>NaN</td>\n      <td>109.0</td>\n      <td>109.00</td>\n      <td>109.0</td>\n      <td>109.00</td>\n      <td>109.0</td>\n      <td>1.0</td>\n      <td>1941.000000</td>\n      <td>NaN</td>\n      <td>1941.0</td>\n      <td>1941.00</td>\n      <td>1941.0</td>\n      <td>1941.00</td>\n      <td>1941.0</td>\n    </tr>\n    <tr>\n      <td>A_J_Jacobs</td>\n      <td>1.0</td>\n      <td>3.750000</td>\n      <td>NaN</td>\n      <td>3.75</td>\n      <td>3.7500</td>\n      <td>3.750</td>\n      <td>3.7500</td>\n      <td>3.75</td>\n      <td>1.0</td>\n      <td>39489.000000</td>\n      <td>NaN</td>\n      <td>39489.0</td>\n      <td>39489.00</td>\n      <td>39489.0</td>\n      <td>39489.00</td>\n      <td>39489.0</td>\n      <td>1.0</td>\n      <td>4371.000000</td>\n      <td>NaN</td>\n      <td>4371.0</td>\n      <td>4371.00</td>\n      <td>4371.0</td>\n      <td>4371.00</td>\n      <td>4371.0</td>\n      <td>1.0</td>\n      <td>2007.000000</td>\n      <td>NaN</td>\n      <td>2007.0</td>\n      <td>2007.00</td>\n      <td>2007.0</td>\n      <td>2007.00</td>\n      <td>2007.0</td>\n    </tr>\n    <tr>\n      <td>A_J_Salt</td>\n      <td>1.0</td>\n      <td>4.940000</td>\n      <td>NaN</td>\n      <td>4.94</td>\n      <td>4.9400</td>\n      <td>4.940</td>\n      <td>4.9400</td>\n      <td>4.94</td>\n      <td>1.0</td>\n      <td>16.000000</td>\n      <td>NaN</td>\n      <td>16.0</td>\n      <td>16.00</td>\n      <td>16.0</td>\n      <td>16.00</td>\n      <td>16.0</td>\n      <td>1.0</td>\n      <td>6.000000</td>\n      <td>NaN</td>\n      <td>6.0</td>\n      <td>6.00</td>\n      <td>6.0</td>\n      <td>6.00</td>\n      <td>6.0</td>\n      <td>1.0</td>\n      <td>2014.000000</td>\n      <td>NaN</td>\n      <td>2014.0</td>\n      <td>2014.00</td>\n      <td>2014.0</td>\n      <td>2014.00</td>\n      <td>2014.0</td>\n    </tr>\n    <tr>\n      <td>...</td>\n      <td>...</td>\n      <td>...</td>\n      <td>...</td>\n      <td>...</td>\n      <td>...</td>\n      <td>...</td>\n      <td>...</td>\n      <td>...</td>\n      <td>...</td>\n      <td>...</td>\n      <td>...</td>\n      <td>...</td>\n      <td>...</td>\n      <td>...</td>\n      <td>...</td>\n      <td>...</td>\n      <td>...</td>\n      <td>...</td>\n      <td>...</td>\n      <td>...</td>\n      <td>...</td>\n      <td>...</td>\n      <td>...</td>\n      <td>...</td>\n      <td>...</td>\n      <td>...</td>\n      <td>...</td>\n      <td>...</td>\n      <td>...</td>\n      <td>...</td>\n      <td>...</td>\n      <td>...</td>\n    </tr>\n    <tr>\n      <td>_</td>\n      <td>42.0</td>\n      <td>3.988095</td>\n      <td>0.301211</td>\n      <td>3.15</td>\n      <td>3.8000</td>\n      <td>4.075</td>\n      <td>4.2075</td>\n      <td>4.47</td>\n      <td>42.0</td>\n      <td>11574.642857</td>\n      <td>9368.218450</td>\n      <td>10.0</td>\n      <td>4724.00</td>\n      <td>8709.5</td>\n      <td>15572.75</td>\n      <td>39302.0</td>\n      <td>42.0</td>\n      <td>1437.214286</td>\n      <td>1216.421371</td>\n      <td>1.0</td>\n      <td>534.75</td>\n      <td>1020.5</td>\n      <td>1745.75</td>\n      <td>4785.0</td>\n      <td>42.0</td>\n      <td>1998.904762</td>\n      <td>18.721071</td>\n      <td>1941.0</td>\n      <td>1994.75</td>\n      <td>2007.0</td>\n      <td>2010.75</td>\n      <td>2014.0</td>\n    </tr>\n    <tr>\n      <td>_gota_Krist_f</td>\n      <td>1.0</td>\n      <td>4.340000</td>\n      <td>NaN</td>\n      <td>4.34</td>\n      <td>4.3400</td>\n      <td>4.340</td>\n      <td>4.3400</td>\n      <td>4.34</td>\n      <td>1.0</td>\n      <td>2628.000000</td>\n      <td>NaN</td>\n      <td>2628.0</td>\n      <td>2628.00</td>\n      <td>2628.0</td>\n      <td>2628.00</td>\n      <td>2628.0</td>\n      <td>1.0</td>\n      <td>243.000000</td>\n      <td>NaN</td>\n      <td>243.0</td>\n      <td>243.00</td>\n      <td>243.0</td>\n      <td>243.00</td>\n      <td>243.0</td>\n      <td>1.0</td>\n      <td>1986.000000</td>\n      <td>NaN</td>\n      <td>1986.0</td>\n      <td>1986.00</td>\n      <td>1986.0</td>\n      <td>1986.00</td>\n      <td>1986.0</td>\n    </tr>\n    <tr>\n      <td>_mile_Zola</td>\n      <td>4.0</td>\n      <td>3.990000</td>\n      <td>0.100995</td>\n      <td>3.84</td>\n      <td>3.9750</td>\n      <td>4.035</td>\n      <td>4.0500</td>\n      <td>4.05</td>\n      <td>4.0</td>\n      <td>8358.250000</td>\n      <td>4553.226942</td>\n      <td>3594.0</td>\n      <td>5181.75</td>\n      <td>8095.0</td>\n      <td>11271.50</td>\n      <td>13649.0</td>\n      <td>4.0</td>\n      <td>283.750000</td>\n      <td>171.069917</td>\n      <td>125.0</td>\n      <td>189.50</td>\n      <td>243.5</td>\n      <td>337.75</td>\n      <td>523.0</td>\n      <td>4.0</td>\n      <td>1652.500000</td>\n      <td>456.345264</td>\n      <td>968.0</td>\n      <td>1649.75</td>\n      <td>1878.5</td>\n      <td>1881.25</td>\n      <td>1885.0</td>\n    </tr>\n    <tr>\n      <td>_ric_Emmanuel_Schmitt</td>\n      <td>1.0</td>\n      <td>4.160000</td>\n      <td>NaN</td>\n      <td>4.16</td>\n      <td>4.1600</td>\n      <td>4.160</td>\n      <td>4.1600</td>\n      <td>4.16</td>\n      <td>1.0</td>\n      <td>6439.000000</td>\n      <td>NaN</td>\n      <td>6439.0</td>\n      <td>6439.00</td>\n      <td>6439.0</td>\n      <td>6439.00</td>\n      <td>6439.0</td>\n      <td>1.0</td>\n      <td>424.000000</td>\n      <td>NaN</td>\n      <td>424.0</td>\n      <td>424.00</td>\n      <td>424.0</td>\n      <td>424.00</td>\n      <td>424.0</td>\n      <td>1.0</td>\n      <td>2002.000000</td>\n      <td>NaN</td>\n      <td>2002.0</td>\n      <td>2002.00</td>\n      <td>2002.0</td>\n      <td>2002.00</td>\n      <td>2002.0</td>\n    </tr>\n    <tr>\n      <td>_sne_Seierstad</td>\n      <td>1.0</td>\n      <td>3.740000</td>\n      <td>NaN</td>\n      <td>3.74</td>\n      <td>3.7400</td>\n      <td>3.740</td>\n      <td>3.7400</td>\n      <td>3.74</td>\n      <td>1.0</td>\n      <td>24993.000000</td>\n      <td>NaN</td>\n      <td>24993.0</td>\n      <td>24993.00</td>\n      <td>24993.0</td>\n      <td>24993.00</td>\n      <td>24993.0</td>\n      <td>1.0</td>\n      <td>2088.000000</td>\n      <td>NaN</td>\n      <td>2088.0</td>\n      <td>2088.00</td>\n      <td>2088.0</td>\n      <td>2088.00</td>\n      <td>2088.0</td>\n      <td>1.0</td>\n      <td>2002.000000</td>\n      <td>NaN</td>\n      <td>2002.0</td>\n      <td>2002.00</td>\n      <td>2002.0</td>\n      <td>2002.00</td>\n      <td>2002.0</td>\n    </tr>\n  </tbody>\n</table>\n<p>2645 rows × 32 columns</p>\n</div>"
     },
     "metadata": {},
     "execution_count": 51
    }
   ],
   "source": [
    "dfgb_author[['rating', 'rating_count', 'review_count', 'year']].describe()"
   ]
  },
  {
   "cell_type": "markdown",
   "metadata": {},
   "source": [
    "You can also access a `groupby` dictionary style."
   ]
  },
  {
   "cell_type": "code",
   "execution_count": 53,
   "metadata": {
    "scrolled": false
   },
   "outputs": [],
   "source": [
    "ratingdict = {}\n",
    "for author, subset in dfgb_author:\n",
    "    ratingdict[author] = (subset['rating'].mean(), subset['rating'].std())\n",
    "#ratingdict"
   ]
  },
  {
   "cell_type": "markdown",
   "metadata": {},
   "source": [
    "<div class=\"exercise\"><b>Exercise</b></div>\n",
    "\n",
    "Lets get the best-rated book(s) for every year in our dataframe."
   ]
  },
  {
   "cell_type": "code",
   "execution_count": 88,
   "metadata": {},
   "outputs": [
    {
     "output_type": "execute_result",
     "data": {
      "text/plain": "year\n2010                                  The Years Distilled\n2011                                       Family Secrets\n2012    Abstraction In Theory - Laws Of Physical Trans...\n2013                                          Blade Heart\n2014                 Untainted (Photographer Trilogy, #3)\nName: name, dtype: object"
     },
     "metadata": {},
     "execution_count": 88
    }
   ],
   "source": [
    "# Simple solution that takes \n",
    "df.sort_values(by = ['year','rating'], ascending = [True, True]). groupby('year').last().tail()['name']"
   ]
  },
  {
   "cell_type": "code",
   "execution_count": null,
   "metadata": {},
   "outputs": [],
   "source": []
  }
 ],
 "metadata": {
  "anaconda-cloud": {},
  "kernelspec": {
   "display_name": "Python 3",
   "language": "python",
   "name": "python3"
  },
  "language_info": {
   "codemirror_mode": {
    "name": "ipython",
    "version": 3
   },
   "file_extension": ".py",
   "mimetype": "text/x-python",
   "name": "python",
   "nbconvert_exporter": "python",
   "pygments_lexer": "ipython3",
   "version": "3.7.3-final"
  }
 },
 "nbformat": 4,
 "nbformat_minor": 1
}